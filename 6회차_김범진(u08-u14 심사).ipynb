{
  "nbformat": 4,
  "nbformat_minor": 0,
  "metadata": {
    "colab": {
      "name": "6회차_김범진.ipynb",
      "provenance": [],
      "collapsed_sections": []
    },
    "kernelspec": {
      "name": "python3",
      "display_name": "Python 3"
    },
    "language_info": {
      "name": "python"
    }
  },
  "cells": [
    {
      "cell_type": "markdown",
      "metadata": {
        "id": "Fq-9pk5nxSX0"
      },
      "source": [
        "# 21.07.28 과제_-_6회차 김범진\n",
        "-멀티컴퍼스 빅데이터 기반 지능형 서비스 개발"
      ]
    },
    {
      "cell_type": "markdown",
      "metadata": {
        "id": "DWcqCXJGxbpJ"
      },
      "source": [
        "## 8.5 심사문제: 합격 여부 출력하기\n",
        "- 표준 입력으로 국어, 영어, 수학, 과학 점수가 입력됩니다. <br>국어는 90점 이상, 영어는 80점 초과, 수학은 85점 초과, 과학은 80점 이상일 때 합격이라고 정했습니다(한 과목이라도 조건에 만족하지 않으면 불합격). <br>다음 소스 코드를 완성하여 합격이면 True, 불합격이면 False가 출력되게 만드세요(input에서 안내 문자열은 출력하지 않아야 합니다)."
      ]
    },
    {
      "cell_type": "code",
      "metadata": {
        "id": "lejCYXvAxRCv",
        "colab": {
          "base_uri": "https://localhost:8080/"
        },
        "outputId": "80d3b69b-8e98-4b57-8681-7b3b919e667d"
      },
      "source": [
        "korean, english, math, science = map(int, input().split())\n",
        "print(korean >= 90 and english > 80 and math > 85 and science >= 80)"
      ],
      "execution_count": null,
      "outputs": [
        {
          "output_type": "stream",
          "text": [
            "90 90 90 90\n",
            "True\n"
          ],
          "name": "stdout"
        }
      ]
    },
    {
      "cell_type": "markdown",
      "metadata": {
        "id": "9i5Jn7CZx1QT"
      },
      "source": [
        "## 9.4 심사문제: 여러 줄로 된 문자열 사용하기\n",
        "- 다음 소스 코드를 완성하여 실행 결과대로 문자열이 출력되게 만드세요.\n",
        "- 결과 <br>'Python' is a \"programming language\"<br>\n",
        "that lets you work quickly<br>\n",
        "and<br>\n",
        "integrate systems more effectively."
      ]
    },
    {
      "cell_type": "code",
      "metadata": {
        "colab": {
          "base_uri": "https://localhost:8080/"
        },
        "id": "DOfS73P-x1FZ",
        "outputId": "1572224d-541e-463a-c819-2bef048f722d"
      },
      "source": [
        "s = \"\"\"'Python' is a \"programming language\"\n",
        "that lets you work quickly\n",
        "and\n",
        "integrate systems more effectively.\"\"\"\n",
        "\n",
        "print(s)"
      ],
      "execution_count": null,
      "outputs": [
        {
          "output_type": "stream",
          "text": [
            "'Python' is a \"programming language\"\n",
            "that lets you work quickly\n",
            "and\n",
            "integrate systems more effectively.\n"
          ],
          "name": "stdout"
        }
      ]
    },
    {
      "cell_type": "markdown",
      "metadata": {
        "id": "FscnkuOPyYdn"
      },
      "source": [
        "## 10.5 심사문제: range로 튜플 만들기\n",
        "- 표준 입력으로 정수가 입력됩니다. <br> range의 시작하는 숫자는 -10, 끝나는 숫자는 10이며 입력된 정수만큼 증가하는 숫자가 들어가도록 튜플을 만들고, 해당 튜플을 출력하는 프로그램을 만드세요(input에서 안내 문자열은 출력하지 않아야 합니다)."
      ]
    },
    {
      "cell_type": "code",
      "metadata": {
        "colab": {
          "base_uri": "https://localhost:8080/"
        },
        "id": "H06-a3iByksz",
        "outputId": "0ff884e8-45ee-450f-cc99-4a15731f2d88"
      },
      "source": [
        "input_num = int(input())\n",
        "\n",
        "input_tuple = tuple(range(-10, 10, input_num))\n",
        "\n",
        "print(input_tuple)"
      ],
      "execution_count": 10,
      "outputs": [
        {
          "output_type": "stream",
          "text": [
            "3\n",
            "(-10, -7, -4, -1, 2, 5, 8)\n"
          ],
          "name": "stdout"
        }
      ]
    },
    {
      "cell_type": "markdown",
      "metadata": {
        "id": "E-rKHv8ezzc-"
      },
      "source": [
        "## 11.8 심사문제: 리스트의 마지막 부분 삭제하기\n",
        "- 표준 입력으로 숫자 또는 문자열 여러 개가 입력되어 리스트 x에 저장됩니다(입력되는 숫자 또는 문자열의 개수는 정해져 있지 않음). <br>다음 소스 코드를 완성하여 리스트 x의 마지막 요소 5개를 삭제한 뒤 튜플로 출력되게 만드세요.\n"
      ]
    },
    {
      "cell_type": "code",
      "metadata": {
        "colab": {
          "base_uri": "https://localhost:8080/"
        },
        "id": "Sigu0vrE0D0o",
        "outputId": "497f6fe5-0c6e-4473-e520-995a50b06045"
      },
      "source": [
        "x = input().split()\n",
        "\n",
        "del x[-5:]\n",
        "\n",
        "print(tuple(x))"
      ],
      "execution_count": null,
      "outputs": [
        {
          "output_type": "stream",
          "text": [
            "1 2 3 4 5 6 7 8 9 10\n",
            "('1', '2', '3', '4', '5')\n"
          ],
          "name": "stdout"
        }
      ]
    },
    {
      "cell_type": "markdown",
      "metadata": {
        "id": "qSzTCV2f1-am"
      },
      "source": [
        "## 11.9 심사문제: 문자열에서 인덱스가 홀수인 문자와 짝수인 문자 연결하기\n",
        "- 표준 입력으로 문자열 두 개가 각 줄에 입력됩니다(문자열의 길이는 정해져 있지 않음). <br>첫 번째 문자열에서 인덱스가 홀수인 문자와 두 번째 문자열에서 인덱스가 짝수인 문자를 연결하여 출력하는 프로그램을 만드세요(input에서 안내 문자열은 출력하지 않아야 합니다). <br>연결 순서는 첫 번째 문자열, 두 번째 문자열 순입니다. <br>그리고 0은 짝수로 처리합니다."
      ]
    },
    {
      "cell_type": "code",
      "metadata": {
        "colab": {
          "base_uri": "https://localhost:8080/"
        },
        "id": "s4_NMzxh2GN9",
        "outputId": "9f2e805d-8e67-4cfe-8a13-331adea9a847"
      },
      "source": [
        "a = input()\n",
        "b = input()\n",
        "\n",
        "slice_a = a[1::2]\n",
        "slice_b = b[::2]\n",
        "\n",
        "print(slice_a + slice_b)"
      ],
      "execution_count": null,
      "outputs": [
        {
          "output_type": "stream",
          "text": [
            "python\n",
            "python\n",
            "yhnpto\n"
          ],
          "name": "stdout"
        }
      ]
    },
    {
      "cell_type": "markdown",
      "metadata": {
        "id": "vDDDDBH03rH2"
      },
      "source": [
        "## 12.5 심사문제: 딕셔너리에 게임 캐릭터 능력치 저장하기\n",
        "- 표준 입력으로 문자열 여러 개와 숫자(실수) 여러 개가 두 줄로 입력됩니다. <br>입력된 첫 번째 줄은 키, 두 번째 줄은 값으로 하여 딕셔너리를 생성한 뒤 딕셔너리를 출력하는 프로그램을 만드세요. <br>input().split()의 결과를 변수 한 개에 저장하면 리스트로 저장됩니다."
      ]
    },
    {
      "cell_type": "code",
      "metadata": {
        "colab": {
          "base_uri": "https://localhost:8080/"
        },
        "id": "HlR7mDiS3xh9",
        "outputId": "8c6a513e-f0bc-40ea-936b-4c1e6f4bf721"
      },
      "source": [
        "A = input().split()\n",
        "B = list(map(float,input().split()))\n",
        "\n",
        "d = dict(zip(A, B))\n",
        "\n",
        "print(d)"
      ],
      "execution_count": 2,
      "outputs": [
        {
          "output_type": "stream",
          "text": [
            "q w\n",
            "1 2\n",
            "{'q': 1.0, 'w': 2.0}\n"
          ],
          "name": "stdout"
        }
      ]
    },
    {
      "cell_type": "markdown",
      "metadata": {
        "id": "7RzZ3CI9_fBl"
      },
      "source": [
        "## 13.7 심사문제: 온라인 할인 쿠폰 시스템 만들기\n",
        "- 표준 입력으로 가격(정수)과 쿠폰 이름이 각 줄에 입력됩니다. <br>Cash3000 쿠폰은 3,000원, Cash5000 쿠폰은 5,000원을 할인합니다. <br>쿠폰에 따라 할인된 가격을 출력하는 프로그램을 만드세요(input에서 안내 문자열은 출력하지 않아야 합니다)."
      ]
    },
    {
      "cell_type": "code",
      "metadata": {
        "colab": {
          "base_uri": "https://localhost:8080/"
        },
        "id": "j4aSpFgVCO8T",
        "outputId": "88708726-ef8b-4d22-8082-5306236114c1"
      },
      "source": [
        "price = int(input())\n",
        "coupon = input()\n",
        "\n",
        "if coupon == 'Cash3000':\n",
        "    price -= 3000\n",
        "if coupon == 'Cash5000':\n",
        "    price -= 5000\n",
        "\n",
        "print(price)"
      ],
      "execution_count": 8,
      "outputs": [
        {
          "output_type": "stream",
          "text": [
            "67900\n",
            "cash5000\n",
            "62900\n"
          ],
          "name": "stdout"
        }
      ]
    },
    {
      "cell_type": "markdown",
      "metadata": {
        "id": "7gYmJTKRC2Gg"
      },
      "source": [
        "## 14.7 심사문제: 합격 여부 판단하기\n",
        "- 표준 입력으로 국어, 영어, 수학, 과학 점수가 입력됩니다. <br>여기서 네 과목의 평균 점수가 80점 이상일 때 합격이라고 정했습니다. <br>평균 점수에 따라 '합격', '불합격'을 출력하는 프로그램을 만드세요(input에서 안내 문자열은 출력하지 않아야 합니다). <br>단, 점수는 0점부터 100점까지만 입력받을 수 있으며 범위를 벗어났다면 '잘못된 점수'를 출력하고 합격, 불합격 여부는 출력하지 않아야 합니다."
      ]
    },
    {
      "cell_type": "code",
      "metadata": {
        "colab": {
          "base_uri": "https://localhost:8080/"
        },
        "id": "tMTNRyUnDGBH",
        "outputId": "abfceccb-2902-4be7-d4c3-540a35d7adc9"
      },
      "source": [
        "korean, english, math, science = map(int, input().split())\n",
        "\n",
        "if 100 >= korean >= 0 and 100 >= english >= 0 and 100 >= math >= 0 and 100 >= science >= 0:\n",
        "    if (korean + english + math + science) / 4 >= 80:\n",
        "        print('합격')\n",
        "    else:\n",
        "        print('불합격')\n",
        "else:\n",
        "    print('잘못된 점수')"
      ],
      "execution_count": 6,
      "outputs": [
        {
          "output_type": "stream",
          "text": [
            "99 85 101 90\n",
            "잘못된 점수\n"
          ],
          "name": "stdout"
        }
      ]
    }
  ]
}