{
  "nbformat": 4,
  "nbformat_minor": 0,
  "metadata": {
    "colab": {
      "name": "u33_ScoprRule.ipynb",
      "provenance": [],
      "collapsed_sections": []
    },
    "kernelspec": {
      "name": "python3",
      "display_name": "Python 3"
    },
    "language_info": {
      "name": "python"
    }
  },
  "cells": [
    {
      "cell_type": "markdown",
      "metadata": {
        "id": "SmqeQlj9rl9R"
      },
      "source": [
        "# Unit 23. 변수의 사용 범위(Scope Rule)\n",
        "- global -> local(o)\n",
        "<br>local -> global (x)"
      ]
    },
    {
      "cell_type": "code",
      "metadata": {
        "colab": {
          "base_uri": "https://localhost:8080/"
        },
        "id": "dFgi9Lmgrg8P",
        "outputId": "1e7a5ac6-047e-43bf-c53a-b8f538aeaed8"
      },
      "source": [
        "x = 10          # 전역(global) 변수\n",
        "def foo():\n",
        "    print(x)\n",
        "\n",
        "foo()\n",
        "print(x)"
      ],
      "execution_count": 2,
      "outputs": [
        {
          "output_type": "stream",
          "text": [
            "10\n",
            "10\n"
          ],
          "name": "stdout"
        }
      ]
    },
    {
      "cell_type": "code",
      "metadata": {
        "colab": {
          "base_uri": "https://localhost:8080/"
        },
        "id": "XKwqgB1JsDfq",
        "outputId": "7b17254d-615d-4d70-8a21-87d7c9a1cba0"
      },
      "source": [
        "def foo():\n",
        "    y =10       # 지역(local) 변수 / foo 함수 안에서만 사용 가능\n",
        "    print(y)\n",
        "\n",
        "foo()"
      ],
      "execution_count": 3,
      "outputs": [
        {
          "output_type": "stream",
          "text": [
            "10\n"
          ],
          "name": "stdout"
        }
      ]
    },
    {
      "cell_type": "code",
      "metadata": {
        "colab": {
          "base_uri": "https://localhost:8080/",
          "height": 174
        },
        "id": "r8uc9BM4sVQY",
        "outputId": "e52285b1-57f0-4ea7-d3cf-3df3ad44cf13"
      },
      "source": [
        "print(y)"
      ],
      "execution_count": 4,
      "outputs": [
        {
          "output_type": "error",
          "ename": "NameError",
          "evalue": "ignored",
          "traceback": [
            "\u001b[0;31m---------------------------------------------------------------------------\u001b[0m",
            "\u001b[0;31mNameError\u001b[0m                                 Traceback (most recent call last)",
            "\u001b[0;32m<ipython-input-4-d9183e048de3>\u001b[0m in \u001b[0;36m<module>\u001b[0;34m()\u001b[0m\n\u001b[0;32m----> 1\u001b[0;31m \u001b[0mprint\u001b[0m\u001b[0;34m(\u001b[0m\u001b[0my\u001b[0m\u001b[0;34m)\u001b[0m\u001b[0;34m\u001b[0m\u001b[0;34m\u001b[0m\u001b[0m\n\u001b[0m",
            "\u001b[0;31mNameError\u001b[0m: name 'y' is not defined"
          ]
        }
      ]
    },
    {
      "cell_type": "markdown",
      "metadata": {
        "id": "i-RZ59sJttSw"
      },
      "source": [
        "### 함수 안에서 전역변수 변경하기"
      ]
    },
    {
      "cell_type": "code",
      "metadata": {
        "colab": {
          "base_uri": "https://localhost:8080/"
        },
        "id": "q3hhO22Etx9c",
        "outputId": "02c58ccf-e6ff-499b-c4ac-e94630634fb0"
      },
      "source": [
        "x = 10          # 전역(global) 변수\n",
        "def foo():\n",
        "    x = 20      # 로컬 변수\n",
        "    print(x)\n",
        "\n",
        "foo()\n",
        "print(x)\n",
        "\n",
        "# 두 x는 이름만 같을뿐!!"
      ],
      "execution_count": 5,
      "outputs": [
        {
          "output_type": "stream",
          "text": [
            "20\n",
            "10\n"
          ],
          "name": "stdout"
        }
      ]
    },
    {
      "cell_type": "code",
      "metadata": {
        "colab": {
          "base_uri": "https://localhost:8080/"
        },
        "id": "h1zlM9jxud7v",
        "outputId": "476104a8-f241-4d4a-9f11-cad8420a93a8"
      },
      "source": [
        "x = 10          # 전역(global) 변수\n",
        "def foo():\n",
        "    global x\n",
        "    x = 20      # 글로벌 변수\n",
        "    print(x)\n",
        "\n",
        "foo()\n",
        "print(x)"
      ],
      "execution_count": 6,
      "outputs": [
        {
          "output_type": "stream",
          "text": [
            "20\n",
            "20\n"
          ],
          "name": "stdout"
        }
      ]
    },
    {
      "cell_type": "code",
      "metadata": {
        "colab": {
          "base_uri": "https://localhost:8080/"
        },
        "id": "Fgo09EJwvLL_",
        "outputId": "f919d786-b12f-4bfb-913e-05c97f8541ff"
      },
      "source": [
        "def foo():\n",
        "    global z\n",
        "    z = 20      # 로컬 변수\n",
        "    print(z)\n",
        "\n",
        "foo()\n",
        "print(z)"
      ],
      "execution_count": 8,
      "outputs": [
        {
          "output_type": "stream",
          "text": [
            "20\n",
            "20\n"
          ],
          "name": "stdout"
        }
      ]
    }
  ]
}