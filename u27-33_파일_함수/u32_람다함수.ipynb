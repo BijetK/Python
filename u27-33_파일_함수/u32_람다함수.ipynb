{
  "nbformat": 4,
  "nbformat_minor": 0,
  "metadata": {
    "colab": {
      "name": "u32_람다함수.ipynb",
      "provenance": [],
      "collapsed_sections": []
    },
    "kernelspec": {
      "name": "python3",
      "display_name": "Python 3"
    },
    "language_info": {
      "name": "python"
    }
  },
  "cells": [
    {
      "cell_type": "markdown",
      "metadata": {
        "id": "zjoGKNLng0DP"
      },
      "source": [
        "# Unit 32. 람다 함수 - 익명(Anonymous) 함수\n",
        "- 코드 간결, 쓸데없는 변수 지정 방지"
      ]
    },
    {
      "cell_type": "code",
      "metadata": {
        "id": "VAjdw6LYhXIb"
      },
      "source": [
        "def plus_ten(x):\n",
        "    return x + 10"
      ],
      "execution_count": 5,
      "outputs": []
    },
    {
      "cell_type": "code",
      "metadata": {
        "colab": {
          "base_uri": "https://localhost:8080/"
        },
        "id": "xbu-ETwJhe9j",
        "outputId": "5009a9df-8563-409b-cd01-48605769b872"
      },
      "source": [
        "plus_ten(1)"
      ],
      "execution_count": 7,
      "outputs": [
        {
          "output_type": "execute_result",
          "data": {
            "text/plain": [
              "11"
            ]
          },
          "metadata": {
            "tags": []
          },
          "execution_count": 7
        }
      ]
    },
    {
      "cell_type": "code",
      "metadata": {
        "colab": {
          "base_uri": "https://localhost:8080/"
        },
        "id": "WCVqOOCJh7pf",
        "outputId": "bfc48f20-740e-4f0b-f3dd-f43ab0bf63a5"
      },
      "source": [
        "plus_ten2 = lambda x: x+10\n",
        "plus_ten2(5)"
      ],
      "execution_count": 8,
      "outputs": [
        {
          "output_type": "execute_result",
          "data": {
            "text/plain": [
              "15"
            ]
          },
          "metadata": {
            "tags": []
          },
          "execution_count": 8
        }
      ]
    },
    {
      "cell_type": "code",
      "metadata": {
        "colab": {
          "base_uri": "https://localhost:8080/"
        },
        "id": "1c_m-8-7iNoj",
        "outputId": "9d21d4ff-4b00-4bbd-cccc-0d0d4b3a0670"
      },
      "source": [
        "(lambda x: x+10)(5)"
      ],
      "execution_count": 9,
      "outputs": [
        {
          "output_type": "execute_result",
          "data": {
            "text/plain": [
              "15"
            ]
          },
          "metadata": {
            "tags": []
          },
          "execution_count": 9
        }
      ]
    },
    {
      "cell_type": "code",
      "metadata": {
        "colab": {
          "base_uri": "https://localhost:8080/"
        },
        "id": "GCs4Y8Yvinci",
        "outputId": "205c28b8-bbe9-4bff-ce18-7e0d1a332237"
      },
      "source": [
        "list(map(lambda x: int(x)+10 , input().split()))"
      ],
      "execution_count": 12,
      "outputs": [
        {
          "output_type": "stream",
          "text": [
            "2 5 10\n"
          ],
          "name": "stdout"
        },
        {
          "output_type": "execute_result",
          "data": {
            "text/plain": [
              "[12, 15, 20]"
            ]
          },
          "metadata": {
            "tags": []
          },
          "execution_count": 12
        }
      ]
    },
    {
      "cell_type": "code",
      "metadata": {
        "colab": {
          "base_uri": "https://localhost:8080/"
        },
        "id": "bD5LO8XGjA7I",
        "outputId": "0ce745d3-058c-48fb-b8c0-95fa1b0c8ace"
      },
      "source": [
        "def plus_ten(x):\n",
        "    return int(x) + 10\n",
        "list(map(plus_ten, input().split()))"
      ],
      "execution_count": 13,
      "outputs": [
        {
          "output_type": "stream",
          "text": [
            "2 5 9\n"
          ],
          "name": "stdout"
        },
        {
          "output_type": "execute_result",
          "data": {
            "text/plain": [
              "[12, 15, 19]"
            ]
          },
          "metadata": {
            "tags": []
          },
          "execution_count": 13
        }
      ]
    },
    {
      "cell_type": "markdown",
      "metadata": {
        "id": "JCTDoDdhj4OH"
      },
      "source": [
        "### 제약 사항"
      ]
    },
    {
      "cell_type": "code",
      "metadata": {
        "colab": {
          "base_uri": "https://localhost:8080/",
          "height": 137
        },
        "id": "O1A85DgljQOk",
        "outputId": "fa16d926-2d1e-4a7f-830b-d04b4ab8d78e"
      },
      "source": [
        "# 람다 함수에서 변수를 만들 수 없음\n",
        "(lambda x: y =10; x+y)"
      ],
      "execution_count": 15,
      "outputs": [
        {
          "output_type": "error",
          "ename": "SyntaxError",
          "evalue": "ignored",
          "traceback": [
            "\u001b[0;36m  File \u001b[0;32m\"<ipython-input-15-dc89914139cb>\"\u001b[0;36m, line \u001b[0;32m2\u001b[0m\n\u001b[0;31m    (lambda x: y =10; x+y)\u001b[0m\n\u001b[0m                 ^\u001b[0m\n\u001b[0;31mSyntaxError\u001b[0m\u001b[0;31m:\u001b[0m invalid syntax\n"
          ]
        }
      ]
    },
    {
      "cell_type": "code",
      "metadata": {
        "colab": {
          "base_uri": "https://localhost:8080/"
        },
        "id": "tSIfBa3-jQHE",
        "outputId": "f8d92905-1b0f-4de6-982c-a8561333b317"
      },
      "source": [
        "y = 10      # 함수 밖은 상관 x\n",
        "(lambda x : x+y)(3)    "
      ],
      "execution_count": 16,
      "outputs": [
        {
          "output_type": "execute_result",
          "data": {
            "text/plain": [
              "13"
            ]
          },
          "metadata": {
            "tags": []
          },
          "execution_count": 16
        }
      ]
    },
    {
      "cell_type": "markdown",
      "metadata": {
        "id": "heY3E9HckyR9"
      },
      "source": [
        "### 조건부 함수"
      ]
    },
    {
      "cell_type": "code",
      "metadata": {
        "colab": {
          "base_uri": "https://localhost:8080/"
        },
        "id": "_rdzTJm2kUkb",
        "outputId": "59b99dbc-0046-419d-fff0-b361f2600871"
      },
      "source": [
        "# 리스트 a에서 3의 배수를 문자열로 변환\n",
        "a = list(range(1,11))\n",
        "list(map(lambda x: str(x) if x % 3 ==0 else x, a))      # 마지막a는 arg"
      ],
      "execution_count": 22,
      "outputs": [
        {
          "output_type": "execute_result",
          "data": {
            "text/plain": [
              "[1, 2, '3', 4, 5, '6', 7, 8, '9', 10]"
            ]
          },
          "metadata": {
            "tags": []
          },
          "execution_count": 22
        }
      ]
    },
    {
      "cell_type": "code",
      "metadata": {
        "colab": {
          "base_uri": "https://localhost:8080/"
        },
        "id": "HQ2z96E4l0Bv",
        "outputId": "ac879ad0-7577-42b7-bddd-d6c5d1e1ad93"
      },
      "source": [
        "# 리스트 a에서 3의 배수를 문자열로, 5의 배수는 실수로 변환\n",
        "list(map(lambda x: str(x) if x % 3 == 0 else float(x) if x % 5 == 0 else x,a))\n",
        "# elif 사용X, 삼항연산자 가능 / 2줄처럼 길면 바람직하지는 않음."
      ],
      "execution_count": 23,
      "outputs": [
        {
          "output_type": "execute_result",
          "data": {
            "text/plain": [
              "[1, 2, '3', 4, 5.0, '6', 7, 8, '9', 10.0]"
            ]
          },
          "metadata": {
            "tags": []
          },
          "execution_count": 23
        }
      ]
    },
    {
      "cell_type": "markdown",
      "metadata": {
        "id": "N6yQ36zanoKU"
      },
      "source": [
        "### map에 여러개의 객체 넣기"
      ]
    },
    {
      "cell_type": "code",
      "metadata": {
        "colab": {
          "base_uri": "https://localhost:8080/"
        },
        "id": "f40lQEm2nrpo",
        "outputId": "00b4f027-33f4-4b59-808c-374d5dacc68e"
      },
      "source": [
        "a = [1, 2, 3, 4, 5]\n",
        "b = [6, 7, 8, 9, 10]\n",
        "\n",
        "list(map(lambda x, y : x * y, a, b))"
      ],
      "execution_count": 24,
      "outputs": [
        {
          "output_type": "execute_result",
          "data": {
            "text/plain": [
              "[6, 14, 24, 36, 50]"
            ]
          },
          "metadata": {
            "tags": []
          },
          "execution_count": 24
        }
      ]
    },
    {
      "cell_type": "markdown",
      "metadata": {
        "id": "rRz0br6BoO94"
      },
      "source": [
        "### filter\n",
        "- 거의 쓰지 않음"
      ]
    },
    {
      "cell_type": "code",
      "metadata": {
        "colab": {
          "base_uri": "https://localhost:8080/"
        },
        "id": "QjCOgOtsoR2L",
        "outputId": "fa8b371d-ab12-4283-ebd8-c7914595eba5"
      },
      "source": [
        "a = list(range(1,11))\n",
        "list(filter(lambda x : 4 <= x < 8, a))"
      ],
      "execution_count": 26,
      "outputs": [
        {
          "output_type": "execute_result",
          "data": {
            "text/plain": [
              "[4, 5, 6, 7]"
            ]
          },
          "metadata": {
            "tags": []
          },
          "execution_count": 26
        }
      ]
    }
  ]
}