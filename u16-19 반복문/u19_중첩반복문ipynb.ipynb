{
  "nbformat": 4,
  "nbformat_minor": 0,
  "metadata": {
    "colab": {
      "name": "u19_중첩반복문ipynb",
      "provenance": [],
      "collapsed_sections": []
    },
    "kernelspec": {
      "name": "python3",
      "display_name": "Python 3"
    },
    "language_info": {
      "name": "python"
    }
  },
  "cells": [
    {
      "cell_type": "markdown",
      "metadata": {
        "id": "euanyKHPbU1j"
      },
      "source": [
        "# Unit 19. 중첩반복문"
      ]
    },
    {
      "cell_type": "markdown",
      "metadata": {
        "id": "JD4QopCYbX-u"
      },
      "source": [
        "## 19.1 중첩(Nested) for loop"
      ]
    },
    {
      "cell_type": "code",
      "metadata": {
        "colab": {
          "base_uri": "https://localhost:8080/"
        },
        "id": "DNop9iU7bbwi",
        "outputId": "ce996c8c-4036-4e0f-d886-725c01359397"
      },
      "source": [
        "for i in range(1, 6):\n",
        "    for k in range(10, 60, 10):\n",
        "        print(k, end = ' ')\n",
        "    print(i)"
      ],
      "execution_count": null,
      "outputs": [
        {
          "output_type": "stream",
          "text": [
            "10 20 30 40 50 1\n",
            "10 20 30 40 50 2\n",
            "10 20 30 40 50 3\n",
            "10 20 30 40 50 4\n",
            "10 20 30 40 50 5\n"
          ],
          "name": "stdout"
        }
      ]
    },
    {
      "cell_type": "markdown",
      "metadata": {
        "id": "vMwjMn3HcsPH"
      },
      "source": [
        "## 19.2 별 사각형"
      ]
    },
    {
      "cell_type": "code",
      "metadata": {
        "colab": {
          "base_uri": "https://localhost:8080/"
        },
        "id": "fumPF1m4cVQz",
        "outputId": "aa5cebfc-47c2-4341-8998-2e7a3c51d1ba"
      },
      "source": [
        "for i in range(5):\n",
        "    for _ in range(5):\n",
        "        print('*', end = '')\n",
        "    print()"
      ],
      "execution_count": null,
      "outputs": [
        {
          "output_type": "stream",
          "text": [
            "*****\n",
            "*****\n",
            "*****\n",
            "*****\n",
            "*****\n"
          ],
          "name": "stdout"
        }
      ]
    },
    {
      "cell_type": "code",
      "metadata": {
        "colab": {
          "base_uri": "https://localhost:8080/"
        },
        "id": "DtQGEvYhegLA",
        "outputId": "b79a0999-394e-4af2-94cc-14f27d0b6b25"
      },
      "source": [
        "for i in range(4):\n",
        "    for _ in range(0, i):\n",
        "        print(' ', end = '')\n",
        "    for _ in range(5):\n",
        "        print('*', end ='')\n",
        "    print()"
      ],
      "execution_count": 12,
      "outputs": [
        {
          "output_type": "stream",
          "text": [
            "*****\n",
            " *****\n",
            "  *****\n",
            "   *****\n"
          ],
          "name": "stdout"
        }
      ]
    },
    {
      "cell_type": "markdown",
      "metadata": {
        "id": "wf7gieEeefYx"
      },
      "source": [
        ""
      ]
    },
    {
      "cell_type": "code",
      "metadata": {
        "id": "pmxp8Wsrc7A3"
      },
      "source": [
        "# 평행사변형\n"
      ],
      "execution_count": 21,
      "outputs": []
    },
    {
      "cell_type": "markdown",
      "metadata": {
        "id": "inV7Rj06fRE1"
      },
      "source": [
        "### 19.3 계단식 별 모양"
      ]
    },
    {
      "cell_type": "code",
      "metadata": {
        "colab": {
          "base_uri": "https://localhost:8080/"
        },
        "id": "a7kjYdmwfUv1",
        "outputId": "13e9c7c7-90e9-4c09-9e3a-4938f0b7b8f0"
      },
      "source": [
        "for i in range(5):\n",
        "    for _ in range(i+1):\n",
        "        print('*', end = '')\n",
        "    print()"
      ],
      "execution_count": 22,
      "outputs": [
        {
          "output_type": "stream",
          "text": [
            "*\n",
            "**\n",
            "***\n",
            "****\n",
            "*****\n"
          ],
          "name": "stdout"
        }
      ]
    },
    {
      "cell_type": "code",
      "metadata": {
        "colab": {
          "base_uri": "https://localhost:8080/"
        },
        "id": "rcKcomNuf9sB",
        "outputId": "60f1be6c-3e94-45b6-af8f-b3c641b403df"
      },
      "source": [
        "for i in range(5):\n",
        "    for _ in range(i):\n",
        "        print(' ', end = '')\n",
        "    for _ in range(5 - i):\n",
        "        print('*', end = '')\n",
        "    print()"
      ],
      "execution_count": 27,
      "outputs": [
        {
          "output_type": "stream",
          "text": [
            "*****\n",
            " ****\n",
            "  ***\n",
            "   **\n",
            "    *\n"
          ],
          "name": "stdout"
        }
      ]
    },
    {
      "cell_type": "code",
      "metadata": {
        "colab": {
          "base_uri": "https://localhost:8080/"
        },
        "id": "5aJF-_AZgzOK",
        "outputId": "9cb66002-dfba-4d06-db36-6998fa367ef7"
      },
      "source": [
        "for i in range(5):\n",
        "    print('*' * (i + 1))"
      ],
      "execution_count": 32,
      "outputs": [
        {
          "output_type": "stream",
          "text": [
            "*\n",
            "**\n",
            "***\n",
            "****\n",
            "*****\n"
          ],
          "name": "stdout"
        }
      ]
    },
    {
      "cell_type": "code",
      "metadata": {
        "colab": {
          "base_uri": "https://localhost:8080/"
        },
        "id": "-kUX3ZQYhYmM",
        "outputId": "b837bca9-a923-4631-d1db-6b998d65266e"
      },
      "source": [
        "for i in range (1, 10, 2):\n",
        "    print(' ' * int((9 - i) / 2) + '*' * i)\n",
        "for k in range(7, 0, -2):\n",
        "    print(' ' * int((9 - k) / 2) + '*' * k)"
      ],
      "execution_count": 52,
      "outputs": [
        {
          "output_type": "stream",
          "text": [
            "    *\n",
            "   ***\n",
            "  *****\n",
            " *******\n",
            "*********\n",
            " *******\n",
            "  *****\n",
            "   ***\n",
            "    *\n"
          ],
          "name": "stdout"
        }
      ]
    },
    {
      "cell_type": "code",
      "metadata": {
        "colab": {
          "base_uri": "https://localhost:8080/"
        },
        "id": "PhdL0ZfckjoK",
        "outputId": "72fc86c1-18c3-4d91-b866-2f3ffb33be70"
      },
      "source": [
        "for i in range(5):\n",
        "    for _ in range(4 - i):\n",
        "        print(' ', end = '')\n",
        "    for _ in range (2 * i + 1):\n",
        "        print('*', end = '')\n",
        "    print()\n",
        "for k in range(4):\n",
        "    for _ in range(k+1):\n",
        "        print(' ', end = '')\n",
        "    for _ in range(7-2*k):\n",
        "        print('*', end = '')\n",
        "    print()"
      ],
      "execution_count": 58,
      "outputs": [
        {
          "output_type": "stream",
          "text": [
            "    *\n",
            "   ***\n",
            "  *****\n",
            " *******\n",
            "*********\n",
            " *******\n",
            "  *****\n",
            "   ***\n",
            "    *\n"
          ],
          "name": "stdout"
        }
      ]
    },
    {
      "cell_type": "code",
      "metadata": {
        "colab": {
          "base_uri": "https://localhost:8080/"
        },
        "id": "ghNz71QdmTc7",
        "outputId": "b85f85ae-2cd2-4088-90a8-f9d554b11ec6"
      },
      "source": [
        "for i in range(5):\n",
        "    print(' '*(4-i) + '*' * (2 * i +1))\n",
        "for i in range(4):\n",
        "    print(' '*(i+1) + '*' * (7-2*i))"
      ],
      "execution_count": 59,
      "outputs": [
        {
          "output_type": "stream",
          "text": [
            "    *\n",
            "   ***\n",
            "  *****\n",
            " *******\n",
            "*********\n",
            " *******\n",
            "  *****\n",
            "   ***\n",
            "    *\n"
          ],
          "name": "stdout"
        }
      ]
    },
    {
      "cell_type": "markdown",
      "metadata": {
        "id": "GHY_zq5qmTM_"
      },
      "source": [
        ""
      ]
    }
  ]
}