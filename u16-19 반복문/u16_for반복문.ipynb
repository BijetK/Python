{
  "nbformat": 4,
  "nbformat_minor": 0,
  "metadata": {
    "colab": {
      "name": "u16_for반복문.ipynb",
      "provenance": [],
      "collapsed_sections": []
    },
    "kernelspec": {
      "name": "python3",
      "display_name": "Python 3"
    },
    "language_info": {
      "name": "python"
    }
  },
  "cells": [
    {
      "cell_type": "markdown",
      "metadata": {
        "id": "GxNES39Js80h"
      },
      "source": [
        "# Unit 16. for 반복문"
      ]
    },
    {
      "cell_type": "markdown",
      "metadata": {
        "id": "770Cy5L0tAwd"
      },
      "source": [
        "## 16.1 for와 range"
      ]
    },
    {
      "cell_type": "code",
      "metadata": {
        "colab": {
          "base_uri": "https://localhost:8080/"
        },
        "id": "fJu0FAw3s_w9",
        "outputId": "01fc3c0f-b390-4307-cc7e-703dfb519c42"
      },
      "source": [
        "# for 반복문은 반복 횟수가 정해져 있을 때 주로 사용합니다.\n",
        "for i in range(10):\n",
        "    print('Hello, world!')"
      ],
      "execution_count": null,
      "outputs": [
        {
          "output_type": "stream",
          "text": [
            "Hello, world!\n",
            "Hello, world!\n",
            "Hello, world!\n",
            "Hello, world!\n",
            "Hello, world!\n",
            "Hello, world!\n",
            "Hello, world!\n",
            "Hello, world!\n",
            "Hello, world!\n",
            "Hello, world!\n"
          ],
          "name": "stdout"
        }
      ]
    },
    {
      "cell_type": "code",
      "metadata": {
        "colab": {
          "base_uri": "https://localhost:8080/"
        },
        "id": "4ROSnuBEtdjK",
        "outputId": "eeaf858d-090a-4643-f8da-d8c2daf6f1f7"
      },
      "source": [
        "for i in range(10):\n",
        "    print('Hello, world!', i)"
      ],
      "execution_count": null,
      "outputs": [
        {
          "output_type": "stream",
          "text": [
            "Hello, world! 0\n",
            "Hello, world! 1\n",
            "Hello, world! 2\n",
            "Hello, world! 3\n",
            "Hello, world! 4\n",
            "Hello, world! 5\n",
            "Hello, world! 6\n",
            "Hello, world! 7\n",
            "Hello, world! 8\n",
            "Hello, world! 9\n"
          ],
          "name": "stdout"
        }
      ]
    },
    {
      "cell_type": "code",
      "metadata": {
        "id": "zKFctOWdvcsw"
      },
      "source": [
        "for _ in range(10):         # _ : 숫자를 받지만, 변수로 쓰지는 않겠다.\n",
        "    print('Hello, world!')"
      ],
      "execution_count": null,
      "outputs": []
    },
    {
      "cell_type": "markdown",
      "metadata": {
        "id": "zXAnsaklx4Ro"
      },
      "source": [
        "## 16.2 for와 range 응용"
      ]
    },
    {
      "cell_type": "code",
      "metadata": {
        "colab": {
          "base_uri": "https://localhost:8080/"
        },
        "id": "xFPsFOxux7ie",
        "outputId": "abd90b80-8d73-43d4-edf8-42f0b126b0c0"
      },
      "source": [
        "for i in range(6, 10):\n",
        "    print('Hello, world!', i)"
      ],
      "execution_count": null,
      "outputs": [
        {
          "output_type": "stream",
          "text": [
            "Hello, world! 6\n",
            "Hello, world! 7\n",
            "Hello, world! 8\n",
            "Hello, world! 9\n"
          ],
          "name": "stdout"
        }
      ]
    },
    {
      "cell_type": "code",
      "metadata": {
        "colab": {
          "base_uri": "https://localhost:8080/"
        },
        "id": "Hn49Ke0oyRvY",
        "outputId": "fd91e995-a117-4c60-e816-0505d9f2faee"
      },
      "source": [
        "for i in range(0, 10, 2):\n",
        "    print('Hello, world!', i)"
      ],
      "execution_count": null,
      "outputs": [
        {
          "output_type": "stream",
          "text": [
            "Hello, world! 0\n",
            "Hello, world! 2\n",
            "Hello, world! 4\n",
            "Hello, world! 6\n",
            "Hello, world! 8\n"
          ],
          "name": "stdout"
        }
      ]
    },
    {
      "cell_type": "code",
      "metadata": {
        "colab": {
          "base_uri": "https://localhost:8080/"
        },
        "id": "s1xIMHqoyWNj",
        "outputId": "0ff477d9-2f83-40fa-99af-0783efa1a68c"
      },
      "source": [
        "for i in range(10, 0, -2):\n",
        "    print('Hello, world!', i)"
      ],
      "execution_count": null,
      "outputs": [
        {
          "output_type": "stream",
          "text": [
            "Hello, world! 10\n",
            "Hello, world! 8\n",
            "Hello, world! 6\n",
            "Hello, world! 4\n",
            "Hello, world! 2\n"
          ],
          "name": "stdout"
        }
      ]
    },
    {
      "cell_type": "code",
      "metadata": {
        "colab": {
          "base_uri": "https://localhost:8080/"
        },
        "id": "TZph-DWsyYqB",
        "outputId": "081f0d51-a7b7-481d-ad7d-80088d777ccd"
      },
      "source": [
        "for i in range(1, 101):\n",
        "    print('Fizz' * (i % 3 == 0) + 'buzz' * (i % 5 == 0) or i, end = ' ')\n",
        "    if (i % 10 ==0):\n",
        "        print()"
      ],
      "execution_count": 14,
      "outputs": [
        {
          "output_type": "stream",
          "text": [
            "1 2 Fizz 4 buzz Fizz 7 8 Fizz buzz \n",
            "11 Fizz 13 14 Fizzbuzz 16 17 Fizz 19 buzz \n",
            "Fizz 22 23 Fizz buzz 26 Fizz 28 29 Fizzbuzz \n",
            "31 32 Fizz 34 buzz Fizz 37 38 Fizz buzz \n",
            "41 Fizz 43 44 Fizzbuzz 46 47 Fizz 49 buzz \n",
            "Fizz 52 53 Fizz buzz 56 Fizz 58 59 Fizzbuzz \n",
            "61 62 Fizz 64 buzz Fizz 67 68 Fizz buzz \n",
            "71 Fizz 73 74 Fizzbuzz 76 77 Fizz 79 buzz \n",
            "Fizz 82 83 Fizz buzz 86 Fizz 88 89 Fizzbuzz \n",
            "91 92 Fizz 94 buzz Fizz 97 98 Fizz buzz \n"
          ],
          "name": "stdout"
        }
      ]
    },
    {
      "cell_type": "markdown",
      "metadata": {
        "id": "VWCqgWdB0HFZ"
      },
      "source": [
        "## 16.3 시퀀스 객체 반복"
      ]
    },
    {
      "cell_type": "code",
      "metadata": {
        "colab": {
          "base_uri": "https://localhost:8080/"
        },
        "id": "AZfbfL270GuP",
        "outputId": "3df7f477-3aa8-444a-b775-a50199623778"
      },
      "source": [
        "fruits = ('apple', 'orange', 'grape')\n",
        "for fruit in fruits:\n",
        "    print(fruit)"
      ],
      "execution_count": 15,
      "outputs": [
        {
          "output_type": "stream",
          "text": [
            "apple\n",
            "orange\n",
            "grape\n"
          ],
          "name": "stdout"
        }
      ]
    },
    {
      "cell_type": "code",
      "metadata": {
        "colab": {
          "base_uri": "https://localhost:8080/"
        },
        "id": "YD7a09rx0ntS",
        "outputId": "100943e0-83e7-4baa-b276-d6f73a2b3ecb"
      },
      "source": [
        "fruit_list = ('apple', 'orange', 'grape')\n",
        "for fruit in fruit_list:\n",
        "    print(fruit)"
      ],
      "execution_count": 16,
      "outputs": [
        {
          "output_type": "stream",
          "text": [
            "apple\n",
            "orange\n",
            "grape\n"
          ],
          "name": "stdout"
        }
      ]
    },
    {
      "cell_type": "markdown",
      "metadata": {
        "id": "EdukmcIM1Z4H"
      },
      "source": [
        "변수는 소문자로 시작\n",
        "대문자로 시작하는건 Class를 의미."
      ]
    },
    {
      "cell_type": "code",
      "metadata": {
        "colab": {
          "base_uri": "https://localhost:8080/"
        },
        "id": "XpRruzvY2U9L",
        "outputId": "4c1aae01-0885-44fc-ed64-7e4536151607"
      },
      "source": [
        "for letter in 'Python':\n",
        "    print(letter, end = ' ')"
      ],
      "execution_count": 19,
      "outputs": [
        {
          "output_type": "stream",
          "text": [
            "P y t h o n "
          ],
          "name": "stdout"
        }
      ]
    },
    {
      "cell_type": "code",
      "metadata": {
        "colab": {
          "base_uri": "https://localhost:8080/"
        },
        "id": "ms7BJsNJ2bA2",
        "outputId": "a433996d-0a37-4e98-a543-53b3812dc473"
      },
      "source": [
        "for letter in reversed('Python'):\n",
        "    print(letter, end = ' ')"
      ],
      "execution_count": 22,
      "outputs": [
        {
          "output_type": "stream",
          "text": [
            "n o h t y P "
          ],
          "name": "stdout"
        }
      ]
    },
    {
      "cell_type": "code",
      "metadata": {
        "colab": {
          "base_uri": "https://localhost:8080/"
        },
        "id": "hlCIzG9v29QZ",
        "outputId": "0989b146-7773-4652-bb62-5ace0f5c6827"
      },
      "source": [
        "for number in (10, 20, 30, 40):         #튜플도 가능\n",
        "    print(number)"
      ],
      "execution_count": 24,
      "outputs": [
        {
          "output_type": "stream",
          "text": [
            "10\n",
            "20\n",
            "30\n",
            "40\n"
          ],
          "name": "stdout"
        }
      ]
    },
    {
      "cell_type": "code",
      "metadata": {
        "id": "5QlWaUzm3GY8"
      },
      "source": [
        ""
      ],
      "execution_count": null,
      "outputs": []
    }
  ]
}