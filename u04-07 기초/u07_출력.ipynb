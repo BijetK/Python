{
  "nbformat": 4,
  "nbformat_minor": 0,
  "metadata": {
    "colab": {
      "name": "u07_출력.ipynb",
      "provenance": [],
      "collapsed_sections": []
    },
    "kernelspec": {
      "name": "python3",
      "display_name": "Python 3"
    },
    "language_info": {
      "name": "python"
    }
  },
  "cells": [
    {
      "cell_type": "code",
      "metadata": {
        "id": "AqK-Azh5Zknc"
      },
      "source": [
        ""
      ],
      "execution_count": null,
      "outputs": []
    },
    {
      "cell_type": "markdown",
      "metadata": {
        "id": "P62c5azmZpTM"
      },
      "source": [
        "# Unit 7. 출력"
      ]
    },
    {
      "cell_type": "code",
      "metadata": {
        "colab": {
          "base_uri": "https://localhost:8080/"
        },
        "id": "32yTe1VBZtrp",
        "outputId": "a8599354-4026-4b0e-da34-fbb80149dfd3"
      },
      "source": [
        "a, b = map(int, input('정수 두 개 입력> ').split())\n",
        "a\n",
        "b"
      ],
      "execution_count": 2,
      "outputs": [
        {
          "output_type": "stream",
          "text": [
            "정수 두 개 입력> 10 20\n"
          ],
          "name": "stdout"
        },
        {
          "output_type": "execute_result",
          "data": {
            "text/plain": [
              "20"
            ]
          },
          "metadata": {
            "tags": []
          },
          "execution_count": 2
        }
      ]
    },
    {
      "cell_type": "code",
      "metadata": {
        "colab": {
          "base_uri": "https://localhost:8080/"
        },
        "id": "ZhKVE8-saLlT",
        "outputId": "f7147e7a-cd94-4b9c-c180-1e94a82a3d56"
      },
      "source": [
        "a, b = map(int, input('정수 두 개 입력> ').split())\n",
        "print(a)\n",
        "print(b)"
      ],
      "execution_count": 4,
      "outputs": [
        {
          "output_type": "stream",
          "text": [
            "정수 두 개 입력> 10 22\n",
            "10\n",
            "22\n"
          ],
          "name": "stdout"
        }
      ]
    },
    {
      "cell_type": "code",
      "metadata": {
        "colab": {
          "base_uri": "https://localhost:8080/"
        },
        "id": "fptOcBONaW3-",
        "outputId": "363ab533-3367-4abf-c8ae-423074a9b107"
      },
      "source": [
        "print(a, b)"
      ],
      "execution_count": 5,
      "outputs": [
        {
          "output_type": "stream",
          "text": [
            "10 22\n"
          ],
          "name": "stdout"
        }
      ]
    },
    {
      "cell_type": "code",
      "metadata": {
        "colab": {
          "base_uri": "https://localhost:8080/"
        },
        "id": "z8k-xSWEaqg-",
        "outputId": "dfa93465-3c2a-4d35-8e98-163dd2fe63b9"
      },
      "source": [
        "print(a, b, sep=', ')       #separator (사잇값)"
      ],
      "execution_count": 7,
      "outputs": [
        {
          "output_type": "stream",
          "text": [
            "10, 22\n"
          ],
          "name": "stdout"
        }
      ]
    },
    {
      "cell_type": "markdown",
      "metadata": {
        "id": "nqnpOgrXbK8y"
      },
      "source": [
        "## 7.2 줄바꿈 활용"
      ]
    },
    {
      "cell_type": "code",
      "metadata": {
        "colab": {
          "base_uri": "https://localhost:8080/"
        },
        "id": "sbALBDdNa6Lj",
        "outputId": "4428eb4c-c4c5-42b7-a7d6-144040bbf36b"
      },
      "source": [
        "print(a, b, sep='\\n')"
      ],
      "execution_count": 8,
      "outputs": [
        {
          "output_type": "stream",
          "text": [
            "10\n",
            "22\n"
          ],
          "name": "stdout"
        }
      ]
    },
    {
      "cell_type": "code",
      "metadata": {
        "colab": {
          "base_uri": "https://localhost:8080/"
        },
        "id": "RZdVQEfUbRds",
        "outputId": "b4f08898-fff5-49a2-be41-91fc02a8fb06"
      },
      "source": [
        "# print(a, b, sep='/\\') 오류 발생 \\는 특별한 문자\n",
        "# c\\workspace X, c\\\\workspace O\n",
        "print(a, b, sep='/\\\\')"
      ],
      "execution_count": 15,
      "outputs": [
        {
          "output_type": "stream",
          "text": [
            "10/\\22\n"
          ],
          "name": "stdout"
        }
      ]
    },
    {
      "cell_type": "code",
      "metadata": {
        "colab": {
          "base_uri": "https://localhost:8080/"
        },
        "id": "ueQ-bofUcdzm",
        "outputId": "80021db1-cfa1-44ed-f425-e4411030970f"
      },
      "source": [
        "print(a, end=' ')       # end에 빈 문자열을 지정하면 다음 번 출력이 바로 뒤에 오게 됨\n",
        "print(b)"
      ],
      "execution_count": 16,
      "outputs": [
        {
          "output_type": "stream",
          "text": [
            "10 22\n"
          ],
          "name": "stdout"
        }
      ]
    },
    {
      "cell_type": "code",
      "metadata": {
        "colab": {
          "base_uri": "https://localhost:8080/"
        },
        "id": "EaJ5MwMVcjxT",
        "outputId": "8beb9d5b-251b-40e1-e2d5-a37c596d57d2"
      },
      "source": [
        "for i in range (5):\n",
        "    print(i, end=' ')"
      ],
      "execution_count": 18,
      "outputs": [
        {
          "output_type": "stream",
          "text": [
            "0 1 2 3 4 "
          ],
          "name": "stdout"
        }
      ]
    }
  ]
}