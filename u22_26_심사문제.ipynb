{
  "nbformat": 4,
  "nbformat_minor": 0,
  "metadata": {
    "colab": {
      "name": "u22-26 심사문제.ipynb",
      "provenance": [],
      "collapsed_sections": [],
      "toc_visible": true
    },
    "kernelspec": {
      "name": "python3",
      "display_name": "Python 3"
    },
    "language_info": {
      "name": "python"
    }
  },
  "cells": [
    {
      "cell_type": "markdown",
      "metadata": {
        "id": "1XKNzeOdG_Co"
      },
      "source": [
        "# 21.07.30 과제_-_6회차 김범진\n",
        "-멀티컴퍼스 빅데이터 기반 지능형 서비스 개발"
      ]
    },
    {
      "cell_type": "markdown",
      "metadata": {
        "id": "UghzyZzbHO8S"
      },
      "source": [
        "## 22.10 심사문제: 2의 거듭제곱 리스트 생성하기\n",
        "- 표준 입력으로 정수 두 개가 입력됩니다(첫 번째 입력 값의 범위는 1 ~ 20, 두 번째 입력 값의 범위는 10 ~ 30이며 첫 번째 입력 값은 두 번째 입력 값보다 항상 작습니다). <br>첫 번째 정수부터 두 번째 정수까지를 지수로 하는 2의 거듭제곱 리스트를 출력하는 프로그램을 만드세요(input에서 안내 문자열은 출력하지 않아야 합니다). <br>단, 리스트의 두 번째 요소와 뒤에서 두 번째 요소는 삭제한 뒤 출력하세요. 출력 결과는 리스트 형태라야 합니다.\n"
      ]
    },
    {
      "cell_type": "code",
      "metadata": {
        "id": "jXYnrdMSG6y1"
      },
      "source": [
        "start, stop = map(int, input().split())\n",
        "\n",
        "list_origin = [2**i for i in range(start, stop+1)]\n",
        "\n",
        "del list_origin[1]\n",
        "del list_origin[-2:-1]\n",
        "\n",
        "print(list_origin)"
      ],
      "execution_count": null,
      "outputs": []
    },
    {
      "cell_type": "markdown",
      "metadata": {
        "id": "JqXqq5j1SO4L"
      },
      "source": [
        "## 23.7 심사문제: 지뢰찾기\n",
        "-표준 입력으로 2차원 리스트의 가로(col)와 세로(row)가 입력되고 그 다음 줄부터 리스트의 요소로 들어갈 문자가 입력됩니다. <br>이때 2차원 리스트 안에서 *는 지뢰이고 .은 지뢰가 아닙니다. <br>지뢰가 아닌 요소에는 인접한 지뢰의 개수를 출력하는 프로그램을 만드세요(input에서 안내 문자열은 출력하지 않아야 합니다).\n",
        "<br><br>여러 줄을 입력 받으려면 다음과 같이 for 반복문에서 input을 호출한 뒤 append로 각 줄을 추가하면 됩니다(list 안에 문자열을 넣으면 문자열이 문자 리스트로 변환됩니다).\n",
        "<br>matrix = []\n",
        "<br>for i in range(row):\n",
        "<br>    matrix.append(list(input()))\n",
        "<br><br>이 문제는 지금까지 심사문제 중에서 가장 어렵습니다. <br>처음 풀어보는 경우 대략 두 시간은 걸립니다. <br>시간을 두고 천천히 고민해서 풀어보세요. <br>지금까지 학습한 내용을 모두 동원해야 풀 수 있으며 막힐 때는 지금까지 학습한 내용을 다시 복습하면서 힌트를 찾아보세요."
      ]
    },
    {
      "cell_type": "code",
      "metadata": {
        "id": "U5b2YJRfd_nv"
      },
      "source": [
        "col, row = map(int, input().split())\n",
        "col, row\n",
        "board = []\n",
        "\n",
        "for _ in range(row):\n",
        "    data = []\n",
        "    row_data = input().split()\n",
        "    for a in range(row):\n",
        "        data.append(row_data[0][a:a+1])\n",
        "    board.append(data)\n",
        "\n",
        "board"
      ],
      "execution_count": null,
      "outputs": []
    },
    {
      "cell_type": "markdown",
      "metadata": {
        "id": "2FNqFBl7Hg8j"
      },
      "source": [
        "## 24.5 심사문제: 특정 단어 개수 세기\n",
        "- 표준 입력으로 문자열이 입력됩니다. 입력된 문자열에서 'the'의 개수를 출력하는 프로그램을 만드세요(input에서 안내 문자열은 출력하지 않아야 합니다). <br>단, 모든 문자가 소문자인 'the'만 찾으면 되며 'them', 'there', 'their' 등은 포함하지 않아야 합니다."
      ]
    },
    {
      "cell_type": "code",
      "metadata": {
        "id": "lff3Vrm5I2do"
      },
      "source": [
        "paragraph = input()\n",
        "words = paragraph.split()\n",
        "count = 0\n",
        "for a in range(len(words)):\n",
        "    words[a] = words[a].strip('.,')\n",
        "    if words[a] == 'the':\n",
        "        count += 1\n",
        "    \n",
        "print(count)"
      ],
      "execution_count": null,
      "outputs": []
    },
    {
      "cell_type": "markdown",
      "metadata": {
        "id": "YYee_f2tSRPc"
      },
      "source": [
        "## 24.6 심사문제: 높은 가격순으로 출력하기\n",
        "- 표준 입력으로 물품 가격 여러 개가 문자열 한 줄로 입력되고, 각 가격은 ;(세미콜론)으로 구분되어 있습니다. <br>입력된 가격을 높은 가격순으로 출력하는 프로그램을 만드세요(input에서 안내 문자열은 출력하지 않아야 합니다). <br>이때 가격은 길이를 9로 만든 뒤 오른쪽으로 정렬하고 천단위로 ,(콤마)를 넣으세요."
      ]
    },
    {
      "cell_type": "code",
      "metadata": {
        "colab": {
          "base_uri": "https://localhost:8080/"
        },
        "id": "iJPVI9FGScCl",
        "outputId": "d0d6aa81-5de2-483f-a8f1-407081ea4b14"
      },
      "source": [
        "price = list(map(int, input().split(';')))\n",
        "price.sort(reverse = True)\n",
        "for i in range(len(price)):\n",
        "    print(f'{price[i]:>9,d}')\n"
      ],
      "execution_count": 54,
      "outputs": [
        {
          "output_type": "stream",
          "text": [
            "51900;83000;158000;367500;250000;59200;128500;1304000\n",
            "1,304,000\n",
            "  367,500\n",
            "  250,000\n",
            "  158,000\n",
            "  128,500\n",
            "   83,000\n",
            "   59,200\n",
            "   51,900\n"
          ],
          "name": "stdout"
        }
      ]
    },
    {
      "cell_type": "markdown",
      "metadata": {
        "id": "E0lNv9vTW8Xx"
      },
      "source": [
        "## 25.8 심사문제: 딕셔너리에서 특정 값 삭제하기\n",
        "- 표준 입력으로 문자열 여러 개와 숫자 여러 개가 두 줄로 입력되고, 첫 번째 줄은 키, 두 번째 줄은 값으로 하여 딕셔너리를 생성합니다. <br>다음 코드를 완성하여 딕셔너리에서 키가 'delta'인 키-값 쌍과 값이 30인 키-값 쌍을 삭제하도록 만드세요."
      ]
    },
    {
      "cell_type": "code",
      "metadata": {
        "colab": {
          "base_uri": "https://localhost:8080/"
        },
        "id": "jS9S0Ex2XBtm",
        "outputId": "13cb6975-0a61-409f-c895-aa61076a668a"
      },
      "source": [
        "keys = input().split()\n",
        "values = map(int, input().split())\n",
        " \n",
        "x = dict(zip(keys, values))\n",
        "\n",
        "del x['delta']\n",
        "x = {key: value for key, value in x.items() if value != 30}\n",
        "\n",
        "print(x)"
      ],
      "execution_count": 64,
      "outputs": [
        {
          "output_type": "stream",
          "text": [
            "alpha bravo charlie delta echo foxtrot golf\n",
            "30 40 50 60 70 80 90\n",
            "{'bravo': 40, 'charlie': 50, 'echo': 70, 'foxtrot': 80, 'golf': 90}\n"
          ],
          "name": "stdout"
        }
      ]
    },
    {
      "cell_type": "markdown",
      "metadata": {
        "id": "WO_67xN7aZq9"
      },
      "source": [
        "## 26.9 심사문제: 공약수 구하기\n",
        "- 표준 입력으로 양의 정수 두 개가 입력됩니다. <br>다음 소스 코드를 완성하여 두 숫자의 공약수를 세트 형태로 구하도록 만드세요. <br>단, 최종 결과는 공약수의 합으로 판단합니다."
      ]
    },
    {
      "cell_type": "code",
      "metadata": {
        "colab": {
          "base_uri": "https://localhost:8080/"
        },
        "id": "k_G2PdkpbH0D",
        "outputId": "2d2b4497-e8fc-4dd5-bdfe-d18b47932e26"
      },
      "source": [
        "input_a, input_b = map(int, input().split())\n",
        "\n",
        "a = set()\n",
        "b = set()\n",
        "\n",
        "for i in range(1,input_a+1):\n",
        "    if input_a % i == 0:\n",
        "        a.add(i)\n",
        "for k in range(1,input_b+1):\n",
        "    if input_b % k == 0:\n",
        "        b.add(k)\n",
        "\n",
        "divisor = a & b\n",
        "\n",
        "result = 0\n",
        "if type(divisor) == set:\n",
        "    result = sum(divisor)\n",
        " \n",
        "print(result)"
      ],
      "execution_count": 72,
      "outputs": [
        {
          "output_type": "stream",
          "text": [
            "10 20\n",
            "18\n"
          ],
          "name": "stdout"
        }
      ]
    }
  ]
}