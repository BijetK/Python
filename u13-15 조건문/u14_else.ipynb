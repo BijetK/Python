{
  "nbformat": 4,
  "nbformat_minor": 0,
  "metadata": {
    "colab": {
      "name": "u14_else.ipynb",
      "provenance": [],
      "collapsed_sections": []
    },
    "kernelspec": {
      "name": "python3",
      "display_name": "Python 3"
    },
    "language_info": {
      "name": "python"
    }
  },
  "cells": [
    {
      "cell_type": "markdown",
      "metadata": {
        "id": "TTcGdwm_lSQR"
      },
      "source": [
        "# Unit 14. else"
      ]
    },
    {
      "cell_type": "code",
      "metadata": {
        "colab": {
          "base_uri": "https://localhost:8080/"
        },
        "id": "WNxDvourlRaL",
        "outputId": "26f69e41-f7d4-423c-dec5-c03a6856d463"
      },
      "source": [
        "x = 5\n",
        "if x == 10:\n",
        "    print('It is 10')\n",
        "else:\n",
        "    print('It is not 10.')"
      ],
      "execution_count": 1,
      "outputs": [
        {
          "output_type": "stream",
          "text": [
            "It is not 10.\n"
          ],
          "name": "stdout"
        }
      ]
    },
    {
      "cell_type": "markdown",
      "metadata": {
        "id": "-Wpj4PIvm90f"
      },
      "source": [
        "### 3항 연산자\n",
        "- Java, JS : a = (조건) ? 참일때의 값 : 거딧일떄의 값\n",
        "- 파이썬 : a = 참일떄의 값 if 조건 else 거짓일때의 값"
      ]
    },
    {
      "cell_type": "code",
      "metadata": {
        "colab": {
          "base_uri": "https://localhost:8080/",
          "height": 36
        },
        "id": "9dzlvQgTmdaU",
        "outputId": "01ece02a-af18-4a8e-9ffa-a75d2b2ce44a"
      },
      "source": [
        "x = 1\n",
        "if x % 2 == 0:\n",
        "    y = 'even'\n",
        "else:\n",
        "    y = 'odd'\n",
        "y"
      ],
      "execution_count": 2,
      "outputs": [
        {
          "output_type": "execute_result",
          "data": {
            "application/vnd.google.colaboratory.intrinsic+json": {
              "type": "string"
            },
            "text/plain": [
              "'odd'"
            ]
          },
          "metadata": {
            "tags": []
          },
          "execution_count": 2
        }
      ]
    },
    {
      "cell_type": "code",
      "metadata": {
        "id": "8-0z6j9AnJTI"
      },
      "source": [
        "y = 'even' if x % 2 == 0 else 'odd'\n",
        "y"
      ],
      "execution_count": 3,
      "outputs": []
    },
    {
      "cell_type": "code",
      "metadata": {
        "colab": {
          "base_uri": "https://localhost:8080/"
        },
        "id": "hzYGwoMJnOgX",
        "outputId": "77097f7b-045a-4e3c-c44b-d9587454d2e2"
      },
      "source": [
        "# 90점 이상이면 'A', 80 ~ 89 : B, 70 ~ 79 : C, 60 ~ 69 : D, ~59 : F\n",
        "score = int(input('점수 입력> '))\n",
        "\n",
        "if score >= 90:\n",
        "    print('A')\n",
        "else:\n",
        "    if score >= 80:\n",
        "        print('B')\n",
        "    else:\n",
        "        if score >= 70:\n",
        "            print('C')\n",
        "        else:\n",
        "            if score >= 60:\n",
        "                print('D')\n",
        "            else:\n",
        "                print('F')"
      ],
      "execution_count": 7,
      "outputs": [
        {
          "output_type": "stream",
          "text": [
            "점수 입력> 45\n",
            "F\n"
          ],
          "name": "stdout"
        }
      ]
    },
    {
      "cell_type": "code",
      "metadata": {
        "colab": {
          "base_uri": "https://localhost:8080/",
          "height": 36
        },
        "id": "cil1cCfkpPaH",
        "outputId": "1908d581-2204-431b-df01-f71046e62c0f"
      },
      "source": [
        "grade = 'A' if score >= 90 else \\\n",
        "            'B' if score >= 80 else \\\n",
        "                'C' if score >= 70 else \\\n",
        "                    'D' if score >= 60 else \"F\"\n",
        "grade"
      ],
      "execution_count": 8,
      "outputs": [
        {
          "output_type": "execute_result",
          "data": {
            "application/vnd.google.colaboratory.intrinsic+json": {
              "type": "string"
            },
            "text/plain": [
              "'F'"
            ]
          },
          "metadata": {
            "tags": []
          },
          "execution_count": 8
        }
      ]
    },
    {
      "cell_type": "code",
      "metadata": {
        "colab": {
          "base_uri": "https://localhost:8080/",
          "height": 35
        },
        "id": "sr4H6Izdqxvx",
        "outputId": "b968d8f1-03a1-4ced-8d7e-13bad629a8de"
      },
      "source": [
        "# 돌아는 가는데 구조 파악 힘듬\n",
        "grade = 'A' if score >= 90 else 'B' if score >= 80 else 'C' if score >= 70 else 'D' if score >= 60 else \"F\"\n",
        "grade"
      ],
      "execution_count": 9,
      "outputs": [
        {
          "output_type": "execute_result",
          "data": {
            "application/vnd.google.colaboratory.intrinsic+json": {
              "type": "string"
            },
            "text/plain": [
              "'F'"
            ]
          },
          "metadata": {
            "tags": []
          },
          "execution_count": 9
        }
      ]
    },
    {
      "cell_type": "markdown",
      "metadata": {
        "id": "mvWvJ17nuhae"
      },
      "source": [
        "### 조건식에서의 논리연산자"
      ]
    },
    {
      "cell_type": "code",
      "metadata": {
        "colab": {
          "base_uri": "https://localhost:8080/"
        },
        "id": "5wfxVqBjrRii",
        "outputId": "eb6c7329-c0f1-4c25-9af7-8e9954a10bf8"
      },
      "source": [
        "x = 5\n",
        "if x > 0 and x < 10:\n",
        "    print('10보다 작은 양의 정수입니다')"
      ],
      "execution_count": 10,
      "outputs": [
        {
          "output_type": "stream",
          "text": [
            "10보다 작은 양의 정수입니다\n"
          ],
          "name": "stdout"
        }
      ]
    }
  ]
}