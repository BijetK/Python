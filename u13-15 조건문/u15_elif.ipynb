{
  "nbformat": 4,
  "nbformat_minor": 0,
  "metadata": {
    "colab": {
      "name": "u15_elif.ipynb",
      "provenance": [],
      "collapsed_sections": []
    },
    "kernelspec": {
      "name": "python3",
      "display_name": "Python 3"
    },
    "language_info": {
      "name": "python"
    }
  },
  "cells": [
    {
      "cell_type": "code",
      "metadata": {
        "colab": {
          "base_uri": "https://localhost:8080/"
        },
        "id": "6aVHCAUzoAWe",
        "outputId": "fd69945c-bc55-43e4-d59a-db1d120d1686"
      },
      "source": [
        "x = 15\n",
        "if x == 10:\n",
        "    print('It is 10.')\n",
        "elif x == 20:\n",
        "    print('It is 20.')\n",
        "else:\n",
        "    print('10, 20이 아닙니다')"
      ],
      "execution_count": 4,
      "outputs": [
        {
          "output_type": "stream",
          "text": [
            "10, 20이 아닙니다\n"
          ],
          "name": "stdout"
        }
      ]
    },
    {
      "cell_type": "code",
      "metadata": {
        "colab": {
          "base_uri": "https://localhost:8080/"
        },
        "id": "XRNutSrTod4i",
        "outputId": "1af29820-fed8-469b-e33c-4d947336a3c7"
      },
      "source": [
        "# 숫자 - 입력, 3의 배수면 fizz, 5의 배수면 buzz, 15의 배수면 fizzbuzz\n",
        "input_num = int(input())\n",
        "\n",
        "if input_num % 3 == 0:\n",
        "    if input_num % 5 != 0:\n",
        "        print('fizz')\n",
        "    else:\n",
        "        print('fizzbuzz')\n",
        "else:\n",
        "    if input_num %4 5 == 0:\n",
        "        print('buzz')"
      ],
      "execution_count": 10,
      "outputs": [
        {
          "output_type": "stream",
          "text": [
            "45\n",
            "fizzbuzz\n"
          ],
          "name": "stdout"
        }
      ]
    },
    {
      "cell_type": "code",
      "metadata": {
        "colab": {
          "base_uri": "https://localhost:8080/"
        },
        "id": "3q3eV9cyqK0o",
        "outputId": "37d2e640-3906-4369-e840-861e49d32fa2"
      },
      "source": [
        "# 숫자 - 입력, 3의 배수면 fizz, 5의 배수면 buzz, 15의 배수면 fizzbuzz\n",
        "input_num = int(input())\n",
        "\n",
        "if input_num % 15 == 0:\n",
        "    print('fizzbuzz')\n",
        "elif input_num % 5 == 0:\n",
        "    print('buzz')\n",
        "elif input_num % 3 == 0:\n",
        "    print('fizz')\n",
        "else:\n",
        "    print(input_num)"
      ],
      "execution_count": 11,
      "outputs": [
        {
          "output_type": "stream",
          "text": [
            "10\n",
            "buzz\n"
          ],
          "name": "stdout"
        }
      ]
    },
    {
      "cell_type": "code",
      "metadata": {
        "colab": {
          "base_uri": "https://localhost:8080/"
        },
        "id": "fIgUaJivq-Yc",
        "outputId": "baa2f55a-4b40-4481-a0c5-4cbd1dba1872"
      },
      "source": [
        "'Fizz' * False, 'Buzz' * True"
      ],
      "execution_count": 13,
      "outputs": [
        {
          "output_type": "execute_result",
          "data": {
            "text/plain": [
              "('', 'Buzz')"
            ]
          },
          "metadata": {
            "tags": []
          },
          "execution_count": 13
        }
      ]
    },
    {
      "cell_type": "code",
      "metadata": {
        "colab": {
          "base_uri": "https://localhost:8080/"
        },
        "id": "9Nifl_0bqqhG",
        "outputId": "c4f8499a-f620-4dbf-a731-335bf3dd72d1"
      },
      "source": [
        "print('Fizz' * (input_num % 3 == 0) + 'buzz' * (input_num % 5 == 0) or input)\n",
        "#숏컷 서킷 : 앞이 트루면 뒤는 거들떠보지도 않고, 앞이 false면 or 뒤를 신경씀"
      ],
      "execution_count": 14,
      "outputs": [
        {
          "output_type": "stream",
          "text": [
            "buzz\n"
          ],
          "name": "stdout"
        }
      ]
    }
  ]
}