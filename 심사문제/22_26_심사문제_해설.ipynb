{
  "nbformat": 4,
  "nbformat_minor": 0,
  "metadata": {
    "colab": {
      "name": "22-26 심사문제 해설.ipynb",
      "provenance": [],
      "collapsed_sections": []
    },
    "kernelspec": {
      "name": "python3",
      "display_name": "Python 3"
    },
    "language_info": {
      "name": "python"
    }
  },
  "cells": [
    {
      "cell_type": "markdown",
      "metadata": {
        "id": "h3MxXzlcVMev"
      },
      "source": [
        "## 22.10"
      ]
    },
    {
      "cell_type": "code",
      "metadata": {
        "colab": {
          "base_uri": "https://localhost:8080/",
          "height": 266
        },
        "id": "ADNTRdArVRSr",
        "outputId": "d2901909-571a-40dd-bf93-bb4eed2db0bb"
      },
      "source": [
        "a, b = map(int, input().split())\n",
        "square = [2 ** i for i in range(a, b+1)]\n",
        "del square[-2]\n",
        "del square[1]\n",
        "square"
      ],
      "execution_count": 1,
      "outputs": [
        {
          "output_type": "stream",
          "text": [
            "1 1\n"
          ],
          "name": "stdout"
        },
        {
          "output_type": "error",
          "ename": "IndexError",
          "evalue": "ignored",
          "traceback": [
            "\u001b[0;31m---------------------------------------------------------------------------\u001b[0m",
            "\u001b[0;31mIndexError\u001b[0m                                Traceback (most recent call last)",
            "\u001b[0;32m<ipython-input-1-6583bad262a9>\u001b[0m in \u001b[0;36m<module>\u001b[0;34m()\u001b[0m\n\u001b[1;32m      1\u001b[0m \u001b[0ma\u001b[0m\u001b[0;34m,\u001b[0m \u001b[0mb\u001b[0m \u001b[0;34m=\u001b[0m \u001b[0mmap\u001b[0m\u001b[0;34m(\u001b[0m\u001b[0mint\u001b[0m\u001b[0;34m,\u001b[0m \u001b[0minput\u001b[0m\u001b[0;34m(\u001b[0m\u001b[0;34m)\u001b[0m\u001b[0;34m.\u001b[0m\u001b[0msplit\u001b[0m\u001b[0;34m(\u001b[0m\u001b[0;34m)\u001b[0m\u001b[0;34m)\u001b[0m\u001b[0;34m\u001b[0m\u001b[0;34m\u001b[0m\u001b[0m\n\u001b[1;32m      2\u001b[0m \u001b[0msquare\u001b[0m \u001b[0;34m=\u001b[0m \u001b[0;34m[\u001b[0m\u001b[0;36m2\u001b[0m \u001b[0;34m**\u001b[0m \u001b[0mi\u001b[0m \u001b[0;32mfor\u001b[0m \u001b[0mi\u001b[0m \u001b[0;32min\u001b[0m \u001b[0mrange\u001b[0m\u001b[0;34m(\u001b[0m\u001b[0ma\u001b[0m\u001b[0;34m,\u001b[0m \u001b[0mb\u001b[0m\u001b[0;34m+\u001b[0m\u001b[0;36m1\u001b[0m\u001b[0;34m)\u001b[0m\u001b[0;34m]\u001b[0m\u001b[0;34m\u001b[0m\u001b[0;34m\u001b[0m\u001b[0m\n\u001b[0;32m----> 3\u001b[0;31m \u001b[0;32mdel\u001b[0m \u001b[0msquare\u001b[0m\u001b[0;34m[\u001b[0m\u001b[0;34m-\u001b[0m\u001b[0;36m2\u001b[0m\u001b[0;34m]\u001b[0m\u001b[0;34m\u001b[0m\u001b[0;34m\u001b[0m\u001b[0m\n\u001b[0m\u001b[1;32m      4\u001b[0m \u001b[0;32mdel\u001b[0m \u001b[0msquare\u001b[0m\u001b[0;34m[\u001b[0m\u001b[0;36m1\u001b[0m\u001b[0;34m]\u001b[0m\u001b[0;34m\u001b[0m\u001b[0;34m\u001b[0m\u001b[0m\n\u001b[1;32m      5\u001b[0m \u001b[0msquare\u001b[0m\u001b[0;34m\u001b[0m\u001b[0;34m\u001b[0m\u001b[0m\n",
            "\u001b[0;31mIndexError\u001b[0m: list assignment index out of range"
          ]
        }
      ]
    },
    {
      "cell_type": "code",
      "metadata": {
        "id": "EjZ4AXTwWHJg"
      },
      "source": [
        "import random\n",
        "mines = []\n",
        "for _ in range(9):\n",
        "    row = ''        # 빈 스트링\n",
        "    for _ in range(9):\n",
        "        if random.random() > 0.6:\n",
        "            row += '*'\n",
        "        else:\n",
        "            row += '.'\n",
        "        mines.append(row)"
      ],
      "execution_count": 7,
      "outputs": []
    },
    {
      "cell_type": "code",
      "metadata": {
        "colab": {
          "base_uri": "https://localhost:8080/"
        },
        "id": "NuxTYTPZWlwN",
        "outputId": "bac080a5-f358-4f7b-aa5c-10d10a48b34e"
      },
      "source": [
        "# 표현식으로\n",
        "mines = [['*' if random.random()>0.6 else '.' for _ in range(9) ] for _ in range(9)]\n",
        "for i in range(len(mines)):\n",
        "    for k in range(len(mines)):\n",
        "        print(mines[i][k], end = ' ')\n",
        "    print()"
      ],
      "execution_count": 12,
      "outputs": [
        {
          "output_type": "stream",
          "text": [
            ". . . * * * . * * \n",
            ". . * . * * . * . \n",
            ". * . . . . * * * \n",
            ". . * * . * . . * \n",
            "* . * . . . * . . \n",
            ". . . . * . . * * \n",
            ". . * * * . * * . \n",
            "* . * * . . . . . \n",
            ". . . . * . . * . \n"
          ],
          "name": "stdout"
        }
      ]
    },
    {
      "cell_type": "code",
      "metadata": {
        "id": "0FXEWYgiXAvL"
      },
      "source": [
        "# 함수 이용\n",
        "def print_mine(mat):\n",
        "    for i in range(len(mat)):\n",
        "        for k in range(len(mat)):\n",
        "            print(mat[i][k], end = ' ')\n",
        "        print()"
      ],
      "execution_count": 27,
      "outputs": []
    },
    {
      "cell_type": "code",
      "metadata": {
        "colab": {
          "base_uri": "https://localhost:8080/"
        },
        "id": "gnJz3qm8XS_h",
        "outputId": "408f6b87-4a3f-498b-9302-d44cb56e3701"
      },
      "source": [
        "pad_mines = []\n",
        "pad_mines.append('...........')\n",
        "for i in range(9):\n",
        "    row = '.'\n",
        "    for k in range(9):\n",
        "        row += mines[i][k]\n",
        "    row += '.'\n",
        "    pad_mines.append(row)               \n",
        "pad_mines.append('...........')   \n",
        "\n",
        "print_mine(pad_mines)          # 패딩 만들기 끝"
      ],
      "execution_count": 29,
      "outputs": [
        {
          "output_type": "stream",
          "text": [
            ". . . . . . . . . . . \n",
            ". . . . * * * . * * . \n",
            ". . . * . * * . * . . \n",
            ". . * . . . . * * * . \n",
            ". . . * * . * . . * . \n",
            ". * . * . . . * . . . \n",
            ". . . . . * . . * * . \n",
            ". . . * * * . * * . . \n",
            ". * . * * . . . . . . \n",
            ". . . . . * . . * . . \n",
            ". . . . . . . . . . . \n"
          ],
          "name": "stdout"
        }
      ]
    },
    {
      "cell_type": "code",
      "metadata": {
        "colab": {
          "base_uri": "https://localhost:8080/"
        },
        "id": "mrdoQvGUYw8u",
        "outputId": "8c627944-036a-44e9-e30a-a8b92b0ee7d0"
      },
      "source": [
        "final_mines = []\n",
        "for i in range(1, 10):\n",
        "    row = ''\n",
        "    for k in range(1,10):\n",
        "        if pad_mines[i][k] == '*':\n",
        "            row += '*'\n",
        "        else:\n",
        "            count = (pad_mines[i-1][k-1] == '* ') + (pad_mines[i-1][k] == '*') + \\\n",
        "                    (pad_mines[i-1][k+1] == '*') + (pad_mines[i][k-1] == '*') + \\\n",
        "                    (pad_mines[i][k+1] == '*') + (pad_mines[i+1][k-1] == '*') + \\\n",
        "                    (pad_mines[i+1][k] == '*') + (pad_mines[i+1][k+1] == '*')\n",
        "        row += str(count)\n",
        "    final_mines.append(row)\n",
        "\n",
        "print_mine(final_mines)"
      ],
      "execution_count": 28,
      "outputs": [
        {
          "output_type": "stream",
          "text": [
            "0 1 2 * 2 * 2 * 2 \n",
            "1 2 * 2 4 * 4 * 4 \n",
            "1 * 1 4 3 4 3 * 3 \n",
            "2 4 * 4 * 4 2 * 2 \n",
            "* 4 3 * 3 3 2 3 * \n",
            "1 2 3 4 * 4 4 4 * \n",
            "1 3 * 3 * 3 * 3 2 \n",
            "* 2 3 * 3 * 3 3 2 \n",
            "1 1 2 2 * 2 1 1 * \n"
          ],
          "name": "stdout"
        }
      ]
    },
    {
      "cell_type": "code",
      "metadata": {
        "id": "nDmTN6QBdeLY"
      },
      "source": [
        "text = '''the grown-ups' response, this time, was to advise me to lay aside my drawings of boa constrictors, whether from the inside or the outside, and devote myself instead to geography, history, arithmetic, and grammar. That is why, at the, age of six, I gave up what might have been a magnificent career as a painter. I had been disheartened by the failure of my Drawing Number One and my Drawing Number Two. Grown-ups never understand anything by themselves, and it is tiresome for children to be always and forever explaining things to the.'''"
      ],
      "execution_count": 32,
      "outputs": []
    },
    {
      "cell_type": "code",
      "metadata": {
        "colab": {
          "base_uri": "https://localhost:8080/",
          "height": 127
        },
        "id": "3CEYcyaadvOX",
        "outputId": "f7b5c001-b755-4a43-f28b-e8cc61ff5d43"
      },
      "source": [
        "import re   # 레귤러 익스프레션\n",
        "text = re.sub('[\\'-.,\\n]', '', text)    # ', -, ., 줄바꿈을 ''로 바꿈(삭제)\n",
        "text"
      ],
      "execution_count": 36,
      "outputs": [
        {
          "output_type": "execute_result",
          "data": {
            "application/vnd.google.colaboratory.intrinsic+json": {
              "type": "string"
            },
            "text/plain": [
              "'the grownups response this time was to advise me to lay aside my drawings of boa constrictors whether from the inside or the outside and devote myself instead to geography history arithmetic and grammar That is why at the age of six I gave up what might have been a magnificent career as a painter I had been disheartened by the failure of my Drawing Number One and my Drawing Number Two Grownups never understand anything by themselves and it is tiresome for children to be always and forever explaining things to the'"
            ]
          },
          "metadata": {
            "tags": []
          },
          "execution_count": 36
        }
      ]
    },
    {
      "cell_type": "code",
      "metadata": {
        "colab": {
          "base_uri": "https://localhost:8080/",
          "height": 192
        },
        "id": "oBUYbD9xdvHZ",
        "outputId": "3e6d64d8-18fa-44d3-b339-a744705d00d9"
      },
      "source": [
        "text =re.sub('[^A-za-z ]')\n",
        "text"
      ],
      "execution_count": 37,
      "outputs": [
        {
          "output_type": "error",
          "ename": "TypeError",
          "evalue": "ignored",
          "traceback": [
            "\u001b[0;31m---------------------------------------------------------------------------\u001b[0m",
            "\u001b[0;31mTypeError\u001b[0m                                 Traceback (most recent call last)",
            "\u001b[0;32m<ipython-input-37-207a038b4c11>\u001b[0m in \u001b[0;36m<module>\u001b[0;34m()\u001b[0m\n\u001b[0;32m----> 1\u001b[0;31m \u001b[0mtext\u001b[0m \u001b[0;34m=\u001b[0m\u001b[0mre\u001b[0m\u001b[0;34m.\u001b[0m\u001b[0msub\u001b[0m\u001b[0;34m(\u001b[0m\u001b[0;34m'[^A-za-z ]'\u001b[0m\u001b[0;34m)\u001b[0m\u001b[0;34m\u001b[0m\u001b[0;34m\u001b[0m\u001b[0m\n\u001b[0m\u001b[1;32m      2\u001b[0m \u001b[0mtext\u001b[0m\u001b[0;34m\u001b[0m\u001b[0;34m\u001b[0m\u001b[0m\n",
            "\u001b[0;31mTypeError\u001b[0m: sub() missing 2 required positional arguments: 'repl' and 'string'"
          ]
        }
      ]
    },
    {
      "cell_type": "code",
      "metadata": {
        "colab": {
          "base_uri": "https://localhost:8080/"
        },
        "id": "TURdpaQgdAMy",
        "outputId": "7c77c91a-9739-413a-8cec-428766d4d94c"
      },
      "source": [
        "\n",
        "\n",
        "text_list = text.lower().strip().split()\n",
        "count = 0\n",
        "for word in text_list:\n",
        "    if word == 'the':\n",
        "        count += 1\n",
        "count"
      ],
      "execution_count": 33,
      "outputs": [
        {
          "output_type": "execute_result",
          "data": {
            "text/plain": [
              "4"
            ]
          },
          "metadata": {
            "tags": []
          },
          "execution_count": 33
        }
      ]
    },
    {
      "cell_type": "code",
      "metadata": {
        "colab": {
          "base_uri": "https://localhost:8080/",
          "height": 192
        },
        "id": "v-jeiQuqfEzb",
        "outputId": "975d3078-de5f-46ef-d1aa-916aaaf2188b"
      },
      "source": [
        "for price in price_list:\n",
        "    print(f'{price:9,d},d')"
      ],
      "execution_count": 39,
      "outputs": [
        {
          "output_type": "error",
          "ename": "NameError",
          "evalue": "ignored",
          "traceback": [
            "\u001b[0;31m---------------------------------------------------------------------------\u001b[0m",
            "\u001b[0;31mNameError\u001b[0m                                 Traceback (most recent call last)",
            "\u001b[0;32m<ipython-input-39-4909cd6e8123>\u001b[0m in \u001b[0;36m<module>\u001b[0;34m()\u001b[0m\n\u001b[0;32m----> 1\u001b[0;31m \u001b[0;32mfor\u001b[0m \u001b[0mprice\u001b[0m \u001b[0;32min\u001b[0m \u001b[0mprice_list\u001b[0m\u001b[0;34m:\u001b[0m\u001b[0;34m\u001b[0m\u001b[0;34m\u001b[0m\u001b[0m\n\u001b[0m\u001b[1;32m      2\u001b[0m     \u001b[0mprint\u001b[0m\u001b[0;34m(\u001b[0m\u001b[0;34mf'{price:9,d},d'\u001b[0m\u001b[0;34m)\u001b[0m\u001b[0;34m\u001b[0m\u001b[0;34m\u001b[0m\u001b[0m\n",
            "\u001b[0;31mNameError\u001b[0m: name 'price_list' is not defined"
          ]
        }
      ]
    },
    {
      "cell_type": "code",
      "metadata": {
        "colab": {
          "base_uri": "https://localhost:8080/"
        },
        "id": "CBqCPZ1yfcty",
        "outputId": "c7e57218-ead8-4839-e87b-04394a90f619"
      },
      "source": [
        "# alpha bravo charlie delta\n",
        "# 10 20 30 40\n",
        "keys = input().split()\n",
        "values = map(int, input().split())\n",
        "x = dict(zip(keys, values))\n",
        "x"
      ],
      "execution_count": 44,
      "outputs": [
        {
          "output_type": "stream",
          "text": [
            "alpha bravo charlie delta\n",
            "10 20 30 40\n"
          ],
          "name": "stdout"
        },
        {
          "output_type": "execute_result",
          "data": {
            "text/plain": [
              "{'alpha': 10, 'bravo': 20, 'charlie': 30, 'delta': 40}"
            ]
          },
          "metadata": {
            "tags": []
          },
          "execution_count": 44
        }
      ]
    },
    {
      "cell_type": "code",
      "metadata": {
        "colab": {
          "base_uri": "https://localhost:8080/"
        },
        "id": "WQada3QmiAzz",
        "outputId": "fd5b8ca8-c174-4751-af65-58966042b75a"
      },
      "source": [
        "del x['delta']\n",
        "x"
      ],
      "execution_count": 45,
      "outputs": [
        {
          "output_type": "execute_result",
          "data": {
            "text/plain": [
              "{'alpha': 10, 'bravo': 20, 'charlie': 30}"
            ]
          },
          "metadata": {
            "tags": []
          },
          "execution_count": 45
        }
      ]
    },
    {
      "cell_type": "code",
      "metadata": {
        "colab": {
          "base_uri": "https://localhost:8080/"
        },
        "id": "19wOgZsGhMRz",
        "outputId": "ba52eaee-9988-4239-cada-9fb91bdd3a1c"
      },
      "source": [
        "for key, value in x.items():\n",
        "    if value == 30:\n",
        "        break\n",
        "x.pop(key)\n",
        "x"
      ],
      "execution_count": 46,
      "outputs": [
        {
          "output_type": "execute_result",
          "data": {
            "text/plain": [
              "{'alpha': 10, 'bravo': 20}"
            ]
          },
          "metadata": {
            "tags": []
          },
          "execution_count": 46
        }
      ]
    },
    {
      "cell_type": "code",
      "metadata": {
        "id": "1X6cb95rgME2"
      },
      "source": [
        "div_list = []\n",
        "x = 10\n",
        "for i in range(1, x+1):\n",
        "    if x % i == 0:\n",
        "        div_list.append(i)\n",
        "print(div_list)"
      ],
      "execution_count": null,
      "outputs": []
    },
    {
      "cell_type": "code",
      "metadata": {
        "id": "XU2EcE4yfj_x"
      },
      "source": [
        "x, y = map(int, input(),split())\n",
        "# 위의 식 표현식으로 간단하게\n",
        "a = set(i for i in range(1, x+1) if x%i == 0)\n",
        "b = set(i for i in range(1, y+1) if y%i == 0)\n",
        "print(a, b)\n",
        "divisor = a & b\n",
        "result = 0\n",
        "if type(divisor) == set:\n",
        "    result = sum(divisor)\n",
        "\n",
        "print(result)"
      ],
      "execution_count": null,
      "outputs": []
    }
  ]
}