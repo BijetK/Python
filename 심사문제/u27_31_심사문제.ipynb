{
  "nbformat": 4,
  "nbformat_minor": 0,
  "metadata": {
    "colab": {
      "name": "u27-31 심사문제.ipynb",
      "provenance": [],
      "collapsed_sections": [],
      "toc_visible": true
    },
    "kernelspec": {
      "name": "python3",
      "display_name": "Python 3"
    },
    "language_info": {
      "name": "python"
    }
  },
  "cells": [
    {
      "cell_type": "markdown",
      "metadata": {
        "id": "ql7kz07S6wi3"
      },
      "source": [
        "## 27.6 심사문제: 특정 문자가 들어있는 단어 찾기\n",
        "- 문자열이 저장된 words.txt 파일이 주어집니다(문자열은 한 줄로 저장되어 있습니다). <br>words.txt 파일에서 문자 c가 포함된 단어를 각 줄에 출력하는 프로그램을 만드세요. <br>단어를 출력할 때는 등장한 순서대로 출력해야 하며 ,(콤마)와 .(점)은 출력하지 않아야 합니다."
      ]
    },
    {
      "cell_type": "code",
      "metadata": {
        "colab": {
          "base_uri": "https://localhost:8080/"
        },
        "id": "OMYQtNj67xoU",
        "outputId": "86373583-f505-4c60-d0b5-af2b5505f732"
      },
      "source": [
        "file = open('words.txt', 'w')       # 쓰기 모드\n",
        "file.write('Fortunately, however, for the reputation of Asteroid B-612, a Turkish dictator made a law that his subjects, under pain of death, should change to European costume. So in 1920 the astronomer gave his demonstration all over again, dressed with impressive style and elegance. And this time everybody accepted his report.')    "
      ],
      "execution_count": 3,
      "outputs": [
        {
          "output_type": "execute_result",
          "data": {
            "text/plain": [
              "318"
            ]
          },
          "metadata": {
            "tags": []
          },
          "execution_count": 3
        }
      ]
    },
    {
      "cell_type": "code",
      "metadata": {
        "colab": {
          "base_uri": "https://localhost:8080/"
        },
        "id": "t2WbBPNu683H",
        "outputId": "c09f21f0-d91b-4bfa-f6e3-38b2aa572850"
      },
      "source": [
        "count = []\n",
        "with open('words.txt', 'r') as file:\n",
        "    line = file.readline().split()\n",
        "    for i in range((len(line))):\n",
        "        line[i] = line[i].strip('.,')\n",
        "        if line[i].find('c') != -1:\n",
        "            count.append(i)\n",
        "\n",
        "for i in range(len(count)):\n",
        "    print(line[count[i]])"
      ],
      "execution_count": 19,
      "outputs": [
        {
          "output_type": "stream",
          "text": [
            "dictator\n",
            "subjects\n",
            "change\n",
            "costume\n",
            "elegance\n",
            "accepted\n"
          ],
          "name": "stdout"
        }
      ]
    },
    {
      "cell_type": "markdown",
      "metadata": {
        "id": "L7c59tTV6w4R"
      },
      "source": [
        "## 29.4 심사문제: 사칙 연산 함수 만들기\n",
        "- 표준 입력으로 숫자 두 개가 입력됩니다. <br>다음 소스 코드를 완성하여 두 숫자의 덧셈, 뺄셈, 곱셈, 나눗셈의 결과가 출력되게 만드세요. <br>이때 나눗셈의 결과는 실수라야 합니다."
      ]
    },
    {
      "cell_type": "code",
      "metadata": {
        "colab": {
          "base_uri": "https://localhost:8080/"
        },
        "id": "hYX8qcWhAB6M",
        "outputId": "fa68e725-9058-4531-ad64-4f273a1aea27"
      },
      "source": [
        "x, y = map(int, input().split())\n",
        "\n",
        "def calc(a, b):\n",
        "    add = a + b\n",
        "    sub = a - b\n",
        "    mul = a * b\n",
        "    div = a / b\n",
        "    return add, sub, mul, div\n",
        "\n",
        "\n",
        "\n",
        "a, s, m, d = calc(x, y)\n",
        "print('덧셈: {0}, 뺄셈: {1}, 곱셈: {2}, 나눗셈: {3}'.format(a, s, m, d))"
      ],
      "execution_count": 20,
      "outputs": [
        {
          "output_type": "stream",
          "text": [
            "40 8\n",
            "덧셈: 48, 뺄셈: 32, 곱셈: 320, 나눗셈: 5.0\n"
          ],
          "name": "stdout"
        }
      ]
    },
    {
      "cell_type": "markdown",
      "metadata": {
        "id": "k-9vJWhkHFsw"
      },
      "source": [
        "## 30.7 심사문제: 가장 낮은 점수, 높은 점수와 평균 점수를 구하는 함수 만들기\n",
        "- 표준 입력으로 국어, 영어, 수학, 과학 점수가 입력됩니다. <br>다음 소스 코드를 완성하여 가장 높은 점수, 가장 낮은 점수, 평균 점수가 출력되게 만드세요. <br>평균 점수는 실수로 출력되어야 합니다."
      ]
    },
    {
      "cell_type": "code",
      "metadata": {
        "colab": {
          "base_uri": "https://localhost:8080/"
        },
        "id": "6a-zlohLHN5a",
        "outputId": "cfdd920b-a60b-476b-f0c1-a7d082d6af0f"
      },
      "source": [
        "korean, english, mathematics, science = map(int, input().split())\n",
        "\n",
        "def get_min_max_score(*args):\n",
        "    return min(args), max(args)\n",
        "\n",
        "\n",
        "def get_average(korean = 0, english = 0, mathematics = 0, science = 0):\n",
        "    sum = 0\n",
        "    count = 0\n",
        "    args = [korean, english, mathematics, science]\n",
        "    for arg in args:\n",
        "        sum += arg\n",
        "    for i in range(len(args)):\n",
        "        if args[i] != 0:\n",
        "            count += 1\n",
        "    return sum / count\n",
        "\n",
        "min_score, max_score = get_min_max_score(korean, english, mathematics, science)\n",
        "average_score = get_average(korean=korean, english=english,\n",
        "                            mathematics=mathematics, science=science)\n",
        "print('낮은 점수: {0:.2f}, 높은 점수: {1:.2f}, 평균 점수: {2:.2f}'\n",
        "      .format(min_score, max_score, average_score))\n",
        " \n",
        "min_score, max_score = get_min_max_score(english, science)\n",
        "average_score = get_average(english=english, science=science)\n",
        "print('낮은 점수: {0:.2f}, 높은 점수: {1:.2f}, 평균 점수: {2:.2f}'\n",
        "      .format(min_score, max_score, average_score))"
      ],
      "execution_count": 26,
      "outputs": [
        {
          "output_type": "stream",
          "text": [
            "50 60 70 80\n",
            "낮은 점수: 50.00, 높은 점수: 80.00, 평균 점수: 65.00\n",
            "낮은 점수: 60.00, 높은 점수: 80.00, 평균 점수: 70.00\n"
          ],
          "name": "stdout"
        }
      ]
    },
    {
      "cell_type": "markdown",
      "metadata": {
        "id": "0fDQcMDHKDVX"
      },
      "source": [
        "## 31.4 연습문제: 재귀호출로 회문 판별하기핵심 정리 ▶︎\n",
        "- 표준 입력으로 정수 한 개가 입력됩니다(입력 값의 범위는 10~30). <br>다음 소스 코드를 완성하여 입력된 정수에 해당하는 피보나치 수가 출력되게 만드세요. <br>피보나치 수는 0과 1로 시작하며, 다음 번 피보나치 수는 바로 앞의 두 피보나치 수의 합입니다."
      ]
    },
    {
      "cell_type": "code",
      "metadata": {
        "colab": {
          "base_uri": "https://localhost:8080/"
        },
        "id": "Y1FqJDzqKDoa",
        "outputId": "0ecd6fab-0069-45a9-e8d7-03f2a6005372"
      },
      "source": [
        "def fib(n):    \n",
        "    if n == 2 or n ==1:\n",
        "        return 1\n",
        "    return fib(n-1) + fib(n-2)\n",
        "\n",
        "n = int(input())\n",
        "print(fib(n))"
      ],
      "execution_count": 29,
      "outputs": [
        {
          "output_type": "stream",
          "text": [
            "20\n",
            "6765\n"
          ],
          "name": "stdout"
        }
      ]
    }
  ]
}