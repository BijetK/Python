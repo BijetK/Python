{
  "nbformat": 4,
  "nbformat_minor": 0,
  "metadata": {
    "colab": {
      "name": "u11_Sequence.ipynb",
      "provenance": [],
      "collapsed_sections": []
    },
    "kernelspec": {
      "name": "python3",
      "display_name": "Python 3"
    },
    "language_info": {
      "name": "python"
    }
  },
  "cells": [
    {
      "cell_type": "markdown",
      "metadata": {
        "id": "P3PngvODtktG"
      },
      "source": [
        "# Unit 11. 시퀀스(Sequence) 자료형"
      ]
    },
    {
      "cell_type": "code",
      "metadata": {
        "colab": {
          "base_uri": "https://localhost:8080/"
        },
        "id": "6Cq0m8KCtvbt",
        "outputId": "e07f77ab-86b5-4518-f9be-cefbb80136f9"
      },
      "source": [
        "for i in range(1,5):\n",
        "    print(i, end=\" \")"
      ],
      "execution_count": 1,
      "outputs": [
        {
          "output_type": "stream",
          "text": [
            "1 2 3 4 "
          ],
          "name": "stdout"
        }
      ]
    },
    {
      "cell_type": "code",
      "metadata": {
        "colab": {
          "base_uri": "https://localhost:8080/"
        },
        "id": "fF8Vm4b1uOHW",
        "outputId": "7bc29c49-2e50-4de4-84d0-874a525dc284"
      },
      "source": [
        "# 시퀀스 자료형은 반복문 사용 가능\n",
        "for i in 'hello':       # [1,2,3,4], (1,2,3,4), range(1,5)\n",
        "    print(i, end=\" \")"
      ],
      "execution_count": 2,
      "outputs": [
        {
          "output_type": "stream",
          "text": [
            "h e l l o "
          ],
          "name": "stdout"
        }
      ]
    },
    {
      "cell_type": "markdown",
      "metadata": {
        "id": "N39XWFnrynYh"
      },
      "source": [
        "## 11.1 공통기능"
      ]
    },
    {
      "cell_type": "markdown",
      "metadata": {
        "id": "7nSADpi-u1bh"
      },
      "source": [
        "### 특정 값 존재 여부"
      ]
    },
    {
      "cell_type": "code",
      "metadata": {
        "colab": {
          "base_uri": "https://localhost:8080/"
        },
        "id": "mZu5oG4TuR41",
        "outputId": "ea1e3a36-7a0d-4c96-ea4a-e51f7a225c99"
      },
      "source": [
        "a = list(range(0, 100, 10))\n",
        "a"
      ],
      "execution_count": 3,
      "outputs": [
        {
          "output_type": "execute_result",
          "data": {
            "text/plain": [
              "[0, 10, 20, 30, 40, 50, 60, 70, 80, 90]"
            ]
          },
          "metadata": {
            "tags": []
          },
          "execution_count": 3
        }
      ]
    },
    {
      "cell_type": "code",
      "metadata": {
        "colab": {
          "base_uri": "https://localhost:8080/"
        },
        "id": "xXGX-d_HvHBv",
        "outputId": "ecd00704-63a2-4fbe-c80a-f369398e6e14"
      },
      "source": [
        "30 in a, 33 in a, 33 not in a"
      ],
      "execution_count": 6,
      "outputs": [
        {
          "output_type": "execute_result",
          "data": {
            "text/plain": [
              "(True, False, True)"
            ]
          },
          "metadata": {
            "tags": []
          },
          "execution_count": 6
        }
      ]
    },
    {
      "cell_type": "code",
      "metadata": {
        "colab": {
          "base_uri": "https://localhost:8080/"
        },
        "id": "szmIuZf4vH6_",
        "outputId": "8db9562b-a7eb-457f-ce29-90719e13b648"
      },
      "source": [
        "5 in range(5)"
      ],
      "execution_count": 7,
      "outputs": [
        {
          "output_type": "execute_result",
          "data": {
            "text/plain": [
              "False"
            ]
          },
          "metadata": {
            "tags": []
          },
          "execution_count": 7
        }
      ]
    },
    {
      "cell_type": "code",
      "metadata": {
        "colab": {
          "base_uri": "https://localhost:8080/"
        },
        "id": "Usb-7Yr-vX0f",
        "outputId": "9a90dfb0-1bee-4144-81d9-7a4e57001b47"
      },
      "source": [
        "'h' in 'Hello'"
      ],
      "execution_count": 10,
      "outputs": [
        {
          "output_type": "execute_result",
          "data": {
            "text/plain": [
              "False"
            ]
          },
          "metadata": {
            "tags": []
          },
          "execution_count": 10
        }
      ]
    },
    {
      "cell_type": "markdown",
      "metadata": {
        "id": "6tOfR18xvpMA"
      },
      "source": [
        "### 시퀀스 객체 연결(Concatenation)"
      ]
    },
    {
      "cell_type": "code",
      "metadata": {
        "colab": {
          "base_uri": "https://localhost:8080/",
          "height": 35
        },
        "id": "_gZ8TZsivkg-",
        "outputId": "4801f471-958a-4405-bb77-8cd74a4a9bd8"
      },
      "source": [
        "'Hello' + ' ' + 'World'"
      ],
      "execution_count": 11,
      "outputs": [
        {
          "output_type": "execute_result",
          "data": {
            "application/vnd.google.colaboratory.intrinsic+json": {
              "type": "string"
            },
            "text/plain": [
              "'Hello World'"
            ]
          },
          "metadata": {
            "tags": []
          },
          "execution_count": 11
        }
      ]
    },
    {
      "cell_type": "code",
      "metadata": {
        "colab": {
          "base_uri": "https://localhost:8080/"
        },
        "id": "nRwvNfSHv0mE",
        "outputId": "6677499a-6883-46ef-b1c4-eebff259ecc6"
      },
      "source": [
        "[2, 4, 6] + [1, 3, 5]"
      ],
      "execution_count": 13,
      "outputs": [
        {
          "output_type": "execute_result",
          "data": {
            "text/plain": [
              "[2, 4, 6, 1, 3, 5]"
            ]
          },
          "metadata": {
            "tags": []
          },
          "execution_count": 13
        }
      ]
    },
    {
      "cell_type": "code",
      "metadata": {
        "colab": {
          "base_uri": "https://localhost:8080/"
        },
        "id": "9QZ7AgACwBHJ",
        "outputId": "5ffe81ca-4f8a-40da-8042-2c0e32272f83"
      },
      "source": [
        "(1, 3, 5) + (2, 4, 6)"
      ],
      "execution_count": 14,
      "outputs": [
        {
          "output_type": "execute_result",
          "data": {
            "text/plain": [
              "(1, 3, 5, 2, 4, 6)"
            ]
          },
          "metadata": {
            "tags": []
          },
          "execution_count": 14
        }
      ]
    },
    {
      "cell_type": "code",
      "metadata": {
        "id": "62-k2jTHwGMD"
      },
      "source": [
        "# range(5) + range(5, 10)       불가능"
      ],
      "execution_count": 15,
      "outputs": []
    },
    {
      "cell_type": "code",
      "metadata": {
        "colab": {
          "base_uri": "https://localhost:8080/",
          "height": 35
        },
        "id": "wSQv9Kf-wQxN",
        "outputId": "b5e3f6f4-c644-4d4d-b0b8-becba84c9460"
      },
      "source": [
        "# 문지열 + 정수, \"Number\" + 5 --> \"Number5\" : Java에서는 가능, 파이썬에서는 불가능\n",
        "'Number' + str(5)       #old style"
      ],
      "execution_count": 16,
      "outputs": [
        {
          "output_type": "execute_result",
          "data": {
            "application/vnd.google.colaboratory.intrinsic+json": {
              "type": "string"
            },
            "text/plain": [
              "'Number5'"
            ]
          },
          "metadata": {
            "tags": []
          },
          "execution_count": 16
        }
      ]
    },
    {
      "cell_type": "code",
      "metadata": {
        "colab": {
          "base_uri": "https://localhost:8080/",
          "height": 35
        },
        "id": "BosU9R1kwvsr",
        "outputId": "f6077356-f2da-4887-a394-74a27d3aafe6"
      },
      "source": [
        "# 파이썬 3.6부터는 Formatted String 사용 가능\n",
        "pi = 3.14\n",
        "f'Number{5:02d}: {pi:.4f}'"
      ],
      "execution_count": 19,
      "outputs": [
        {
          "output_type": "execute_result",
          "data": {
            "application/vnd.google.colaboratory.intrinsic+json": {
              "type": "string"
            },
            "text/plain": [
              "'Number05: 3.1400'"
            ]
          },
          "metadata": {
            "tags": []
          },
          "execution_count": 19
        }
      ]
    },
    {
      "cell_type": "code",
      "metadata": {
        "colab": {
          "base_uri": "https://localhost:8080/"
        },
        "id": "XxmAeD8ExXBB",
        "outputId": "34371591-e1b1-40cb-dd65-c5ada1a6b82a"
      },
      "source": [
        "# 파이썬 버전 확인\n",
        "!python --version"
      ],
      "execution_count": 20,
      "outputs": [
        {
          "output_type": "stream",
          "text": [
            "Python 3.7.11\n"
          ],
          "name": "stdout"
        }
      ]
    },
    {
      "cell_type": "markdown",
      "metadata": {
        "id": "CuWs2epjyL11"
      },
      "source": [
        "### 반복"
      ]
    },
    {
      "cell_type": "code",
      "metadata": {
        "colab": {
          "base_uri": "https://localhost:8080/"
        },
        "id": "SITFIeJtyKpt",
        "outputId": "3fdee2b6-4641-4e89-edee-8e1b4ace6b3d"
      },
      "source": [
        "[1, 2, 3] * 3, 3 * [1, 2, 3]        # 순서바꿔도 상관 X"
      ],
      "execution_count": 23,
      "outputs": [
        {
          "output_type": "execute_result",
          "data": {
            "text/plain": [
              "([1, 2, 3, 1, 2, 3, 1, 2, 3], [1, 2, 3, 1, 2, 3, 1, 2, 3])"
            ]
          },
          "metadata": {
            "tags": []
          },
          "execution_count": 23
        }
      ]
    },
    {
      "cell_type": "code",
      "metadata": {
        "colab": {
          "base_uri": "https://localhost:8080/",
          "height": 35
        },
        "id": "wb6PGSceyQS8",
        "outputId": "a55aeb92-1f6e-4dfa-8519-0fa5c3ea3882"
      },
      "source": [
        "'Hello ' * 3"
      ],
      "execution_count": 24,
      "outputs": [
        {
          "output_type": "execute_result",
          "data": {
            "application/vnd.google.colaboratory.intrinsic+json": {
              "type": "string"
            },
            "text/plain": [
              "'Hello Hello Hello '"
            ]
          },
          "metadata": {
            "tags": []
          },
          "execution_count": 24
        }
      ]
    },
    {
      "cell_type": "code",
      "metadata": {
        "id": "1q5IlkB-ycuV"
      },
      "source": [
        "#range는 안됨, 굳이 하고싶으면 리스트나 튜플로 만들어서"
      ],
      "execution_count": null,
      "outputs": []
    },
    {
      "cell_type": "markdown",
      "metadata": {
        "id": "e8L4v2qCyrr-"
      },
      "source": [
        "## 11.2 요소 갯수"
      ]
    },
    {
      "cell_type": "code",
      "metadata": {
        "colab": {
          "base_uri": "https://localhost:8080/"
        },
        "id": "k-xCEnrZy2NS",
        "outputId": "b24460dd-2fc5-40ed-c866-674e3367090a"
      },
      "source": [
        "len(range(10))"
      ],
      "execution_count": 25,
      "outputs": [
        {
          "output_type": "execute_result",
          "data": {
            "text/plain": [
              "10"
            ]
          },
          "metadata": {
            "tags": []
          },
          "execution_count": 25
        }
      ]
    },
    {
      "cell_type": "code",
      "metadata": {
        "colab": {
          "base_uri": "https://localhost:8080/"
        },
        "id": "sE37VASly9CC",
        "outputId": "80272c27-d5df-4802-8ad5-798942418385"
      },
      "source": [
        "len([1, 2, 3]), len((1, 2, 3, 4)), len('Hello')"
      ],
      "execution_count": 26,
      "outputs": [
        {
          "output_type": "execute_result",
          "data": {
            "text/plain": [
              "(3, 4, 5)"
            ]
          },
          "metadata": {
            "tags": []
          },
          "execution_count": 26
        }
      ]
    },
    {
      "cell_type": "code",
      "metadata": {
        "colab": {
          "base_uri": "https://localhost:8080/"
        },
        "id": "vTWH4r1QzGn9",
        "outputId": "18527795-5ded-49e4-ae26-434b61cf6ecc"
      },
      "source": [
        "len('안녕하세요?')"
      ],
      "execution_count": 27,
      "outputs": [
        {
          "output_type": "execute_result",
          "data": {
            "text/plain": [
              "6"
            ]
          },
          "metadata": {
            "tags": []
          },
          "execution_count": 27
        }
      ]
    },
    {
      "cell_type": "markdown",
      "metadata": {
        "id": "uFsaGCxJ2FgX"
      },
      "source": [
        "## 11.3 인덱싱"
      ]
    },
    {
      "cell_type": "code",
      "metadata": {
        "colab": {
          "base_uri": "https://localhost:8080/"
        },
        "id": "lw2Ez5CWzPp9",
        "outputId": "af223ef3-4480-4233-8f6d-c9164429e866"
      },
      "source": [
        "a = list(range(10))\n",
        "a"
      ],
      "execution_count": 29,
      "outputs": [
        {
          "output_type": "execute_result",
          "data": {
            "text/plain": [
              "[0, 1, 2, 3, 4, 5, 6, 7, 8, 9]"
            ]
          },
          "metadata": {
            "tags": []
          },
          "execution_count": 29
        }
      ]
    },
    {
      "cell_type": "code",
      "metadata": {
        "colab": {
          "base_uri": "https://localhost:8080/"
        },
        "id": "RoYnaCQG2M4w",
        "outputId": "ab8d6431-c95e-4cd6-b861-c61f64dd9cbd"
      },
      "source": [
        "a[0], a[len(a)-1]"
      ],
      "execution_count": 31,
      "outputs": [
        {
          "output_type": "execute_result",
          "data": {
            "text/plain": [
              "(0, 9)"
            ]
          },
          "metadata": {
            "tags": []
          },
          "execution_count": 31
        }
      ]
    },
    {
      "cell_type": "code",
      "metadata": {
        "colab": {
          "base_uri": "https://localhost:8080/"
        },
        "id": "m45TC-NP2quh",
        "outputId": "5aedca0a-a3cc-4d3b-b90b-abc78ee6d6c4"
      },
      "source": [
        "s = 'Hello, world!'\n",
        "s[2], s[5], s[10]"
      ],
      "execution_count": 33,
      "outputs": [
        {
          "output_type": "execute_result",
          "data": {
            "text/plain": [
              "('l', ',', 'l')"
            ]
          },
          "metadata": {
            "tags": []
          },
          "execution_count": 33
        }
      ]
    },
    {
      "cell_type": "markdown",
      "metadata": {
        "id": "OWyYq7qf3JDc"
      },
      "source": [
        "### 음수 인덱스"
      ]
    },
    {
      "cell_type": "code",
      "metadata": {
        "colab": {
          "base_uri": "https://localhost:8080/"
        },
        "id": "ftpl-J9223GP",
        "outputId": "46bc4fee-c114-4002-83f5-8dd117118224"
      },
      "source": [
        "a[0], a[-1]"
      ],
      "execution_count": 34,
      "outputs": [
        {
          "output_type": "execute_result",
          "data": {
            "text/plain": [
              "(0, 9)"
            ]
          },
          "metadata": {
            "tags": []
          },
          "execution_count": 34
        }
      ]
    },
    {
      "cell_type": "code",
      "metadata": {
        "colab": {
          "base_uri": "https://localhost:8080/"
        },
        "id": "pgOox7UO3rI5",
        "outputId": "5570c1ff-5a6c-4c85-b559-aff0d632d43e"
      },
      "source": [
        "a[-10], a[-1]"
      ],
      "execution_count": 35,
      "outputs": [
        {
          "output_type": "execute_result",
          "data": {
            "text/plain": [
              "(0, 9)"
            ]
          },
          "metadata": {
            "tags": []
          },
          "execution_count": 35
        }
      ]
    },
    {
      "cell_type": "code",
      "metadata": {
        "colab": {
          "base_uri": "https://localhost:8080/"
        },
        "id": "yyMjzwyr3tef",
        "outputId": "79e5366b-307a-4a1c-fb5e-9834f1a396e7"
      },
      "source": [
        "fox = 'A qucik brown fox jumps over the lazy dog.'\n",
        "fox[-4], fox[-3], fox[-2], fox[-1]"
      ],
      "execution_count": 36,
      "outputs": [
        {
          "output_type": "execute_result",
          "data": {
            "text/plain": [
              "('d', 'o', 'g', '.')"
            ]
          },
          "metadata": {
            "tags": []
          },
          "execution_count": 36
        }
      ]
    },
    {
      "cell_type": "code",
      "metadata": {
        "colab": {
          "base_uri": "https://localhost:8080/"
        },
        "id": "WK99p-oP34-m",
        "outputId": "2bcc0753-89c2-49a3-ddb6-d1083cc95fc5"
      },
      "source": [
        "fox[len(fox)-4], fox[-4]"
      ],
      "execution_count": 37,
      "outputs": [
        {
          "output_type": "execute_result",
          "data": {
            "text/plain": [
              "('d', 'd')"
            ]
          },
          "metadata": {
            "tags": []
          },
          "execution_count": 37
        }
      ]
    },
    {
      "cell_type": "markdown",
      "metadata": {
        "id": "sSGlhd7-4uXi"
      },
      "source": [
        "### 요소에 값 할당"
      ]
    },
    {
      "cell_type": "code",
      "metadata": {
        "colab": {
          "base_uri": "https://localhost:8080/"
        },
        "id": "RDMiy81M48sF",
        "outputId": "316ca0e4-49d0-4607-ba7e-36edd25fb82e"
      },
      "source": [
        "a[5] = 100\n",
        "a"
      ],
      "execution_count": 40,
      "outputs": [
        {
          "output_type": "execute_result",
          "data": {
            "text/plain": [
              "[0, 1, 2, 3, 4, 100, 6, 7, 8, 9]"
            ]
          },
          "metadata": {
            "tags": []
          },
          "execution_count": 40
        }
      ]
    },
    {
      "cell_type": "code",
      "metadata": {
        "colab": {
          "base_uri": "https://localhost:8080/",
          "height": 137
        },
        "id": "hAZ6J5SB39tl",
        "outputId": "b6d960da-9b9f-43fa-f13d-dd22dea8da9d"
      },
      "source": [
        "#튜플은 값을 변경할 수 없음\n",
        "b = 3, 4, 5\n",
        "b[2] 5"
      ],
      "execution_count": 38,
      "outputs": [
        {
          "output_type": "error",
          "ename": "SyntaxError",
          "evalue": "ignored",
          "traceback": [
            "\u001b[0;36m  File \u001b[0;32m\"<ipython-input-38-92abcbc4ea81>\"\u001b[0;36m, line \u001b[0;32m3\u001b[0m\n\u001b[0;31m    b[2] 5\u001b[0m\n\u001b[0m         ^\u001b[0m\n\u001b[0;31mSyntaxError\u001b[0m\u001b[0;31m:\u001b[0m invalid syntax\n"
          ]
        }
      ]
    },
    {
      "cell_type": "code",
      "metadata": {
        "colab": {
          "base_uri": "https://localhost:8080/",
          "height": 137
        },
        "id": "Z8GeH7Fn46tx",
        "outputId": "c8aa8de6-b561-4960-882b-1374beb6457c"
      },
      "source": [
        "s[-1] = *\n",
        "s"
      ],
      "execution_count": 41,
      "outputs": [
        {
          "output_type": "error",
          "ename": "SyntaxError",
          "evalue": "ignored",
          "traceback": [
            "\u001b[0;36m  File \u001b[0;32m\"<ipython-input-41-79f4432a275d>\"\u001b[0;36m, line \u001b[0;32m1\u001b[0m\n\u001b[0;31m    s[-1] = *\u001b[0m\n\u001b[0m             ^\u001b[0m\n\u001b[0;31mSyntaxError\u001b[0m\u001b[0;31m:\u001b[0m invalid syntax\n"
          ]
        }
      ]
    },
    {
      "cell_type": "code",
      "metadata": {
        "colab": {
          "base_uri": "https://localhost:8080/"
        },
        "id": "5TQmbcp15FVc",
        "outputId": "d6c7f235-0d0c-44d8-c615-b16a56ff529a"
      },
      "source": [
        "del a[5]\n",
        "a"
      ],
      "execution_count": 42,
      "outputs": [
        {
          "output_type": "execute_result",
          "data": {
            "text/plain": [
              "[0, 1, 2, 3, 4, 6, 7, 8, 9]"
            ]
          },
          "metadata": {
            "tags": []
          },
          "execution_count": 42
        }
      ]
    },
    {
      "cell_type": "markdown",
      "metadata": {
        "id": "C6My0kY85S_M"
      },
      "source": [
        "## 11.4 Slicing"
      ]
    },
    {
      "cell_type": "code",
      "metadata": {
        "colab": {
          "base_uri": "https://localhost:8080/"
        },
        "id": "edinmpc55IPO",
        "outputId": "861d558f-eea0-452f-c682-22cfbdffee54"
      },
      "source": [
        "a = list(range(0,100,10))\n",
        "a"
      ],
      "execution_count": 43,
      "outputs": [
        {
          "output_type": "execute_result",
          "data": {
            "text/plain": [
              "[0, 10, 20, 30, 40, 50, 60, 70, 80, 90]"
            ]
          },
          "metadata": {
            "tags": []
          },
          "execution_count": 43
        }
      ]
    },
    {
      "cell_type": "code",
      "metadata": {
        "colab": {
          "base_uri": "https://localhost:8080/"
        },
        "id": "jYCWgEEl5wyY",
        "outputId": "14ad7204-194a-44e7-bab0-527f103be686"
      },
      "source": [
        "a[3:6]      #마지막은 포함 X"
      ],
      "execution_count": 45,
      "outputs": [
        {
          "output_type": "execute_result",
          "data": {
            "text/plain": [
              "[30, 40, 50]"
            ]
          },
          "metadata": {
            "tags": []
          },
          "execution_count": 45
        }
      ]
    },
    {
      "cell_type": "code",
      "metadata": {
        "colab": {
          "base_uri": "https://localhost:8080/"
        },
        "id": "PSulDnWs5ycB",
        "outputId": "64e741e5-0577-4421-8a34-3f5a78e28c43"
      },
      "source": [
        "a[0:3], a[:3]"
      ],
      "execution_count": 46,
      "outputs": [
        {
          "output_type": "execute_result",
          "data": {
            "text/plain": [
              "([0, 10, 20], [0, 10, 20])"
            ]
          },
          "metadata": {
            "tags": []
          },
          "execution_count": 46
        }
      ]
    },
    {
      "cell_type": "code",
      "metadata": {
        "colab": {
          "base_uri": "https://localhost:8080/"
        },
        "id": "BQlQlUbr6k0q",
        "outputId": "8df010c2-4bf7-4466-b3d0-230b94ea427e"
      },
      "source": [
        "a[7:9], a[:9]"
      ],
      "execution_count": 47,
      "outputs": [
        {
          "output_type": "execute_result",
          "data": {
            "text/plain": [
              "([70, 80], [0, 10, 20, 30, 40, 50, 60, 70, 80])"
            ]
          },
          "metadata": {
            "tags": []
          },
          "execution_count": 47
        }
      ]
    },
    {
      "cell_type": "code",
      "metadata": {
        "colab": {
          "base_uri": "https://localhost:8080/"
        },
        "id": "hhb-cAno6nj1",
        "outputId": "48a12d57-256b-4d6f-8fe5-7488a1ea943f"
      },
      "source": [
        "a[7:], a[7:10]"
      ],
      "execution_count": 48,
      "outputs": [
        {
          "output_type": "execute_result",
          "data": {
            "text/plain": [
              "([70, 80, 90], [70, 80, 90])"
            ]
          },
          "metadata": {
            "tags": []
          },
          "execution_count": 48
        }
      ]
    },
    {
      "cell_type": "code",
      "metadata": {
        "colab": {
          "base_uri": "https://localhost:8080/"
        },
        "id": "hXXN6THN6sXF",
        "outputId": "be0c0984-a291-46ff-c947-e8be61686d02"
      },
      "source": [
        "a[::2], a[1::2]"
      ],
      "execution_count": 49,
      "outputs": [
        {
          "output_type": "execute_result",
          "data": {
            "text/plain": [
              "([0, 20, 40, 60, 80], [10, 30, 50, 70, 90])"
            ]
          },
          "metadata": {
            "tags": []
          },
          "execution_count": 49
        }
      ]
    },
    {
      "cell_type": "code",
      "metadata": {
        "colab": {
          "base_uri": "https://localhost:8080/",
          "height": 35
        },
        "id": "GzBtLB6V7GUm",
        "outputId": "593b6749-fa83-4cbd-971c-c099acbd8a11"
      },
      "source": [
        "fox"
      ],
      "execution_count": 50,
      "outputs": [
        {
          "output_type": "execute_result",
          "data": {
            "application/vnd.google.colaboratory.intrinsic+json": {
              "type": "string"
            },
            "text/plain": [
              "'A qucik brown fox jumps over the lazy dog.'"
            ]
          },
          "metadata": {
            "tags": []
          },
          "execution_count": 50
        }
      ]
    },
    {
      "cell_type": "code",
      "metadata": {
        "colab": {
          "base_uri": "https://localhost:8080/",
          "height": 35
        },
        "id": "hlp1jpI58FD5",
        "outputId": "a48bd16b-40cc-4d7c-ff0a-5ca18effc891"
      },
      "source": [
        "fox[-4:]"
      ],
      "execution_count": 51,
      "outputs": [
        {
          "output_type": "execute_result",
          "data": {
            "application/vnd.google.colaboratory.intrinsic+json": {
              "type": "string"
            },
            "text/plain": [
              "'dog.'"
            ]
          },
          "metadata": {
            "tags": []
          },
          "execution_count": 51
        }
      ]
    },
    {
      "cell_type": "code",
      "metadata": {
        "colab": {
          "base_uri": "https://localhost:8080/",
          "height": 35
        },
        "id": "bkJwpJad8HDA",
        "outputId": "706af158-7f2d-419c-fedf-6465f545712e"
      },
      "source": [
        "fox.split()[-1]         #마지막 단어"
      ],
      "execution_count": 53,
      "outputs": [
        {
          "output_type": "execute_result",
          "data": {
            "application/vnd.google.colaboratory.intrinsic+json": {
              "type": "string"
            },
            "text/plain": [
              "'dog.'"
            ]
          },
          "metadata": {
            "tags": []
          },
          "execution_count": 53
        }
      ]
    },
    {
      "cell_type": "markdown",
      "metadata": {
        "id": "nSWLHjLt8guy"
      },
      "source": [
        "### 슬라이스 요소에 할당"
      ]
    },
    {
      "cell_type": "code",
      "metadata": {
        "colab": {
          "base_uri": "https://localhost:8080/"
        },
        "id": "GrCsiqA68LdG",
        "outputId": "0fa35b5f-7d97-4379-e4a0-049cc0916fcf"
      },
      "source": [
        "a[2:5] = ['a', 'b', 'c']\n",
        "a"
      ],
      "execution_count": 54,
      "outputs": [
        {
          "output_type": "execute_result",
          "data": {
            "text/plain": [
              "[0, 10, 'a', 'b', 'c', 50, 60, 70, 80, 90]"
            ]
          },
          "metadata": {
            "tags": []
          },
          "execution_count": 54
        }
      ]
    },
    {
      "cell_type": "code",
      "metadata": {
        "colab": {
          "base_uri": "https://localhost:8080/"
        },
        "id": "Xm4tyeBB9yVt",
        "outputId": "53fecf50-270c-4570-d159-249e60ff3b03"
      },
      "source": [
        "# [:] 범위보다 큰 개수를 주면 리스트 개수 증가\n",
        "b = list(range(10))\n",
        "b[2:5] = [10, 20, 30, 40, 50]\n",
        "b"
      ],
      "execution_count": 57,
      "outputs": [
        {
          "output_type": "execute_result",
          "data": {
            "text/plain": [
              "[0, 1, 10, 20, 30, 40, 50, 5, 6, 7, 8, 9]"
            ]
          },
          "metadata": {
            "tags": []
          },
          "execution_count": 57
        }
      ]
    },
    {
      "cell_type": "code",
      "metadata": {
        "colab": {
          "base_uri": "https://localhost:8080/"
        },
        "id": "hI0_SSSS-BCs",
        "outputId": "42169507-afe2-4eb2-8330-83352f7aff4b"
      },
      "source": [
        "c = list(range(10))\n",
        "c[2] = [10, 20, 30]\n",
        "c\n",
        "#엘리먼트에 리스트를 넣으면 리스트 안에 리스트"
      ],
      "execution_count": 58,
      "outputs": [
        {
          "output_type": "execute_result",
          "data": {
            "text/plain": [
              "[0, 1, [10, 20, 30], 3, 4, 5, 6, 7, 8, 9]"
            ]
          },
          "metadata": {
            "tags": []
          },
          "execution_count": 58
        }
      ]
    },
    {
      "cell_type": "code",
      "metadata": {
        "colab": {
          "base_uri": "https://localhost:8080/"
        },
        "id": "UQyUAFEE-ZDA",
        "outputId": "e71f0a39-7202-4b30-e308-2fcab80734ef"
      },
      "source": [
        "d= list(range(10))\n",
        "d[2:3] = [10, 20, 30]\n",
        "d\n",
        "#범위 안에 리스트를 넣으면 엘리먼트로 들어감"
      ],
      "execution_count": 60,
      "outputs": [
        {
          "output_type": "execute_result",
          "data": {
            "text/plain": [
              "[0, 1, 10, 20, 30, 3, 4, 5, 6, 7, 8, 9]"
            ]
          },
          "metadata": {
            "tags": []
          },
          "execution_count": 60
        }
      ]
    },
    {
      "cell_type": "markdown",
      "metadata": {
        "id": "cIkXgRvO_BqE"
      },
      "source": [
        "### 슬라이스 삭제"
      ]
    },
    {
      "cell_type": "code",
      "metadata": {
        "colab": {
          "base_uri": "https://localhost:8080/"
        },
        "id": "wuFFyao7-hJe",
        "outputId": "cc5ffb0d-cd94-4ade-b213-da208c193677"
      },
      "source": [
        "del d[2:5]\n",
        "d"
      ],
      "execution_count": 61,
      "outputs": [
        {
          "output_type": "execute_result",
          "data": {
            "text/plain": [
              "[0, 1, 3, 4, 5, 6, 7, 8, 9]"
            ]
          },
          "metadata": {
            "tags": []
          },
          "execution_count": 61
        }
      ]
    },
    {
      "cell_type": "code",
      "metadata": {
        "colab": {
          "base_uri": "https://localhost:8080/"
        },
        "id": "ZgUjrSwR_Gfh",
        "outputId": "3052a63e-91f2-4d4d-e14d-56d878340cc0"
      },
      "source": [
        "del c[::2]\n",
        "c"
      ],
      "execution_count": 62,
      "outputs": [
        {
          "output_type": "execute_result",
          "data": {
            "text/plain": [
              "[1, 3, 5, 7, 9]"
            ]
          },
          "metadata": {
            "tags": []
          },
          "execution_count": 62
        }
      ]
    },
    {
      "cell_type": "code",
      "metadata": {
        "id": "2OjUBaDB_Up2"
      },
      "source": [
        ""
      ],
      "execution_count": null,
      "outputs": []
    }
  ]
}