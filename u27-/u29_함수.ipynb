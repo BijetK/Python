{
  "nbformat": 4,
  "nbformat_minor": 0,
  "metadata": {
    "colab": {
      "name": "u29_함수.ipynb",
      "provenance": [],
      "collapsed_sections": []
    },
    "kernelspec": {
      "name": "python3",
      "display_name": "Python 3"
    },
    "language_info": {
      "name": "python"
    }
  },
  "cells": [
    {
      "cell_type": "markdown",
      "metadata": {
        "id": "8hts6LoQLz9T"
      },
      "source": [
        "# Unit 29. 함수"
      ]
    },
    {
      "cell_type": "markdown",
      "metadata": {
        "id": "dugohRK-L3lY"
      },
      "source": [
        "#### 즉, 함수를 사용하면 이런 점이 좋습니다.\n",
        "\n",
        "- 코드의 용도를 구분할 수 있다.\n",
        "- 코드를 재사용할 수 있다.\n",
        "- **실수를 줄일 수 있다.**\n"
      ]
    },
    {
      "cell_type": "markdown",
      "metadata": {
        "id": "HqaW0fTKOs6r"
      },
      "source": [
        "## 29.1 출력 함수 만들기"
      ]
    },
    {
      "cell_type": "code",
      "metadata": {
        "id": "uNCGELNeL2RB"
      },
      "source": [
        "def hello():\n",
        "    print('Hello World!')\n"
      ],
      "execution_count": null,
      "outputs": []
    },
    {
      "cell_type": "code",
      "metadata": {
        "colab": {
          "base_uri": "https://localhost:8080/"
        },
        "id": "MUlCJRI0O1Fz",
        "outputId": "629327f9-2de7-4e1d-d34d-2e7b8ea4754a"
      },
      "source": [
        "hello"
      ],
      "execution_count": null,
      "outputs": [
        {
          "output_type": "stream",
          "text": [
            "Hello World!\n"
          ],
          "name": "stdout"
        }
      ]
    },
    {
      "cell_type": "code",
      "metadata": {
        "id": "xGDc3X6tPbIX"
      },
      "source": [
        "def hello():\n",
        "    pass"
      ],
      "execution_count": null,
      "outputs": []
    },
    {
      "cell_type": "markdown",
      "metadata": {
        "id": "44UGkynSPtX_"
      },
      "source": [
        "## 29.2 덧셈 함수"
      ]
    },
    {
      "cell_type": "code",
      "metadata": {
        "id": "wF8vbf1kPv0N"
      },
      "source": [
        "# a, b = 매개변수, parameter, argument\n",
        "def add(a, b):\n",
        "    print(a + b)"
      ],
      "execution_count": null,
      "outputs": []
    },
    {
      "cell_type": "code",
      "metadata": {
        "colab": {
          "base_uri": "https://localhost:8080/"
        },
        "id": "IkTKmJWeP9qc",
        "outputId": "a30a42f8-b0c9-47ea-b6dd-f17eae8da605"
      },
      "source": [
        "add(1, 2)"
      ],
      "execution_count": null,
      "outputs": [
        {
          "output_type": "stream",
          "text": [
            "3\n"
          ],
          "name": "stdout"
        }
      ]
    },
    {
      "cell_type": "code",
      "metadata": {
        "id": "BxmObfWKQKRh"
      },
      "source": [
        "# Docstrings\n",
        "def add(a, b):\n",
        "    \"\"\"\n",
        "    이 함수는 a와 b를 더한 뒤 결과를 반환하는 함수입니다.\n",
        "    \"\"\"\n",
        "    print(a + b)"
      ],
      "execution_count": null,
      "outputs": []
    },
    {
      "cell_type": "code",
      "metadata": {
        "id": "3CPyb0dmQ9ie"
      },
      "source": [
        "add?\n",
        "# signiture : 함수 이름\n",
        "# docstring : 함수 설명"
      ],
      "execution_count": null,
      "outputs": []
    },
    {
      "cell_type": "code",
      "metadata": {
        "id": "ITKbq92jQ-zN"
      },
      "source": [
        "print?"
      ],
      "execution_count": null,
      "outputs": []
    },
    {
      "cell_type": "markdown",
      "metadata": {
        "id": "4a3W1ZsqRac2"
      },
      "source": [
        "## 29.3 결과값 반환"
      ]
    },
    {
      "cell_type": "code",
      "metadata": {
        "id": "8l6-qeo1RZZm"
      },
      "source": [
        "def add(a, b):\n",
        "    return a+b\n"
      ],
      "execution_count": null,
      "outputs": []
    },
    {
      "cell_type": "code",
      "metadata": {
        "colab": {
          "base_uri": "https://localhost:8080/"
        },
        "id": "ItZbs4j8RnkL",
        "outputId": "100801dd-c214-4b38-e9ea-06b57c2706bf"
      },
      "source": [
        "add(4, 5), add(10, 20)"
      ],
      "execution_count": null,
      "outputs": [
        {
          "output_type": "execute_result",
          "data": {
            "text/plain": [
              "(9, 30)"
            ]
          },
          "metadata": {
            "tags": []
          },
          "execution_count": 13
        }
      ]
    },
    {
      "cell_type": "code",
      "metadata": {
        "colab": {
          "base_uri": "https://localhost:8080/"
        },
        "id": "Vho_SyVzRo24",
        "outputId": "22b9416a-03cb-41fb-813e-783ba7ff306b"
      },
      "source": [
        "x = add(23, 45)\n",
        "x"
      ],
      "execution_count": null,
      "outputs": [
        {
          "output_type": "execute_result",
          "data": {
            "text/plain": [
              "68"
            ]
          },
          "metadata": {
            "tags": []
          },
          "execution_count": 14
        }
      ]
    },
    {
      "cell_type": "code",
      "metadata": {
        "id": "9lOQ_VVASGUu"
      },
      "source": [
        "def is_ten(x):\n",
        "    return x==10"
      ],
      "execution_count": null,
      "outputs": []
    },
    {
      "cell_type": "code",
      "metadata": {
        "colab": {
          "base_uri": "https://localhost:8080/"
        },
        "id": "re9mV0m1SLI6",
        "outputId": "965fd5f5-006b-46cd-e183-55267a19ea03"
      },
      "source": [
        "is_ten(101//10)"
      ],
      "execution_count": null,
      "outputs": [
        {
          "output_type": "execute_result",
          "data": {
            "text/plain": [
              "True"
            ]
          },
          "metadata": {
            "tags": []
          },
          "execution_count": 17
        }
      ]
    },
    {
      "cell_type": "code",
      "metadata": {
        "id": "HY1Mu137SY-H"
      },
      "source": [
        "def not_ten(x):\n",
        "    if x == 10:\n",
        "        return\n",
        "    else:\n",
        "        print('It is not 10.')\n"
      ],
      "execution_count": null,
      "outputs": []
    },
    {
      "cell_type": "code",
      "metadata": {
        "id": "ceRvFRaXSpev"
      },
      "source": [
        "def not_ten(x):\n",
        "    if x == 10:\n",
        "        return\n",
        "    print('It is not 10.')"
      ],
      "execution_count": null,
      "outputs": []
    },
    {
      "cell_type": "code",
      "metadata": {
        "colab": {
          "base_uri": "https://localhost:8080/"
        },
        "id": "wBohx-lnSg5O",
        "outputId": "06dfd2e1-b3eb-4586-b0cb-8ec98ffd8836"
      },
      "source": [
        "not_ten(5)"
      ],
      "execution_count": null,
      "outputs": [
        {
          "output_type": "stream",
          "text": [
            "It is not 10.\n"
          ],
          "name": "stdout"
        }
      ]
    },
    {
      "cell_type": "markdown",
      "metadata": {
        "id": "hDlNfkD3TvTp"
      },
      "source": [
        "## 29.4 여러개의 결과값 반환"
      ]
    },
    {
      "cell_type": "code",
      "metadata": {
        "id": "JR0R9PymTu2-"
      },
      "source": [
        "def add_sub(a, b):\n",
        "    return a+b, a-b\n"
      ],
      "execution_count": null,
      "outputs": []
    },
    {
      "cell_type": "code",
      "metadata": {
        "id": "2NE0BX5nT2V-"
      },
      "source": [
        "x, y = add_sub(15, 7)"
      ],
      "execution_count": null,
      "outputs": []
    },
    {
      "cell_type": "code",
      "metadata": {
        "colab": {
          "base_uri": "https://localhost:8080/"
        },
        "id": "P6K_tw2kT5C2",
        "outputId": "811816fe-d0df-4388-a473-867311153c94"
      },
      "source": [
        "x, y"
      ],
      "execution_count": null,
      "outputs": [
        {
          "output_type": "execute_result",
          "data": {
            "text/plain": [
              "(22, 8)"
            ]
          },
          "metadata": {
            "tags": []
          },
          "execution_count": 24
        }
      ]
    },
    {
      "cell_type": "markdown",
      "metadata": {
        "id": "uyuvbdDeU2_3"
      },
      "source": [
        "## 29.5 함수의 호출 과정"
      ]
    },
    {
      "cell_type": "code",
      "metadata": {
        "id": "wxdV1oYVU40V"
      },
      "source": [
        "# stack을 이용한다"
      ],
      "execution_count": null,
      "outputs": []
    },
    {
      "cell_type": "markdown",
      "metadata": {
        "id": "ZlTrRJ5mVQua"
      },
      "source": [
        "## 연습문제\n",
        "- 3자리수 정수 두개를 곱해서 나온 결과가 팔린드롬(Palindrome)이 되도록 할 때, 가장 큰 숫자는?"
      ]
    },
    {
      "cell_type": "code",
      "metadata": {
        "colab": {
          "base_uri": "https://localhost:8080/"
        },
        "id": "A5x3t5YcVPCv",
        "outputId": "614682c4-87b4-45ce-956a-3db48397ebfb"
      },
      "source": [
        "def mult(a, b):\n",
        "    return a * b\n",
        "\n",
        "c = set()\n",
        "for i in range(999,99,-1):\n",
        "    for k in range(i, 99, -1):\n",
        "        reverse_mult = int(str(mult(i, k))[::-1])\n",
        "        if mult(i, k) == reverse_mult:\n",
        "            c.add(mult(i, k))\n",
        "\n",
        "d = list(c)\n",
        "max(d)\n"
      ],
      "execution_count": 57,
      "outputs": [
        {
          "output_type": "execute_result",
          "data": {
            "text/plain": [
              "906609"
            ]
          },
          "metadata": {
            "tags": []
          },
          "execution_count": 57
        }
      ]
    },
    {
      "cell_type": "code",
      "metadata": {
        "id": "qKqKjUM4bvs8"
      },
      "source": [
        "def is_palindrome(x):\n",
        "    s = str(x)\n",
        "    return s == s[::-1]"
      ],
      "execution_count": 44,
      "outputs": []
    },
    {
      "cell_type": "code",
      "metadata": {
        "colab": {
          "base_uri": "https://localhost:8080/"
        },
        "id": "MXIjRPSVdHik",
        "outputId": "38d259f7-4e17-4b5e-f2fb-699e9fad1dca"
      },
      "source": [
        "is_palindrome(1234321), is_palindrome(12345)"
      ],
      "execution_count": 46,
      "outputs": [
        {
          "output_type": "execute_result",
          "data": {
            "text/plain": [
              "(True, False)"
            ]
          },
          "metadata": {
            "tags": []
          },
          "execution_count": 46
        }
      ]
    },
    {
      "cell_type": "code",
      "metadata": {
        "colab": {
          "base_uri": "https://localhost:8080/"
        },
        "id": "B9m85I9Bbsh5",
        "outputId": "fbfabbe3-e5be-4d57-f0bb-d202d0bc9632"
      },
      "source": [
        "max_pal, m, n = 0, 0, 0\n",
        "for i in range(100, 1000):\n",
        "    for k in range(i, 1000):\n",
        "        if is_palindrome(i * k):\n",
        "            if i*k > max_pal:\n",
        "                max_pal = i*k\n",
        "                m = i\n",
        "                n = k\n",
        "print(f'{m} * {n} = {max_pal}')"
      ],
      "execution_count": 49,
      "outputs": [
        {
          "output_type": "stream",
          "text": [
            "913 * 993 = 906609\n"
          ],
          "name": "stdout"
        }
      ]
    },
    {
      "cell_type": "code",
      "metadata": {
        "id": "8TmLx8mgbvQn"
      },
      "source": [
        ""
      ],
      "execution_count": null,
      "outputs": []
    }
  ]
}