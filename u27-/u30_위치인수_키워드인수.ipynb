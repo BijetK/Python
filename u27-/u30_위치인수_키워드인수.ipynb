{
  "nbformat": 4,
  "nbformat_minor": 0,
  "metadata": {
    "colab": {
      "name": "u30_위치인수_키워드인수.ipynb",
      "provenance": [],
      "collapsed_sections": []
    },
    "kernelspec": {
      "name": "python3",
      "display_name": "Python 3"
    },
    "language_info": {
      "name": "python"
    }
  },
  "cells": [
    {
      "cell_type": "markdown",
      "metadata": {
        "id": "jItVr2JafoRT"
      },
      "source": [
        "# Unit 30. 위치 인수와 키워드 인수"
      ]
    },
    {
      "cell_type": "markdown",
      "metadata": {
        "id": "UZkKaR0EfwDn"
      },
      "source": [
        "## 30.1 위치 인수"
      ]
    },
    {
      "cell_type": "code",
      "metadata": {
        "id": "8YwQ4Q0Vf-hY"
      },
      "source": [
        "def print_numbers(a, b, c):\n",
        "    print(a)\n",
        "    print(b)\n",
        "    print(c)"
      ],
      "execution_count": 15,
      "outputs": []
    },
    {
      "cell_type": "code",
      "metadata": {
        "colab": {
          "base_uri": "https://localhost:8080/"
        },
        "id": "SbwZKHdLg4N2",
        "outputId": "aa2fe79b-1dca-493a-8217-3d18335141e3"
      },
      "source": [
        "print_numbers(10, 20, 30)       # 10, 20, 30 : 위치인수"
      ],
      "execution_count": 3,
      "outputs": [
        {
          "output_type": "stream",
          "text": [
            "10\n",
            "20\n",
            "30\n"
          ],
          "name": "stdout"
        }
      ]
    },
    {
      "cell_type": "code",
      "metadata": {
        "colab": {
          "base_uri": "https://localhost:8080/"
        },
        "id": "amlcL785hF5s",
        "outputId": "2ab030f1-7a7f-4bf8-892b-4730d5f200c0"
      },
      "source": [
        "# *x, *y = 리스트/튜플 언패킹\n",
        "x, y = [10, 20, 30], (40, 50, 60)\n",
        "print_numbers(*x)\n",
        "print_numbers(*y)"
      ],
      "execution_count": 16,
      "outputs": [
        {
          "output_type": "stream",
          "text": [
            "10\n",
            "20\n",
            "30\n",
            "40\n",
            "50\n",
            "60\n"
          ],
          "name": "stdout"
        }
      ]
    },
    {
      "cell_type": "markdown",
      "metadata": {
        "id": "_18coLB-h0Qp"
      },
      "source": [
        "### 가변 인수 함수"
      ]
    },
    {
      "cell_type": "code",
      "metadata": {
        "id": "kzyEnJ1Ih2Iz"
      },
      "source": [
        "def print_numbers2(*args):\n",
        "    for arg in args:\n",
        "        print(arg)"
      ],
      "execution_count": 13,
      "outputs": []
    },
    {
      "cell_type": "code",
      "metadata": {
        "colab": {
          "base_uri": "https://localhost:8080/"
        },
        "id": "oJhy2_1lh8wr",
        "outputId": "a652bd5c-1439-45aa-cb27-dbd4036f3f57"
      },
      "source": [
        "print_numbers2(10, 20, 30, 40)"
      ],
      "execution_count": 14,
      "outputs": [
        {
          "output_type": "stream",
          "text": [
            "10\n",
            "20\n",
            "30\n",
            "40\n"
          ],
          "name": "stdout"
        }
      ]
    },
    {
      "cell_type": "markdown",
      "metadata": {
        "id": "UGdyDRr4ie6q"
      },
      "source": [
        "### 고정인수와 가변인수"
      ]
    },
    {
      "cell_type": "code",
      "metadata": {
        "id": "zW_evDEEiLPY"
      },
      "source": [
        "def print_numbers3(a, *args):\n",
        "    print(a)\n",
        "    print(args)"
      ],
      "execution_count": 20,
      "outputs": []
    },
    {
      "cell_type": "code",
      "metadata": {
        "colab": {
          "base_uri": "https://localhost:8080/"
        },
        "id": "6JUmLh9di3w0",
        "outputId": "49a19012-34fb-414c-f198-d9bc3bb931f0"
      },
      "source": [
        "print_numbers3(10, 20, 30)"
      ],
      "execution_count": 21,
      "outputs": [
        {
          "output_type": "stream",
          "text": [
            "10\n",
            "(20, 30)\n"
          ],
          "name": "stdout"
        }
      ]
    },
    {
      "cell_type": "code",
      "metadata": {
        "colab": {
          "base_uri": "https://localhost:8080/"
        },
        "id": "4f1IMwe1i8NK",
        "outputId": "51673853-eea0-41ce-eaf7-eac9999b3c47"
      },
      "source": [
        "print_numbers3(*x)"
      ],
      "execution_count": 23,
      "outputs": [
        {
          "output_type": "stream",
          "text": [
            "10\n",
            "(20, 30)\n"
          ],
          "name": "stdout"
        }
      ]
    },
    {
      "cell_type": "code",
      "metadata": {
        "colab": {
          "base_uri": "https://localhost:8080/",
          "height": 137
        },
        "id": "NySJYHX4jV0H",
        "outputId": "a4aa94e5-9a94-4c49-90d9-e1c8dbe30d3e"
      },
      "source": [
        "def print_numbers4(*args, a):   # 가변은 고정보다 앞에 나올 수 없다.\n",
        "    print(args)\n",
        "    print(a)"
      ],
      "execution_count": 24,
      "outputs": [
        {
          "output_type": "error",
          "ename": "SyntaxError",
          "evalue": "ignored",
          "traceback": [
            "\u001b[0;36m  File \u001b[0;32m\"<ipython-input-24-2893cb3be615>\"\u001b[0;36m, line \u001b[0;32m1\u001b[0m\n\u001b[0;31m    def print_numbers4(*args, a):\u001b[0m\n\u001b[0m                                 ^\u001b[0m\n\u001b[0;31mSyntaxError\u001b[0m\u001b[0;31m:\u001b[0m unexpected EOF while parsing\n"
          ]
        }
      ]
    },
    {
      "cell_type": "markdown",
      "metadata": {
        "id": "9tUuVf3kmaak"
      },
      "source": [
        "## 30.2 키워드 인수"
      ]
    },
    {
      "cell_type": "code",
      "metadata": {
        "id": "v1ZNU73-jbEb"
      },
      "source": [
        "def personal_info(name, age, addr):\n",
        "    print('이름: ', name)\n",
        "    print('나이: ', age)\n",
        "    print('주소: ', addr)"
      ],
      "execution_count": 27,
      "outputs": []
    },
    {
      "cell_type": "code",
      "metadata": {
        "colab": {
          "base_uri": "https://localhost:8080/"
        },
        "id": "AfGGylr9m33C",
        "outputId": "f1da0d34-58b9-48fe-af60-1df50e9c3d94"
      },
      "source": [
        "personal_info('홍길동', 30, '서울 강남구 도곡동')"
      ],
      "execution_count": 28,
      "outputs": [
        {
          "output_type": "stream",
          "text": [
            "이름:  홍길동\n",
            "나이:  30\n",
            "주소:  서울 강남구 도곡동\n"
          ],
          "name": "stdout"
        }
      ]
    },
    {
      "cell_type": "code",
      "metadata": {
        "colab": {
          "base_uri": "https://localhost:8080/"
        },
        "id": "qmABCOlwm-Lc",
        "outputId": "b9fad725-85f1-48ba-d50f-adba8a3152e5"
      },
      "source": [
        "personal_info(age=30,addr='서울 강남구 도곡동',name='홍길동')"
      ],
      "execution_count": 29,
      "outputs": [
        {
          "output_type": "stream",
          "text": [
            "이름:  홍길동\n",
            "나이:  30\n",
            "주소:  서울 강남구 도곡동\n"
          ],
          "name": "stdout"
        }
      ]
    },
    {
      "cell_type": "markdown",
      "metadata": {
        "id": "ykPG3hCOniTF"
      },
      "source": [
        "## 30.3 키워드 인수와 딕셔너리 언패킹\n"
      ]
    },
    {
      "cell_type": "code",
      "metadata": {
        "colab": {
          "base_uri": "https://localhost:8080/"
        },
        "id": "n1NekbSdnted",
        "outputId": "fc5510b9-1765-4720-97a4-7786c7d75445"
      },
      "source": [
        "x = {'name':'홍길동','age':30, 'addr':'서울 강남구 도곡동'}\n",
        "personal_info(**x)      # *x는 키값 사용"
      ],
      "execution_count": 33,
      "outputs": [
        {
          "output_type": "stream",
          "text": [
            "이름:  홍길동\n",
            "나이:  30\n",
            "주소:  서울 강남구 도곡동\n"
          ],
          "name": "stdout"
        }
      ]
    },
    {
      "cell_type": "markdown",
      "metadata": {
        "id": "Ox2p1OWJoj_Z"
      },
      "source": [
        "### 가변 키워드 인수"
      ]
    },
    {
      "cell_type": "code",
      "metadata": {
        "id": "lUPMWfkqog-t"
      },
      "source": [
        "def personal_info2(**kwargs):\n",
        "    for key, value in kwargs.items():\n",
        "        print(f'{key}: {value}')"
      ],
      "execution_count": 34,
      "outputs": []
    },
    {
      "cell_type": "code",
      "metadata": {
        "colab": {
          "base_uri": "https://localhost:8080/"
        },
        "id": "DgJaH36FpKbx",
        "outputId": "aa946077-a1d1-4c1f-af06-ddcda11a9e70"
      },
      "source": [
        "personal_info2(**x)"
      ],
      "execution_count": 35,
      "outputs": [
        {
          "output_type": "stream",
          "text": [
            "name: 홍길동\n",
            "age: 30\n",
            "addr: 서울 강남구 도곡동\n"
          ],
          "name": "stdout"
        }
      ]
    },
    {
      "cell_type": "code",
      "metadata": {
        "colab": {
          "base_uri": "https://localhost:8080/"
        },
        "id": "pVAzR9JSpaTl",
        "outputId": "09cb4788-6ba5-4086-85c2-c9af2aec7c5e"
      },
      "source": [
        "personal_info2(name='홍길동',age=30)"
      ],
      "execution_count": 37,
      "outputs": [
        {
          "output_type": "stream",
          "text": [
            "name: 홍길동\n",
            "age: 30\n"
          ],
          "name": "stdout"
        }
      ]
    },
    {
      "cell_type": "code",
      "metadata": {
        "id": "SwYmKLOnpfYv"
      },
      "source": [
        "def personal_info3(name, **kwargs):\n",
        "    print(name)\n",
        "    print(kwargs)"
      ],
      "execution_count": 38,
      "outputs": []
    },
    {
      "cell_type": "code",
      "metadata": {
        "colab": {
          "base_uri": "https://localhost:8080/"
        },
        "id": "BnegqCt2p868",
        "outputId": "3d178a11-ba5e-47d6-ca31-5d39e5da8641"
      },
      "source": [
        "personal_info3(**x)"
      ],
      "execution_count": 39,
      "outputs": [
        {
          "output_type": "stream",
          "text": [
            "홍길동\n",
            "{'age': 30, 'addr': '서울 강남구 도곡동'}\n"
          ],
          "name": "stdout"
        }
      ]
    },
    {
      "cell_type": "markdown",
      "metadata": {
        "id": "XC5hKWJrqXvv"
      },
      "source": [
        "### 위치 인수와 키워드 인수"
      ]
    },
    {
      "cell_type": "code",
      "metadata": {
        "id": "pPbHAQdeqaDH"
      },
      "source": [
        "def my_print(*args, **kwargs):\n",
        "    print(*args, **kwargs)"
      ],
      "execution_count": 51,
      "outputs": []
    },
    {
      "cell_type": "code",
      "metadata": {
        "colab": {
          "base_uri": "https://localhost:8080/"
        },
        "id": "O52mO2feql8r",
        "outputId": "a3f4a5f5-affa-4bf4-b79b-1d6a4399d11d"
      },
      "source": [
        "my_print(10,20,30, sep=', ')"
      ],
      "execution_count": 52,
      "outputs": [
        {
          "output_type": "stream",
          "text": [
            "10, 20, 30\n"
          ],
          "name": "stdout"
        }
      ]
    },
    {
      "cell_type": "markdown",
      "metadata": {
        "id": "IEolzbEWrg6G"
      },
      "source": [
        "## 30.4 매개변수에 초기값 지정"
      ]
    },
    {
      "cell_type": "code",
      "metadata": {
        "id": "po4ONnPNrgjz"
      },
      "source": [
        "def personal_info4(name, age, addr = '비공개'):     #초기값 지정된 매개변수는 맨 뒤로!\n",
        "    print('이름', name)\n",
        "    print('나이', age)\n",
        "    print('주소', addr)"
      ],
      "execution_count": 53,
      "outputs": []
    },
    {
      "cell_type": "code",
      "metadata": {
        "colab": {
          "base_uri": "https://localhost:8080/"
        },
        "id": "kDg9J25ur1YP",
        "outputId": "14f337b8-3cdf-48c8-da8b-379e9a683cb0"
      },
      "source": [
        "personal_info4('홍길동',30)"
      ],
      "execution_count": 54,
      "outputs": [
        {
          "output_type": "stream",
          "text": [
            "이름 홍길동\n",
            "나이 30\n",
            "주소 비공개\n"
          ],
          "name": "stdout"
        }
      ]
    },
    {
      "cell_type": "code",
      "metadata": {
        "colab": {
          "base_uri": "https://localhost:8080/"
        },
        "id": "iMvU7Kj9r459",
        "outputId": "be65275e-9933-407c-b4d5-efb29be17340"
      },
      "source": [
        "personal_info4(**x)         # 주소를 안주면 초기값, 주소를 주면 입력한 값"
      ],
      "execution_count": 55,
      "outputs": [
        {
          "output_type": "stream",
          "text": [
            "이름 홍길동\n",
            "나이 30\n",
            "주소 서울 강남구 도곡동\n"
          ],
          "name": "stdout"
        }
      ]
    }
  ]
}