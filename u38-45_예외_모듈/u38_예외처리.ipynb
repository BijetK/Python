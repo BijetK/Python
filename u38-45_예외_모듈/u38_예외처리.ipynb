{
  "nbformat": 4,
  "nbformat_minor": 0,
  "metadata": {
    "colab": {
      "name": "u38_예외처리.ipynb",
      "provenance": [],
      "collapsed_sections": []
    },
    "kernelspec": {
      "name": "python3",
      "display_name": "Python 3"
    },
    "language_info": {
      "name": "python"
    }
  },
  "cells": [
    {
      "cell_type": "markdown",
      "metadata": {
        "id": "6NeEfxcTsL-L"
      },
      "source": [
        "# UNit 38. 예외 처리"
      ]
    },
    {
      "cell_type": "markdown",
      "metadata": {
        "id": "Wh4b-RugtIRq"
      },
      "source": [
        "## 38.1 try except"
      ]
    },
    {
      "cell_type": "code",
      "metadata": {
        "colab": {
          "base_uri": "https://localhost:8080/"
        },
        "id": "lR8k4hXptH_n",
        "outputId": "5c8e0fab-1428-462c-968f-30a8eacb2a69"
      },
      "source": [
        "a = [1, 2, 3]\n",
        "try:\n",
        "    [a] = 4\n",
        "except:\n",
        "    print('예외 발생')"
      ],
      "execution_count": 2,
      "outputs": [
        {
          "output_type": "stream",
          "text": [
            "예외 발생\n"
          ],
          "name": "stdout"
        }
      ]
    },
    {
      "cell_type": "markdown",
      "metadata": {
        "id": "DNvFQuHCwpF6"
      },
      "source": [
        "### 특정 예외만 처리하기"
      ]
    },
    {
      "cell_type": "code",
      "metadata": {
        "colab": {
          "base_uri": "https://localhost:8080/",
          "height": 247
        },
        "id": "G90ms0-evmmx",
        "outputId": "d2b9abde-7e48-47bd-f3be-bae556830870"
      },
      "source": [
        "try:\n",
        "    int('10d')\n",
        "except ZeroDivisionError:\n",
        "    print('0으로 나눌 수 없습니다.')\n",
        "except IndexError:\n",
        "    print('Index Error 발생')"
      ],
      "execution_count": 3,
      "outputs": [
        {
          "output_type": "error",
          "ename": "ValueError",
          "evalue": "ignored",
          "traceback": [
            "\u001b[0;31m---------------------------------------------------------------------------\u001b[0m",
            "\u001b[0;31mValueError\u001b[0m                                Traceback (most recent call last)",
            "\u001b[0;32m<ipython-input-3-ee9b0c9a0598>\u001b[0m in \u001b[0;36m<module>\u001b[0;34m()\u001b[0m\n\u001b[1;32m      1\u001b[0m \u001b[0;32mtry\u001b[0m\u001b[0;34m:\u001b[0m\u001b[0;34m\u001b[0m\u001b[0;34m\u001b[0m\u001b[0m\n\u001b[0;32m----> 2\u001b[0;31m     \u001b[0mint\u001b[0m\u001b[0;34m(\u001b[0m\u001b[0;34m'10d'\u001b[0m\u001b[0;34m)\u001b[0m\u001b[0;34m\u001b[0m\u001b[0;34m\u001b[0m\u001b[0m\n\u001b[0m\u001b[1;32m      3\u001b[0m \u001b[0;32mexcept\u001b[0m \u001b[0mZeroDivisionError\u001b[0m\u001b[0;34m:\u001b[0m\u001b[0;34m\u001b[0m\u001b[0;34m\u001b[0m\u001b[0m\n\u001b[1;32m      4\u001b[0m     \u001b[0mprint\u001b[0m\u001b[0;34m(\u001b[0m\u001b[0;34m'0으로 나눌 수 없습니다.'\u001b[0m\u001b[0;34m)\u001b[0m\u001b[0;34m\u001b[0m\u001b[0;34m\u001b[0m\u001b[0m\n\u001b[1;32m      5\u001b[0m \u001b[0;32mexcept\u001b[0m \u001b[0mIndexError\u001b[0m\u001b[0;34m:\u001b[0m\u001b[0;34m\u001b[0m\u001b[0;34m\u001b[0m\u001b[0m\n",
            "\u001b[0;31mValueError\u001b[0m: invalid literal for int() with base 10: '10d'"
          ]
        }
      ]
    },
    {
      "cell_type": "code",
      "metadata": {
        "colab": {
          "base_uri": "https://localhost:8080/"
        },
        "id": "cLwlrrwmv5rF",
        "outputId": "a86b3432-8a53-4f1e-ab49-36d0b33aeb03"
      },
      "source": [
        "try:\n",
        "    int('10d')\n",
        "except ZeroDivisionError:\n",
        "    print('0으로 나눌 수 없습니다.')\n",
        "except IndexError:\n",
        "    print('Index Error 발생')\n",
        "except ValueError:\n",
        "    print('Value Error 발생')"
      ],
      "execution_count": 4,
      "outputs": [
        {
          "output_type": "stream",
          "text": [
            "Value Error 발생\n"
          ],
          "name": "stdout"
        }
      ]
    },
    {
      "cell_type": "markdown",
      "metadata": {
        "id": "8K2GxETnxFmC"
      },
      "source": [
        "### 예외의 에러 메시지 받아오기"
      ]
    },
    {
      "cell_type": "code",
      "metadata": {
        "colab": {
          "base_uri": "https://localhost:8080/"
        },
        "id": "RH6CnExmwFS7",
        "outputId": "6f6a7f31-24a2-435f-c8be-936b3448ba97"
      },
      "source": [
        "try:\n",
        "    int('10d')\n",
        "except Exception as e:      # alias\n",
        "    print(e)                # Exception 개체의 __str__() method"
      ],
      "execution_count": 6,
      "outputs": [
        {
          "output_type": "stream",
          "text": [
            "invalid literal for int() with base 10: '10d'\n"
          ],
          "name": "stdout"
        }
      ]
    },
    {
      "cell_type": "markdown",
      "metadata": {
        "id": "wkdaLf3ixnN5"
      },
      "source": [
        "## 38.2 else-finally"
      ]
    },
    {
      "cell_type": "code",
      "metadata": {
        "colab": {
          "base_uri": "https://localhost:8080/"
        },
        "id": "yzlikSKjxNaC",
        "outputId": "a4f6f578-fdb5-4079-92af-5db5e1f4834d"
      },
      "source": [
        "try:\n",
        "    x = int(input('나눌 숫자 입력'))\n",
        "    y = 10 / x\n",
        "except Exception as e:\n",
        "    print(e)\n",
        "else:\n",
        "    print(y)"
      ],
      "execution_count": 8,
      "outputs": [
        {
          "output_type": "stream",
          "text": [
            "나눌 숫자 입력3sd\n",
            "invalid literal for int() with base 10: '3sd'\n"
          ],
          "name": "stdout"
        }
      ]
    },
    {
      "cell_type": "code",
      "metadata": {
        "colab": {
          "base_uri": "https://localhost:8080/"
        },
        "id": "S5X9PN7V2BCz",
        "outputId": "8e7331d3-1748-4781-e2d7-1861d2f58a8c"
      },
      "source": [
        "# 예외와 상관없이 항상 실행\n",
        "try:\n",
        "    x = int(input('나눌 숫자 입력'))\n",
        "    y = 10 / x\n",
        "except Exception as e:\n",
        "    print(e)\n",
        "else:\n",
        "    print(y)\n",
        "finally:\n",
        "    print('코드 실행 종료')"
      ],
      "execution_count": 9,
      "outputs": [
        {
          "output_type": "stream",
          "text": [
            "나눌 숫자 입력0\n",
            "division by zero\n",
            "코드 실행 종료\n"
          ],
          "name": "stdout"
        }
      ]
    },
    {
      "cell_type": "markdown",
      "metadata": {
        "id": "kIOieiKd4F9r"
      },
      "source": [
        "**로그인**\n",
        "1. id가 없는 경우\n",
        "2. id 는 o, pwd x\n",
        "3. id o pw o"
      ]
    },
    {
      "cell_type": "markdown",
      "metadata": {
        "id": "MKfVgVqz5BAz"
      },
      "source": [
        "## 38.3 예외 발생 시키기"
      ]
    },
    {
      "cell_type": "code",
      "metadata": {
        "colab": {
          "base_uri": "https://localhost:8080/"
        },
        "id": "V_a_yvyd2duM",
        "outputId": "b22486f2-8f1b-4d46-9ee4-c94516c423e5"
      },
      "source": [
        "import random\n",
        "try:\n",
        "    x= random.randint(1, 10)\n",
        "    print(x)\n",
        "    if x % 3 != 0:\n",
        "        raise Exception('3의 배수가 아닙니다.')\n",
        "except Exception as e:\n",
        "    print('예외 발생', e)"
      ],
      "execution_count": 23,
      "outputs": [
        {
          "output_type": "stream",
          "text": [
            "9\n"
          ],
          "name": "stdout"
        }
      ]
    },
    {
      "cell_type": "code",
      "metadata": {
        "colab": {
          "base_uri": "https://localhost:8080/"
        },
        "id": "v67ayXFn5x4A",
        "outputId": "022f00b2-9858-487a-c7f8-bb606b218f3d"
      },
      "source": [
        "def multiple11(x):\n",
        "    if x % 11 != 0:\n",
        "        raise Exception('11의 배수가 아닙니다.')\n",
        "    print(x)\n",
        "\n",
        "try:\n",
        "    multiple11(100)\n",
        "except Exception as e:\n",
        "    print('예외 발생', e)    "
      ],
      "execution_count": 26,
      "outputs": [
        {
          "output_type": "stream",
          "text": [
            "예외 발생 11의 배수가 아닙니다.\n"
          ],
          "name": "stdout"
        }
      ]
    },
    {
      "cell_type": "code",
      "metadata": {
        "id": "YXoMx7Pu6wMj"
      },
      "source": [
        "for():\n",
        "    for():\n",
        "        for():\n",
        "            if 조건:\n",
        "                loop을 완전 탈출"
      ],
      "execution_count": null,
      "outputs": []
    },
    {
      "cell_type": "code",
      "metadata": {
        "id": "xsmnVj2V7EP8"
      },
      "source": [
        "try:\n",
        "    for():\n",
        "        for():\n",
        "            for():\n",
        "                if 조건:\n",
        "                    raise Exception\n",
        "except:\n",
        "    ;"
      ],
      "execution_count": null,
      "outputs": []
    },
    {
      "cell_type": "markdown",
      "metadata": {
        "id": "KJD8Imjb7k66"
      },
      "source": [
        "## 38.4 예외 만들기"
      ]
    },
    {
      "cell_type": "code",
      "metadata": {
        "id": "ltHkgk1k7mXN"
      },
      "source": [
        "# Exception 객체를 상속받아 객체를 만들면 됨"
      ],
      "execution_count": null,
      "outputs": []
    }
  ]
}