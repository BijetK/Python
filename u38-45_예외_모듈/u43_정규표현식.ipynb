{
  "nbformat": 4,
  "nbformat_minor": 0,
  "metadata": {
    "colab": {
      "name": "u43_정규표현식.ipynb",
      "provenance": [],
      "collapsed_sections": []
    },
    "kernelspec": {
      "name": "python3",
      "display_name": "Python 3"
    },
    "language_info": {
      "name": "python"
    }
  },
  "cells": [
    {
      "cell_type": "code",
      "metadata": {
        "id": "Frxq9x0Q8Qzn"
      },
      "source": [
        "[ㄱ-ㅎㅏ-ㅣ가-힣]\n",
        "^[ㄱ-ㅎㅏ-ㅣ가-힣] # => not"
      ],
      "execution_count": null,
      "outputs": []
    },
    {
      "cell_type": "code",
      "metadata": {
        "id": "5CGNocZt-dIX"
      },
      "source": [
        "# 정규표현식 : 문자열의 패턴을 찾는 것"
      ],
      "execution_count": null,
      "outputs": []
    },
    {
      "cell_type": "markdown",
      "metadata": {
        "id": "lkzl_E5x-6L1"
      },
      "source": [
        "# Unit 43. 정규표현식"
      ]
    },
    {
      "cell_type": "code",
      "metadata": {
        "colab": {
          "base_uri": "https://localhost:8080/"
        },
        "id": "Nj7AIqUW--V7",
        "outputId": "1a4bb209-dd2a-45cd-ac8c-a4cc5f429cbf"
      },
      "source": [
        "import re\n",
        "re.match('Hello', 'Hello, world!')      #패턴, 문자열"
      ],
      "execution_count": 2,
      "outputs": [
        {
          "output_type": "execute_result",
          "data": {
            "text/plain": [
              "<re.Match object; span=(0, 5), match='Hello'>"
            ]
          },
          "metadata": {
            "tags": []
          },
          "execution_count": 2
        }
      ]
    },
    {
      "cell_type": "code",
      "metadata": {
        "id": "-lc8vcx2_mQl"
      },
      "source": [
        ""
      ],
      "execution_count": null,
      "outputs": []
    },
    {
      "cell_type": "markdown",
      "metadata": {
        "id": "c5-mvMQtEWxA"
      },
      "source": [
        "# 43.2 범위 판단"
      ]
    },
    {
      "cell_type": "code",
      "metadata": {
        "colab": {
          "base_uri": "https://localhost:8080/"
        },
        "id": "YSPmjcsTEZy4",
        "outputId": "94b88ae1-e0c6-470c-fe9a-fbc849530ed9"
      },
      "source": [
        "# 휴대전화 번호형식\n",
        "pattern = '01[0-9]-[0-9]{4}-[0-9]{4}'\n",
        "text = '010-1234-5678'\n",
        "if re.match(pattern, text):\n",
        "    print('올바른 휴대전화번호')\n",
        "else:\n",
        "    print('잘못된 휴대전화번호')"
      ],
      "execution_count": 6,
      "outputs": [
        {
          "output_type": "stream",
          "text": [
            "올바른 휴대전화번호\n"
          ],
          "name": "stdout"
        }
      ]
    },
    {
      "cell_type": "code",
      "metadata": {
        "colab": {
          "base_uri": "https://localhost:8080/"
        },
        "id": "roDgG4TnFWO8",
        "outputId": "bc8c948b-58dd-4f9a-812c-e1497ba1a348"
      },
      "source": [
        "# 한글 패턴\n",
        "hangul = '[ㄱ-ㅎㅏ-ㅣ가-힣]+'\n",
        "text = '홍길동'\n",
        "if re.match(hangul, text):\n",
        "    print('한글이 있음')\n",
        "else:\n",
        "    print('한글이 없음')"
      ],
      "execution_count": 7,
      "outputs": [
        {
          "output_type": "stream",
          "text": [
            "한글이 있음\n"
          ],
          "name": "stdout"
        }
      ]
    },
    {
      "cell_type": "markdown",
      "metadata": {
        "id": "0GV7NJ2VJyCp"
      },
      "source": [
        "### 이메일 주소 검사하기"
      ]
    },
    {
      "cell_type": "code",
      "metadata": {
        "id": "iM_BYjtKJ2OF"
      },
      "source": [
        "# p = re.compile('^[0-9a-zA-Z]([-_.]?[0-9a-zA-Z])*@[0-9a-zA-Z]([-_.]?[0-9a-zA-Z])*.[a-zA-Z]{2,3}$')     인터넷발\n",
        "p = re.compile('^[a-zA-Z0-9+-_.]+@[a-zA-Z0-9-]+\\.[a-zA-Z0-9-.]+$')"
      ],
      "execution_count": 23,
      "outputs": []
    },
    {
      "cell_type": "code",
      "metadata": {
        "colab": {
          "base_uri": "https://localhost:8080/"
        },
        "id": "IACtQ2bsKRZu",
        "outputId": "0e0d939b-f87d-41e2-c7d1-95f3bb3369fa"
      },
      "source": [
        "emails = ['python@mail.example.com', 'python+kr@example.com',              \n",
        "          'python-dojang@example.co.kr', 'python_10@example.info',         \n",
        "          'python.dojang@e-xample.com',                                    \n",
        "          '@example.com', 'python@example', 'python@example-com'] \n",
        "for email in emails:\n",
        "    print(p.match(email) != None, end=' ')"
      ],
      "execution_count": 24,
      "outputs": [
        {
          "output_type": "stream",
          "text": [
            "True True True True True False False False "
          ],
          "name": "stdout"
        }
      ]
    },
    {
      "cell_type": "markdown",
      "metadata": {
        "id": "oXECVYlXGG0U"
      },
      "source": [
        "## 43.4 문자열 바꾸기"
      ]
    },
    {
      "cell_type": "code",
      "metadata": {
        "colab": {
          "base_uri": "https://localhost:8080/",
          "height": 35
        },
        "id": "6qzDEbm5GK0R",
        "outputId": "22cd8d22-04e4-45f3-c212-ea45362f7e93"
      },
      "source": [
        "# re.sub('패턴', 바꿀 문자열, '대상이 되는 문자열')\n",
        "re.sub('apple|orange', 'friut', 'apple box orange tree')"
      ],
      "execution_count": 9,
      "outputs": [
        {
          "output_type": "execute_result",
          "data": {
            "application/vnd.google.colaboratory.intrinsic+json": {
              "type": "string"
            },
            "text/plain": [
              "'friut box friut tree'"
            ]
          },
          "metadata": {
            "tags": []
          },
          "execution_count": 9
        }
      ]
    },
    {
      "cell_type": "code",
      "metadata": {
        "colab": {
          "base_uri": "https://localhost:8080/",
          "height": 35
        },
        "id": "WcJQAHLrGsbr",
        "outputId": "aeb12b97-65a7-465f-8316-bb9b7817b06a"
      },
      "source": [
        "re.sub('[0-9]+', 'n', '1 2 Fizz 4 Buzz Fizz 7 8 Fizz Buzz 11 12')"
      ],
      "execution_count": 13,
      "outputs": [
        {
          "output_type": "execute_result",
          "data": {
            "application/vnd.google.colaboratory.intrinsic+json": {
              "type": "string"
            },
            "text/plain": [
              "'n n Fizz n Buzz Fizz n n Fizz Buzz n n'"
            ]
          },
          "metadata": {
            "tags": []
          },
          "execution_count": 13
        }
      ]
    },
    {
      "cell_type": "code",
      "metadata": {
        "colab": {
          "base_uri": "https://localhost:8080/",
          "height": 35
        },
        "id": "WZfgKH_wHA_r",
        "outputId": "3ac8829d-3e28-4628-d5af-7d217a12140a"
      },
      "source": [
        "re.sub('[0-9]', 'n', '1 2 Fizz 4 Buzz Fizz 7 8 Fizz Buzz 11 12')        # +없으면 숫자 하나씩 n으로"
      ],
      "execution_count": 14,
      "outputs": [
        {
          "output_type": "execute_result",
          "data": {
            "application/vnd.google.colaboratory.intrinsic+json": {
              "type": "string"
            },
            "text/plain": [
              "'n n Fizz n Buzz Fizz n n Fizz Buzz nn nn'"
            ]
          },
          "metadata": {
            "tags": []
          },
          "execution_count": 14
        }
      ]
    },
    {
      "cell_type": "code",
      "metadata": {
        "id": "TuQlsVkxHeFn"
      },
      "source": [
        "text = \"\"\"\n",
        "a*b, a+b에서 b는 무조건 있어야 하는 문자고, a*는 a가 0개 이상 있어야 하므로 b는 매칭이 됩니다. \n",
        "하지만 a+는 a가 1개 이상 있어야 하므로 b는 매칭되지 않습니다. \n",
        "그리고 'ab', 'aab', 'aaab'처럼 a가 0개 이상 또는 1개 이상 있을 때는 a*b와 a+b를 모두 만족합니다.\n",
        "\"\"\""
      ],
      "execution_count": 15,
      "outputs": []
    },
    {
      "cell_type": "code",
      "metadata": {
        "colab": {
          "base_uri": "https://localhost:8080/",
          "height": 54
        },
        "id": "BL4w6dg7HnPM",
        "outputId": "2c42669f-f11c-427a-9016-f13aa0a61aab"
      },
      "source": [
        "not_hangul_blank = '[^ㄱ-ㅎㅏ-ㅣ가-힣 ]'\n",
        "re.sub(not_hangul_blank, '', text)"
      ],
      "execution_count": 19,
      "outputs": [
        {
          "output_type": "execute_result",
          "data": {
            "application/vnd.google.colaboratory.intrinsic+json": {
              "type": "string"
            },
            "text/plain": [
              "' 에서 는 무조건 있어야 하는 문자고 는 가 개 이상 있어야 하므로 는 매칭이 됩니다 하지만 는 가 개 이상 있어야 하므로 는 매칭되지 않습니다 그리고   처럼 가 개 이상 또는 개 이상 있을 때는 와 를 모두 만족합니다'"
            ]
          },
          "metadata": {
            "tags": []
          },
          "execution_count": 19
        }
      ]
    },
    {
      "cell_type": "markdown",
      "metadata": {
        "id": "3fpms0s6JwgA"
      },
      "source": [
        ""
      ]
    }
  ]
}