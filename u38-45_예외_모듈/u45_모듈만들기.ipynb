{
  "nbformat": 4,
  "nbformat_minor": 0,
  "metadata": {
    "colab": {
      "name": "u45_모듈만들기.ipynb",
      "provenance": [],
      "collapsed_sections": []
    },
    "kernelspec": {
      "name": "python3",
      "display_name": "Python 3"
    },
    "language_info": {
      "name": "python"
    }
  },
  "cells": [
    {
      "cell_type": "markdown",
      "metadata": {
        "id": "IuQiy5ams-Mb"
      },
      "source": [
        "## 45.1 모듈만들기"
      ]
    },
    {
      "cell_type": "markdown",
      "metadata": {
        "id": "1VvHx5MavsnW"
      },
      "source": [
        "### 함수와 변수"
      ]
    },
    {
      "cell_type": "code",
      "metadata": {
        "colab": {
          "base_uri": "https://localhost:8080/"
        },
        "id": "0nYUpHHIs3Pv",
        "outputId": "c3eb78c7-d659-468c-c01c-e9a687156a78"
      },
      "source": [
        "import u45_square2 as sq\n",
        "\n",
        "print(sq.base)\n",
        "print(sq.square(10))"
      ],
      "execution_count": 10,
      "outputs": [
        {
          "output_type": "stream",
          "text": [
            "2\n",
            "1024\n"
          ],
          "name": "stdout"
        }
      ]
    },
    {
      "cell_type": "code",
      "metadata": {
        "colab": {
          "base_uri": "https://localhost:8080/"
        },
        "id": "RXzHB7Y7uIk5",
        "outputId": "578e495f-0afd-4266-9739-5c016b987c78"
      },
      "source": [
        "!ls -l"
      ],
      "execution_count": 14,
      "outputs": [
        {
          "output_type": "stream",
          "text": [
            "total 16\n",
            "drwxr-xr-x 2 root root 4096 Aug  5 05:47 __pycache__\n",
            "drwxr-xr-x 1 root root 4096 Jul 16 13:20 sample_data\n",
            "-rw-r--r-- 1 root root  221 Aug  5 05:21 u45_person.py\n",
            "-rw-r--r-- 1 root root  119 Aug  5 05:48 u45_square2.py\n"
          ],
          "name": "stdout"
        }
      ]
    },
    {
      "cell_type": "code",
      "metadata": {
        "colab": {
          "base_uri": "https://localhost:8080/"
        },
        "id": "V2DZ8iZPuNal",
        "outputId": "885dcbec-2691-464f-d890-6028ff0a19ad"
      },
      "source": [
        "!ls -l __pycache__"
      ],
      "execution_count": 15,
      "outputs": [
        {
          "output_type": "stream",
          "text": [
            "total 8\n",
            "-rw-r--r-- 1 root root 600 Aug  5 05:47 u45_person.cpython-37.pyc\n",
            "-rw-r--r-- 1 root root 225 Aug  5 05:47 u45_square2.cpython-37.pyc\n"
          ],
          "name": "stdout"
        }
      ]
    },
    {
      "cell_type": "markdown",
      "metadata": {
        "id": "pqvAs2OBwi_b"
      },
      "source": [
        "### 클래스"
      ]
    },
    {
      "cell_type": "code",
      "metadata": {
        "colab": {
          "base_uri": "https://localhost:8080/"
        },
        "id": "Xw2VEI1TuRKl",
        "outputId": "26b4e195-b0f3-4f3d-ef24-7b650fb9a16f"
      },
      "source": [
        "from u45_person import Person\n",
        "\n",
        "maria = Person('마리아', 25, '서울시 강남구 도곡동')\n",
        "maria.greeting()"
      ],
      "execution_count": 7,
      "outputs": [
        {
          "output_type": "stream",
          "text": [
            "안녕하세요? 저는 마리아입니다.\n"
          ],
          "name": "stdout"
        }
      ]
    },
    {
      "cell_type": "code",
      "metadata": {
        "colab": {
          "base_uri": "https://localhost:8080/"
        },
        "id": "gVXz4X5txDTW",
        "outputId": "b6e3d99b-b6c1-46c7-e9d2-d1ce3b258298"
      },
      "source": [
        "# list\n",
        "!ls -l __pycache__"
      ],
      "execution_count": 16,
      "outputs": [
        {
          "output_type": "stream",
          "text": [
            "total 8\n",
            "-rw-r--r-- 1 root root 600 Aug  5 05:47 u45_person.cpython-37.pyc\n",
            "-rw-r--r-- 1 root root 225 Aug  5 05:47 u45_square2.cpython-37.pyc\n"
          ],
          "name": "stdout"
        }
      ]
    },
    {
      "cell_type": "code",
      "metadata": {
        "id": "kt08ygknxHKa"
      },
      "source": [
        "#모듈을 새로 수정했을 때 사용할 것\n",
        "#!rm __pycache__/*"
      ],
      "execution_count": 18,
      "outputs": []
    },
    {
      "cell_type": "code",
      "metadata": {
        "colab": {
          "base_uri": "https://localhost:8080/"
        },
        "id": "bi02QLmVzYL7",
        "outputId": "f3988e7f-d869-4ae7-9f19-60bd1e99796e"
      },
      "source": [
        "!ls -l __pycache__/"
      ],
      "execution_count": 17,
      "outputs": [
        {
          "output_type": "stream",
          "text": [
            "total 8\n",
            "-rw-r--r-- 1 root root 600 Aug  5 05:47 u45_person.cpython-37.pyc\n",
            "-rw-r--r-- 1 root root 225 Aug  5 05:47 u45_square2.cpython-37.pyc\n"
          ],
          "name": "stdout"
        }
      ]
    },
    {
      "cell_type": "markdown",
      "metadata": {
        "id": "-iO_F0rw2VEg"
      },
      "source": [
        "## 45.2 모듈과 시작점"
      ]
    },
    {
      "cell_type": "code",
      "metadata": {
        "colab": {
          "base_uri": "https://localhost:8080/"
        },
        "id": "FUStXtggzcXa",
        "outputId": "9b1b76b3-5522-4bad-9122-ea135b6ffd23"
      },
      "source": [
        "!python u45_square2.py"
      ],
      "execution_count": 1,
      "outputs": [
        {
          "output_type": "stream",
          "text": [
            "2\n",
            "1024\n"
          ],
          "name": "stdout"
        }
      ]
    },
    {
      "cell_type": "code",
      "metadata": {
        "colab": {
          "base_uri": "https://localhost:8080/"
        },
        "id": "9s14v4we2ayc",
        "outputId": "912a03c9-d21e-4eab-81c4-161e172df53a"
      },
      "source": [
        "import u45_hello"
      ],
      "execution_count": 2,
      "outputs": [
        {
          "output_type": "stream",
          "text": [
            "hello 모듈 시작\n",
            "hello.py __name__ u45_hello\n",
            "hello 모듈 끝\n"
          ],
          "name": "stdout"
        }
      ]
    },
    {
      "cell_type": "code",
      "metadata": {
        "colab": {
          "base_uri": "https://localhost:8080/"
        },
        "id": "puaplsjX--DB",
        "outputId": "3961d2d7-d1b0-4c71-ed94-92981d46850e"
      },
      "source": [
        "!python u45_hello.py"
      ],
      "execution_count": 4,
      "outputs": [
        {
          "output_type": "stream",
          "text": [
            "hello 모듈 시작\n",
            "hello.py __name__ __main__\n",
            "hello 모듈 끝\n"
          ],
          "name": "stdout"
        }
      ]
    },
    {
      "cell_type": "markdown",
      "metadata": {
        "id": "nuPokKWYAPsn"
      },
      "source": [
        "### Account 클래스를 bank 디렉토리 밑에 util.py 라는 이름으로 사용"
      ]
    },
    {
      "cell_type": "code",
      "metadata": {
        "id": "qk-yqI9WAQOL"
      },
      "source": [
        "!mkdir bank"
      ],
      "execution_count": 5,
      "outputs": []
    },
    {
      "cell_type": "code",
      "metadata": {
        "colab": {
          "base_uri": "https://localhost:8080/"
        },
        "id": "ZvQlV9UEAujs",
        "outputId": "593ead41-3553-4b17-c509-6de69f942e70"
      },
      "source": [
        "!ls -l"
      ],
      "execution_count": 6,
      "outputs": [
        {
          "output_type": "stream",
          "text": [
            "total 24\n",
            "drwxr-xr-x 2 root root 4096 Aug  5 06:31 bank\n",
            "drwxr-xr-x 2 root root 4096 Aug  5 06:25 __pycache__\n",
            "drwxr-xr-x 1 root root 4096 Jul 16 13:20 sample_data\n",
            "-rw-r--r-- 1 root root   93 Aug  5 06:24 u45_hello.py\n",
            "-rw-r--r-- 1 root root  221 Aug  5 05:21 u45_person.py\n",
            "-rw-r--r-- 1 root root  119 Aug  5 05:48 u45_square2.py\n"
          ],
          "name": "stdout"
        }
      ]
    },
    {
      "cell_type": "code",
      "metadata": {
        "id": "Zkpk_DK9AwDa"
      },
      "source": [
        "from bank.u45_util import Account"
      ],
      "execution_count": 7,
      "outputs": []
    },
    {
      "cell_type": "code",
      "metadata": {
        "colab": {
          "base_uri": "https://localhost:8080/"
        },
        "id": "3uEa7WvQBlNQ",
        "outputId": "6969c4f6-c336-4101-f721-724bc92bbdbc"
      },
      "source": [
        "acc = Account('123456', '제임스', 100000)\n",
        "print(acc)"
      ],
      "execution_count": 8,
      "outputs": [
        {
          "output_type": "stream",
          "text": [
            "계좌번호 : 123456, 소유주 : 제임스, 잔액 : 100000\n"
          ],
          "name": "stdout"
        }
      ]
    },
    {
      "cell_type": "code",
      "metadata": {
        "id": "lG7-FOUQB2Qa"
      },
      "source": [
        ""
      ],
      "execution_count": null,
      "outputs": []
    }
  ]
}