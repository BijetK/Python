{
  "nbformat": 4,
  "nbformat_minor": 0,
  "metadata": {
    "colab": {
      "name": "u34_클래스.ipynb",
      "provenance": [],
      "collapsed_sections": []
    },
    "kernelspec": {
      "name": "python3",
      "display_name": "Python 3"
    },
    "language_info": {
      "name": "python"
    }
  },
  "cells": [
    {
      "cell_type": "code",
      "metadata": {
        "id": "wsJbOG_ewqvP"
      },
      "source": [
        ""
      ],
      "execution_count": null,
      "outputs": []
    },
    {
      "cell_type": "markdown",
      "metadata": {
        "id": "vt7JIxYz7GXj"
      },
      "source": [
        "# Unit 34. 클래스(Class)"
      ]
    },
    {
      "cell_type": "markdown",
      "metadata": {
        "id": "iIOS1dKl7f7V"
      },
      "source": [
        "## 34.1 클래스와 메서드 만들기"
      ]
    },
    {
      "cell_type": "code",
      "metadata": {
        "id": "HQKauGJx7fdB"
      },
      "source": [
        "class Person:       # 클래스 이름은 대문자로 시작\n",
        "    def greeting(self):\n",
        "        print('Hello')"
      ],
      "execution_count": 1,
      "outputs": []
    },
    {
      "cell_type": "code",
      "metadata": {
        "id": "0aroFd_l7zUA"
      },
      "source": [
        "# 인스턴스를 만들어야 클래스를 사용할 수 있다.\n",
        "james = Person()\n",
        "maria = Person()"
      ],
      "execution_count": 2,
      "outputs": []
    },
    {
      "cell_type": "code",
      "metadata": {
        "colab": {
          "base_uri": "https://localhost:8080/"
        },
        "id": "2ExBeXSZ8oEB",
        "outputId": "af11fa3b-f90d-4812-e5ff-60496615d674"
      },
      "source": [
        "james.greeting()"
      ],
      "execution_count": 3,
      "outputs": [
        {
          "output_type": "stream",
          "text": [
            "Hello\n"
          ],
          "name": "stdout"
        }
      ]
    },
    {
      "cell_type": "code",
      "metadata": {
        "colab": {
          "base_uri": "https://localhost:8080/"
        },
        "id": "Pprz8Rnu8qH-",
        "outputId": "fe6584bb-998e-43b5-8206-cb314c65c636"
      },
      "source": [
        "maria.greeting()"
      ],
      "execution_count": 4,
      "outputs": [
        {
          "output_type": "stream",
          "text": [
            "Hello\n"
          ],
          "name": "stdout"
        }
      ]
    },
    {
      "cell_type": "code",
      "metadata": {
        "colab": {
          "base_uri": "https://localhost:8080/"
        },
        "id": "LRbkW1Xr8sAV",
        "outputId": "1aa14c32-9cb1-4d92-a1ca-57c017178c92"
      },
      "source": [
        "Person().greeting()"
      ],
      "execution_count": 5,
      "outputs": [
        {
          "output_type": "stream",
          "text": [
            "Hello\n"
          ],
          "name": "stdout"
        }
      ]
    },
    {
      "cell_type": "code",
      "metadata": {
        "id": "wEmGab_z-Msx"
      },
      "source": [
        "class Person:\n",
        "    def greeting(self):\n",
        "        print('Hello')\n",
        "    \n",
        "    def hello(self):\n",
        "        self.greeting()"
      ],
      "execution_count": 6,
      "outputs": []
    },
    {
      "cell_type": "code",
      "metadata": {
        "colab": {
          "base_uri": "https://localhost:8080/"
        },
        "id": "h4O6fJNE-pdL",
        "outputId": "08dfc42f-712b-42f3-bdc4-bf05c08850ac"
      },
      "source": [
        "james = Person()\n",
        "james.hello()"
      ],
      "execution_count": 7,
      "outputs": [
        {
          "output_type": "stream",
          "text": [
            "Hello\n"
          ],
          "name": "stdout"
        }
      ]
    },
    {
      "cell_type": "code",
      "metadata": {
        "colab": {
          "base_uri": "https://localhost:8080/"
        },
        "id": "NcP8AXoW-tLH",
        "outputId": "de72b373-1820-46c4-af75-4d0474a1e83d"
      },
      "source": [
        "isinstance(james, Person)"
      ],
      "execution_count": 8,
      "outputs": [
        {
          "output_type": "execute_result",
          "data": {
            "text/plain": [
              "True"
            ]
          },
          "metadata": {
            "tags": []
          },
          "execution_count": 8
        }
      ]
    },
    {
      "cell_type": "code",
      "metadata": {
        "id": "Igg9OGq0-8Sw"
      },
      "source": [
        "def factorial(n):\n",
        "    if not isinstance(n, int) or n < 0:\n",
        "        return None\n",
        "    if n == 0 :\n",
        "        return 1\n",
        "    return n*factorial(n-1)"
      ],
      "execution_count": 9,
      "outputs": []
    },
    {
      "cell_type": "code",
      "metadata": {
        "id": "6EilukYn_Ph4"
      },
      "source": [
        "factorial(3.14)"
      ],
      "execution_count": 10,
      "outputs": []
    },
    {
      "cell_type": "code",
      "metadata": {
        "colab": {
          "base_uri": "https://localhost:8080/"
        },
        "id": "Bjw2vp-w_RcP",
        "outputId": "7b56e504-22cc-4381-b933-c25b3c7d23e5"
      },
      "source": [
        "factorial(6)"
      ],
      "execution_count": 11,
      "outputs": [
        {
          "output_type": "execute_result",
          "data": {
            "text/plain": [
              "720"
            ]
          },
          "metadata": {
            "tags": []
          },
          "execution_count": 11
        }
      ]
    },
    {
      "cell_type": "markdown",
      "metadata": {
        "id": "z8VHPXTz_hGj"
      },
      "source": [
        "## 34.2 속성(Attribute)"
      ]
    },
    {
      "cell_type": "code",
      "metadata": {
        "id": "8KQZ4cNU_joR"
      },
      "source": [
        "class Person:\n",
        "    def __init__(self):\n",
        "        self.hello = '안녕하세요'       # hello 속성을 갖게 됨\n",
        "        \n",
        "    def greeting(self):\n",
        "        print(self.hello)"
      ],
      "execution_count": 12,
      "outputs": []
    },
    {
      "cell_type": "code",
      "metadata": {
        "colab": {
          "base_uri": "https://localhost:8080/"
        },
        "id": "ESeuQ_plAAwa",
        "outputId": "b94f50a6-aea8-4c90-cad4-1ef961c424bb"
      },
      "source": [
        "maria = Person()\n",
        "maria.greeting()"
      ],
      "execution_count": 13,
      "outputs": [
        {
          "output_type": "stream",
          "text": [
            "안녕하세요\n"
          ],
          "name": "stdout"
        }
      ]
    },
    {
      "cell_type": "code",
      "metadata": {
        "colab": {
          "base_uri": "https://localhost:8080/"
        },
        "id": "r3ajMTXcAE9f",
        "outputId": "ea97c3ff-3daa-41c6-88d1-d159999cded1"
      },
      "source": [
        "maria.hello = \"How are you?\"\n",
        "maria.greeting()"
      ],
      "execution_count": 14,
      "outputs": [
        {
          "output_type": "stream",
          "text": [
            "How are you?\n"
          ],
          "name": "stdout"
        }
      ]
    },
    {
      "cell_type": "code",
      "metadata": {
        "id": "qrPfOMDlBiPA"
      },
      "source": [
        "class Person:\n",
        "    def __init__(self,hello):       # Constructor\n",
        "        self.hello = hello\n",
        "\n",
        "    def greeting(self):\n",
        "        print(self.hello)"
      ],
      "execution_count": 15,
      "outputs": []
    },
    {
      "cell_type": "code",
      "metadata": {
        "id": "AVEWDqr7BoLx"
      },
      "source": [
        "james = Person('안녕하세요')\n",
        "maria = Person('How are you?')"
      ],
      "execution_count": 16,
      "outputs": []
    },
    {
      "cell_type": "code",
      "metadata": {
        "colab": {
          "base_uri": "https://localhost:8080/"
        },
        "id": "WYUR1JC-B45V",
        "outputId": "cf05b3c2-2d29-4362-8030-502562690c4a"
      },
      "source": [
        "james.greeting()\n",
        "maria.greeting()"
      ],
      "execution_count": 17,
      "outputs": [
        {
          "output_type": "stream",
          "text": [
            "안녕하세요\n",
            "How are you?\n"
          ],
          "name": "stdout"
        }
      ]
    },
    {
      "cell_type": "code",
      "metadata": {
        "id": "NgxeTyQQB7HI"
      },
      "source": [
        "class Person:\n",
        "    def __init__(self, name, age, addr):    # *args, **kwargs 사용 가능\n",
        "        self.hello = '안녕하세요?'\n",
        "        self.name = name\n",
        "        self.age = age\n",
        "        self.addr = addr\n",
        "\n",
        "    def greeting(self):\n",
        "        print(f'{self.hello} 저는 {self.name}입니다.')\n",
        "    # JAVA의 toString() method\n",
        "    def __str__(self):\n",
        "        return f'hello : {self.hello}, name :{self.name}, age:{self.age}, addr: {self.addr}'"
      ],
      "execution_count": 18,
      "outputs": []
    },
    {
      "cell_type": "code",
      "metadata": {
        "colab": {
          "base_uri": "https://localhost:8080/"
        },
        "id": "gsDA9MRaDHRP",
        "outputId": "c36e94d6-4592-470a-85fb-39663c3bf483"
      },
      "source": [
        "maria = Person('마리아', 23, '서울시 강남구 도곡동')\n",
        "maria.greeting()"
      ],
      "execution_count": 19,
      "outputs": [
        {
          "output_type": "stream",
          "text": [
            "안녕하세요? 저는 마리아입니다.\n"
          ],
          "name": "stdout"
        }
      ]
    },
    {
      "cell_type": "code",
      "metadata": {
        "colab": {
          "base_uri": "https://localhost:8080/"
        },
        "id": "IBpYhVzODQ2W",
        "outputId": "7acf332c-ea98-4abc-fb69-739ec82132ab"
      },
      "source": [
        "print(maria)"
      ],
      "execution_count": 20,
      "outputs": [
        {
          "output_type": "stream",
          "text": [
            "hello : 안녕하세요?, name :마리아, age:23, addr: 서울시 강남구 도곡동\n"
          ],
          "name": "stdout"
        }
      ]
    },
    {
      "cell_type": "markdown",
      "metadata": {
        "id": "XnSl1JfgV4wf"
      },
      "source": [
        "## 34.3 비공개 속성"
      ]
    },
    {
      "cell_type": "code",
      "metadata": {
        "colab": {
          "base_uri": "https://localhost:8080/"
        },
        "id": "Q2Fj7Tn0UshA",
        "outputId": "25159ef9-8765-4bcd-8117-15b259ad083d"
      },
      "source": [
        "maria.age = 30\n",
        "print(maria)"
      ],
      "execution_count": 21,
      "outputs": [
        {
          "output_type": "stream",
          "text": [
            "hello : 안녕하세요?, name :마리아, age:30, addr: 서울시 강남구 도곡동\n"
          ],
          "name": "stdout"
        }
      ]
    },
    {
      "cell_type": "code",
      "metadata": {
        "id": "7jEPdyMLWSiQ"
      },
      "source": [
        "class Person:\n",
        "    def __init__(self, name, age, addr, wallet):    # *args, **kwargs 사용 가능\n",
        "        self.name = name\n",
        "        self.age = age\n",
        "        self.addr = addr\n",
        "        self.__wallet = wallet      # __ 붙임으로써 비공개속성이 됨\n",
        "\n",
        "    def greeting(self):\n",
        "        print(f'저는 {self.name}입니다.')\n",
        "\n",
        "    def pay(self, amount):\n",
        "        if self.__wallet - amount < 0:\n",
        "            print('지갑에 돈이 부족합니다.')\n",
        "            return\n",
        "        self.__wallet -= amount\n",
        "        print(f'지갑에 남은 돈은 {self.__wallet}입니다.')\n",
        "\n",
        "    # JAVA의 toString() method\n",
        "    def __str__(self):\n",
        "        return f'name :{self.name}, age:{self.age}, addr: {self.addr}, wallet: {self.__wallet}'"
      ],
      "execution_count": 38,
      "outputs": []
    },
    {
      "cell_type": "code",
      "metadata": {
        "colab": {
          "base_uri": "https://localhost:8080/"
        },
        "id": "QXXY-8QBV_qz",
        "outputId": "3f01a51f-8668-43a0-b050-80cac45fb902"
      },
      "source": [
        "james = Person('제임스', 27, '서울 강남구 역삼동', 10000)\n",
        "james.greeting()"
      ],
      "execution_count": 39,
      "outputs": [
        {
          "output_type": "stream",
          "text": [
            "저는 제임스입니다.\n"
          ],
          "name": "stdout"
        }
      ]
    },
    {
      "cell_type": "code",
      "metadata": {
        "colab": {
          "base_uri": "https://localhost:8080/"
        },
        "id": "rm7tKMDGXNkq",
        "outputId": "01fcc87a-222a-4408-8db3-cc6f50e2d4ec"
      },
      "source": [
        "print(james)"
      ],
      "execution_count": 24,
      "outputs": [
        {
          "output_type": "stream",
          "text": [
            "name :제임스, age:27, addr: 서울 강남구 역삼동, wallet: 10000\n"
          ],
          "name": "stdout"
        }
      ]
    },
    {
      "cell_type": "code",
      "metadata": {
        "id": "WNna6bJeXji5"
      },
      "source": [
        "## __wallet은 비공개 속성이므로 클래스 바깥에서는 변경할 수 없음\n",
        "james.__wallet = 100000"
      ],
      "execution_count": 25,
      "outputs": []
    },
    {
      "cell_type": "code",
      "metadata": {
        "colab": {
          "base_uri": "https://localhost:8080/"
        },
        "id": "I_FTxEIKXud4",
        "outputId": "08202cd3-3a20-4999-df80-30ef2da548a9"
      },
      "source": [
        "print(james)"
      ],
      "execution_count": 26,
      "outputs": [
        {
          "output_type": "stream",
          "text": [
            "name :제임스, age:27, addr: 서울 강남구 역삼동, wallet: 10000\n"
          ],
          "name": "stdout"
        }
      ]
    },
    {
      "cell_type": "code",
      "metadata": {
        "colab": {
          "base_uri": "https://localhost:8080/"
        },
        "id": "I4Gn4xuZXvXO",
        "outputId": "d816507e-ae4c-44d2-c251-8b5d82661790"
      },
      "source": [
        "james.pay(5000)"
      ],
      "execution_count": 40,
      "outputs": [
        {
          "output_type": "stream",
          "text": [
            "지갑에 남은 돈은 5000입니다.\n"
          ],
          "name": "stdout"
        }
      ]
    },
    {
      "cell_type": "code",
      "metadata": {
        "colab": {
          "base_uri": "https://localhost:8080/"
        },
        "id": "h9eapwCWYQsX",
        "outputId": "735ea6dc-c31b-4fe6-d35f-39ba9ae53bd1"
      },
      "source": [
        "print(james)"
      ],
      "execution_count": 41,
      "outputs": [
        {
          "output_type": "stream",
          "text": [
            "name :제임스, age:27, addr: 서울 강남구 역삼동, wallet: 5000\n"
          ],
          "name": "stdout"
        }
      ]
    },
    {
      "cell_type": "markdown",
      "metadata": {
        "id": "vAPVW4d6c1rZ"
      },
      "source": [
        "### Account 클래스 만들기\n",
        "- ano : 문자열 6글자,'123456'\n",
        "- owner : 문자열\n",
        "- balance : 잔액, 비공개속성\n",
        "\n",
        "**Method**\n",
        "- 생성자\n",
        "- deposit (amount) 잔액이 1000만원 이상이면 입금할 수 없음\n",
        "- withdraw (amount) 잔액이 0원 미만이면 출금할 수 없음\n",
        "- 출력가능하게"
      ]
    },
    {
      "cell_type": "code",
      "metadata": {
        "id": "_7UKAvdWYhmy"
      },
      "source": [
        "class Account:\n",
        "    def __init__(self, ano, owner, balance):\n",
        "        self.ano = str(ano)\n",
        "        self.owner = owner\n",
        "        self.__balance = balance\n",
        "    \n",
        "    def deposit(self, amount):\n",
        "        if self.__balance + amount >= 10000000:\n",
        "            print('입금할 수 없습니다.')\n",
        "            return\n",
        "        self.__balance += amount\n",
        "        print(f'남은 잔액은 {self.__balance}원 입니다.')\n",
        "\n",
        "    def withdraw(self, amount):\n",
        "        if self.__balance - amount < 0:\n",
        "            print('잔액이 부족합니다.')\n",
        "            return\n",
        "        self.__balance -= amount\n",
        "        print(f'남은 잔액은 {self.__balance}원 입니다')\n",
        "\n",
        "    def __str__(self):\n",
        "        return f'계좌번호 : {self.ano}, 소유주 : {self.owner}, 잔액 : {self.__balance}'"
      ],
      "execution_count": 58,
      "outputs": []
    },
    {
      "cell_type": "code",
      "metadata": {
        "colab": {
          "base_uri": "https://localhost:8080/"
        },
        "id": "WqMN_t2Za93s",
        "outputId": "c391a65f-ddb2-4cb5-a083-92b5ed7ecd91"
      },
      "source": [
        "shinhan = Account(373021, '김범진', 20000)\n",
        "shinhan.withdraw(20000)\n",
        "shinhan.deposit(10009000)\n",
        "shinhan.deposit(5000)\n",
        "print(shinhan)"
      ],
      "execution_count": 59,
      "outputs": [
        {
          "output_type": "stream",
          "text": [
            "남은 잔액은 0원 입니다\n",
            "입금할 수 없습니다.\n",
            "남은 잔액은 5000원 입니다.\n",
            "계좌번호 : 373021, 소유주 : 김범진, 잔액 : 5000\n"
          ],
          "name": "stdout"
        }
      ]
    },
    {
      "cell_type": "code",
      "metadata": {
        "colab": {
          "base_uri": "https://localhost:8080/"
        },
        "id": "DJORq8t5bM3V",
        "outputId": "8f7398c0-e5eb-4b72-b068-d59907ea9821"
      },
      "source": [
        "acc2 = Account('987432', '마리아', 3000000)\n",
        "print(acc2)"
      ],
      "execution_count": 60,
      "outputs": [
        {
          "output_type": "stream",
          "text": [
            "계좌번호 : 987432, 소유주 : 마리아, 잔액 : 3000000\n"
          ],
          "name": "stdout"
        }
      ]
    },
    {
      "cell_type": "code",
      "metadata": {
        "id": "M-3s4RyOfCGo"
      },
      "source": [
        "acc_list = [shinhan, acc2]"
      ],
      "execution_count": 61,
      "outputs": []
    },
    {
      "cell_type": "code",
      "metadata": {
        "colab": {
          "base_uri": "https://localhost:8080/"
        },
        "id": "XkRRXCJafRbz",
        "outputId": "0e8190dd-9550-472e-dfa2-9bbcbbd4deca"
      },
      "source": [
        "for account in acc_list:\n",
        "    print(account)"
      ],
      "execution_count": 64,
      "outputs": [
        {
          "output_type": "stream",
          "text": [
            "계좌번호 : 373021, 소유주 : 김범진, 잔액 : 5000\n",
            "계좌번호 : 987432, 소유주 : 마리아, 잔액 : 3000000\n"
          ],
          "name": "stdout"
        }
      ]
    },
    {
      "cell_type": "markdown",
      "metadata": {
        "id": "ouQqQnc4fqnn"
      },
      "source": [
        "## 1:계좌생성, 2:계좌목록, 3:입금, 4:출금, 5:종료"
      ]
    },
    {
      "cell_type": "code",
      "metadata": {
        "id": "iI8rrp5esyDX"
      },
      "source": [
        "def check_duplicate(ano):\n",
        "    for acc in acc_list:\n",
        "        if ano == acc.ano:\n",
        "            return True\n",
        "        return False"
      ],
      "execution_count": 122,
      "outputs": []
    },
    {
      "cell_type": "code",
      "metadata": {
        "id": "8v18CKzll2PQ"
      },
      "source": [
        "# 사용자로부터 필요한 정보를 입력 받아서 계좌를 생성함\n",
        "def create_account():\n",
        "    s = input('계좌번호 성명 금액 = ').split()\n",
        "    while True:\n",
        "        s = input('계좌번호 성명 금액 = ').split()\n",
        "        ano, owner = s[0], s[1]\n",
        "        balance = int(s[2])\n",
        "        if not check_duplicate(ano):\n",
        "            break\n",
        "        else:\n",
        "            print('이미 존재하는 계좌번호입니다.')\n",
        "    acc = Account(ano, owner, balance)\n",
        "    acc_list.append(acc)"
      ],
      "execution_count": 125,
      "outputs": []
    },
    {
      "cell_type": "code",
      "metadata": {
        "id": "OG1dwgUskGNu"
      },
      "source": [
        "# 사용자로부터 필요한 정보를 입력받아서 계좌에 돈을 입금함\n",
        "def deposit_account():\n",
        "    s = input('계좌번호 금액 = ').split()\n",
        "    ano, amount = s[0], int(s[1])\n",
        "    for acc in acc_list:\n",
        "        if acc.ano == ano:\n",
        "            acc.deposit(amount)\n",
        "            return              # 리턴 위치 조심!!!!!!!"
      ],
      "execution_count": 117,
      "outputs": []
    },
    {
      "cell_type": "code",
      "metadata": {
        "id": "UUrP3RCukGLB"
      },
      "source": [
        "# 사용자로부터 필요한 정보를 입력 받아서 계좌에서 돈을 출금함\n",
        "def withdraw_account():\n",
        "    s = input('계좌번호 금액 = ').split()\n",
        "    ano, amount = s[0], int(s[1])\n",
        "    for acc in acc_list:\n",
        "        if acc.ano == ano:\n",
        "            acc.withdraw(amount)\n",
        "            return"
      ],
      "execution_count": 118,
      "outputs": []
    },
    {
      "cell_type": "code",
      "metadata": {
        "colab": {
          "base_uri": "https://localhost:8080/"
        },
        "id": "dDxiISqpfYMO",
        "outputId": "50d63d5b-42a5-4ad1-c748-51358feae7c6"
      },
      "source": [
        "while True:\n",
        "    menu = int(input('1:계좌생성, 2:계좌목록, 3:입금, 4:출금, 5:종료  '))\n",
        "    if menu == 5:\n",
        "        break\n",
        "    if menu == 1:\n",
        "        create_account()\n",
        "    elif menu == 2:\n",
        "        for account in acc_list:\n",
        "            print(account)\n",
        "    elif menu == 3:\n",
        "        deposit_account()\n",
        "    elif menu == 4:\n",
        "        withdraw_account()\n",
        "    else:\n",
        "        print('잘못된 명령어입니다.')\n",
        "\n",
        "    print()"
      ],
      "execution_count": null,
      "outputs": [
        {
          "output_type": "stream",
          "text": [
            "1:계좌생성, 2:계좌목록, 3:입금, 4:출금, 5:종료  1\n",
            "계좌번호 성명 금액 = 373021 rla 10000\n"
          ],
          "name": "stdout"
        }
      ]
    }
  ]
}