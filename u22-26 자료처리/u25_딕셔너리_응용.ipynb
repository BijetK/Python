{
  "nbformat": 4,
  "nbformat_minor": 0,
  "metadata": {
    "colab": {
      "name": "u25_딕셔너리 응용.ipynb",
      "provenance": [],
      "collapsed_sections": []
    },
    "kernelspec": {
      "name": "python3",
      "display_name": "Python 3"
    },
    "language_info": {
      "name": "python"
    }
  },
  "cells": [
    {
      "cell_type": "markdown",
      "metadata": {
        "id": "yJOcqESzoKXq"
      },
      "source": [
        "# Unit 25. 딕셔너리 응용"
      ]
    },
    {
      "cell_type": "markdown",
      "metadata": {
        "id": "PA6SYapgoXNJ"
      },
      "source": [
        "## 25.1 딕셔너리 조작"
      ]
    },
    {
      "cell_type": "code",
      "metadata": {
        "colab": {
          "base_uri": "https://localhost:8080/"
        },
        "id": "zPBWgyHYoWvk",
        "outputId": "a9e83ffd-49e4-4e9e-a321-5c51ce63069d"
      },
      "source": [
        "x = {'a': 10, 'b': 20, 'c': 30, 'd': 40}\n",
        "y = x.setdefault('e', 100)      # key값이랑 value 값        #setdefault 잘 사용안함\n",
        "x, y"
      ],
      "execution_count": 2,
      "outputs": [
        {
          "output_type": "execute_result",
          "data": {
            "text/plain": [
              "({'a': 10, 'b': 20, 'c': 30, 'd': 40, 'e': 100}, 100)"
            ]
          },
          "metadata": {
            "tags": []
          },
          "execution_count": 2
        }
      ]
    },
    {
      "cell_type": "code",
      "metadata": {
        "colab": {
          "base_uri": "https://localhost:8080/"
        },
        "id": "HH4ooH02owLL",
        "outputId": "3697824b-d7c8-4aa5-f781-270cfa0c0efa"
      },
      "source": [
        "x = {'a': 10, 'b': 20, 'c': 30, 'd': 40}\n",
        "x.update(a = 90)\n",
        "x"
      ],
      "execution_count": 7,
      "outputs": [
        {
          "output_type": "execute_result",
          "data": {
            "text/plain": [
              "{'a': 90, 'b': 20, 'c': 30, 'd': 40}"
            ]
          },
          "metadata": {
            "tags": []
          },
          "execution_count": 7
        }
      ]
    },
    {
      "cell_type": "code",
      "metadata": {
        "colab": {
          "base_uri": "https://localhost:8080/"
        },
        "id": "igKqjXrBo9_r",
        "outputId": "5bf2541d-44f2-4116-b938-6e4128e8eb5a"
      },
      "source": [
        "x.update(e = 100)\n",
        "x"
      ],
      "execution_count": 8,
      "outputs": [
        {
          "output_type": "execute_result",
          "data": {
            "text/plain": [
              "{'a': 90, 'b': 20, 'c': 30, 'd': 40, 'e': 100}"
            ]
          },
          "metadata": {
            "tags": []
          },
          "execution_count": 8
        }
      ]
    },
    {
      "cell_type": "code",
      "metadata": {
        "colab": {
          "base_uri": "https://localhost:8080/"
        },
        "id": "sB-_6fOFpA_x",
        "outputId": "1696fbfb-4db7-4b3c-da91-4f365da68f16"
      },
      "source": [
        "# 이거 하나만 제대로 알아두자\n",
        "x = {'a': 10, 'b': 20, 'c': 30, 'd': 40}\n",
        "x['e'] = 100                \n",
        "x"
      ],
      "execution_count": 10,
      "outputs": [
        {
          "output_type": "execute_result",
          "data": {
            "text/plain": [
              "{'a': 10, 'b': 20, 'c': 30, 'd': 40, 'e': 100}"
            ]
          },
          "metadata": {
            "tags": []
          },
          "execution_count": 10
        }
      ]
    },
    {
      "cell_type": "code",
      "metadata": {
        "colab": {
          "base_uri": "https://localhost:8080/"
        },
        "id": "inDYAlZhpMgY",
        "outputId": "0ddcd259-77c8-4030-bafd-fd88508a7461"
      },
      "source": [
        "x['a'] = 90\n",
        "x"
      ],
      "execution_count": 13,
      "outputs": [
        {
          "output_type": "execute_result",
          "data": {
            "text/plain": [
              "{'a': 90, 'b': 20, 'c': 30, 'd': 40, 'e': 100}"
            ]
          },
          "metadata": {
            "tags": []
          },
          "execution_count": 13
        }
      ]
    },
    {
      "cell_type": "code",
      "metadata": {
        "colab": {
          "base_uri": "https://localhost:8080/"
        },
        "id": "3id0dKDCqHs6",
        "outputId": "f7531626-b524-4d5d-a311-714908d0b695"
      },
      "source": [
        "x.pop('e')"
      ],
      "execution_count": 14,
      "outputs": [
        {
          "output_type": "execute_result",
          "data": {
            "text/plain": [
              "100"
            ]
          },
          "metadata": {
            "tags": []
          },
          "execution_count": 14
        }
      ]
    },
    {
      "cell_type": "code",
      "metadata": {
        "colab": {
          "base_uri": "https://localhost:8080/"
        },
        "id": "6Ydjo8C2qJZu",
        "outputId": "6666c720-73d4-47d7-9e49-24e58893d133"
      },
      "source": [
        "x"
      ],
      "execution_count": 15,
      "outputs": [
        {
          "output_type": "execute_result",
          "data": {
            "text/plain": [
              "{'a': 90, 'b': 20, 'c': 30, 'd': 40}"
            ]
          },
          "metadata": {
            "tags": []
          },
          "execution_count": 15
        }
      ]
    },
    {
      "cell_type": "markdown",
      "metadata": {
        "id": "YfVP2KLUqY6K"
      },
      "source": [
        "### 키-값쌍 모두 가져오기"
      ]
    },
    {
      "cell_type": "code",
      "metadata": {
        "colab": {
          "base_uri": "https://localhost:8080/"
        },
        "id": "Yusy0q1BqKWA",
        "outputId": "e9e7b699-ba68-4397-c3f5-f095e7a205f0"
      },
      "source": [
        "x = {'a': 10, 'b': 20, 'c': 30, 'd': 40}\n",
        "x.items()       # dict_items 뒤에 리스트 [ 안에 튜플 (키값, 밸류값)  ]"
      ],
      "execution_count": 16,
      "outputs": [
        {
          "output_type": "execute_result",
          "data": {
            "text/plain": [
              "dict_items([('a', 10), ('b', 20), ('c', 30), ('d', 40)])"
            ]
          },
          "metadata": {
            "tags": []
          },
          "execution_count": 16
        }
      ]
    },
    {
      "cell_type": "code",
      "metadata": {
        "colab": {
          "base_uri": "https://localhost:8080/"
        },
        "id": "MpVutAeDqi2P",
        "outputId": "4226ccc9-7a6b-4033-92d0-d433808b403a"
      },
      "source": [
        "x.keys()"
      ],
      "execution_count": 17,
      "outputs": [
        {
          "output_type": "execute_result",
          "data": {
            "text/plain": [
              "dict_keys(['a', 'b', 'c', 'd'])"
            ]
          },
          "metadata": {
            "tags": []
          },
          "execution_count": 17
        }
      ]
    },
    {
      "cell_type": "code",
      "metadata": {
        "colab": {
          "base_uri": "https://localhost:8080/"
        },
        "id": "PSAlcujhq-PD",
        "outputId": "a789cef1-240d-4816-be03-78da8e188d63"
      },
      "source": [
        "x.values()"
      ],
      "execution_count": 18,
      "outputs": [
        {
          "output_type": "execute_result",
          "data": {
            "text/plain": [
              "dict_values([10, 20, 30, 40])"
            ]
          },
          "metadata": {
            "tags": []
          },
          "execution_count": 18
        }
      ]
    },
    {
      "cell_type": "code",
      "metadata": {
        "colab": {
          "base_uri": "https://localhost:8080/"
        },
        "id": "5wfPfYraq_Ul",
        "outputId": "e866315f-f4ef-4586-957d-7a83dee2ccf6"
      },
      "source": [
        "# 키값과 밸류값을 바꾸고 싶을 때\n",
        "dict(zip(x.values(), x.keys()))"
      ],
      "execution_count": 20,
      "outputs": [
        {
          "output_type": "execute_result",
          "data": {
            "text/plain": [
              "{10: 'a', 20: 'b', 30: 'c', 40: 'd'}"
            ]
          },
          "metadata": {
            "tags": []
          },
          "execution_count": 20
        }
      ]
    },
    {
      "cell_type": "code",
      "metadata": {
        "colab": {
          "base_uri": "https://localhost:8080/"
        },
        "id": "2ct7bCk1rXRk",
        "outputId": "fe8ddc36-65c0-4de4-f280-a46245d7fa9d"
      },
      "source": [
        "k = ('a', 'b', 'c', 'd')\n",
        "v = (10, 20, 30, 40)\n",
        "dict(zip(k, v))"
      ],
      "execution_count": 21,
      "outputs": [
        {
          "output_type": "execute_result",
          "data": {
            "text/plain": [
              "{'a': 10, 'b': 20, 'c': 30, 'd': 40}"
            ]
          },
          "metadata": {
            "tags": []
          },
          "execution_count": 21
        }
      ]
    },
    {
      "cell_type": "markdown",
      "metadata": {
        "id": "PztINhJzsPXc"
      },
      "source": [
        "## 25.2 반복문"
      ]
    },
    {
      "cell_type": "code",
      "metadata": {
        "colab": {
          "base_uri": "https://localhost:8080/"
        },
        "id": "DtqPiOZdr7LU",
        "outputId": "4d6fd23d-2324-4bdf-e98a-787af75a3093"
      },
      "source": [
        "x = {'a': 10, 'b': 20, 'c': 30, 'd': 40}\n",
        "for key, value in x.items():\n",
        "    print(f'{key}:{value}')"
      ],
      "execution_count": 23,
      "outputs": [
        {
          "output_type": "stream",
          "text": [
            "a:10\n",
            "b:20\n",
            "c:30\n",
            "d:40\n"
          ],
          "name": "stdout"
        }
      ]
    },
    {
      "cell_type": "code",
      "metadata": {
        "colab": {
          "base_uri": "https://localhost:8080/"
        },
        "id": "XyMHONkDsbA6",
        "outputId": "dd76f6a3-43c4-45bd-b80a-1db3427364e5"
      },
      "source": [
        "for key in x.keys():\n",
        "    print(f'{key}:{x[key]}')"
      ],
      "execution_count": 25,
      "outputs": [
        {
          "output_type": "stream",
          "text": [
            "a:10\n",
            "b:20\n",
            "c:30\n",
            "d:40\n"
          ],
          "name": "stdout"
        }
      ]
    },
    {
      "cell_type": "markdown",
      "metadata": {
        "id": "d0V3W58JuF-g"
      },
      "source": [
        "## 25.3 딕셔너리 표현식"
      ]
    },
    {
      "cell_type": "code",
      "metadata": {
        "colab": {
          "base_uri": "https://localhost:8080/"
        },
        "id": "V6QTBDnFs7wd",
        "outputId": "2063fa64-f2be-4711-8456-019ac457139a"
      },
      "source": [
        "x = {'a': 10, 'b': 20, 'c': 30, 'd': 40}\n",
        "x2 = {key: value*value for key, value in x.items()}\n",
        "x2"
      ],
      "execution_count": 26,
      "outputs": [
        {
          "output_type": "execute_result",
          "data": {
            "text/plain": [
              "{'a': 100, 'b': 400, 'c': 900, 'd': 1600}"
            ]
          },
          "metadata": {
            "tags": []
          },
          "execution_count": 26
        }
      ]
    },
    {
      "cell_type": "code",
      "metadata": {
        "colab": {
          "base_uri": "https://localhost:8080/"
        },
        "id": "3DTx6p2luRw-",
        "outputId": "d25fc387-3132-42f1-e944-f3581aec62f7"
      },
      "source": [
        "x2 = {}\n",
        "for key, value in x.items():\n",
        "    x2[key] = value*value\n",
        "x2"
      ],
      "execution_count": 28,
      "outputs": [
        {
          "output_type": "execute_result",
          "data": {
            "text/plain": [
              "{'a': 100, 'b': 400, 'c': 900, 'd': 1600}"
            ]
          },
          "metadata": {
            "tags": []
          },
          "execution_count": 28
        }
      ]
    },
    {
      "cell_type": "markdown",
      "metadata": {
        "id": "LqM_8_uku8O7"
      },
      "source": [
        "## 25.4 딕셔너리 안에서 딕셔너리 사용"
      ]
    },
    {
      "cell_type": "code",
      "metadata": {
        "colab": {
          "base_uri": "https://localhost:8080/"
        },
        "id": "YJ5U4Lpguh49",
        "outputId": "e190a2d7-1d8a-4afb-fb57-a8c040c06735"
      },
      "source": [
        "terrestrial_planet = {\n",
        "    'Mercury': {\n",
        "        'mean_radius': 2439.7,\n",
        "        'mass': 3.3022E+23,\n",
        "        'orbital_period': 87.969\n",
        "    },\n",
        "    'Venus': {\n",
        "        'mean_radius': 6051.8,\n",
        "        'mass': 4.8676E+24,\n",
        "        'orbital_period': 224.70069,\n",
        "    },\n",
        "    'Earth': {\n",
        "        'mean_radius': 6371.0,\n",
        "        'mass': 5.97219E+24,\n",
        "        'orbital_period': 365.25641,\n",
        "    },\n",
        "    'Mars': {\n",
        "        'mean_radius': 3389.5,\n",
        "        'mass': 6.4185E+23,\n",
        "        'orbital_period': 686.9600,\n",
        "    }\n",
        "}\n",
        " \n",
        "print(terrestrial_planet['Venus']['mean_radius'])\n"
      ],
      "execution_count": 29,
      "outputs": [
        {
          "output_type": "stream",
          "text": [
            "6051.8\n"
          ],
          "name": "stdout"
        }
      ]
    },
    {
      "cell_type": "code",
      "metadata": {
        "id": "-8ZzxmLzvmHL"
      },
      "source": [
        "result = {'results': {'common': {'countPerPage': '10',\n",
        "   'currentPage': '1',\n",
        "   'errorCode': '0',\n",
        "   'errorMessage': '정상',\n",
        "   'totalCount': '1'},\n",
        "  'juso': [{'admCd': '4215013700',\n",
        "    'bdKdcd': '0',\n",
        "    'bdMgtSn': '4215013700100940000017657',\n",
        "    'bdNm': '경포대',\n",
        "    'buldMnnm': '365',\n",
        "    'buldSlno': '0',\n",
        "    'detBdNmList': '',\n",
        "    'emdNm': '저동',\n",
        "    'emdNo': '03',\n",
        "    'engAddr': '365, Gyeongpo-ro, Gangneung-si, Gangwon-do',\n",
        "    'jibunAddr': '강원도 강릉시 저동 94 경포대',\n",
        "    'liNm': '',\n",
        "    'lnbrMnnm': '94',\n",
        "    'lnbrSlno': '0',\n",
        "    'mtYn': '0',\n",
        "    'rn': '경포로',\n",
        "    'rnMgtSn': '421503220002',\n",
        "    'roadAddr': '강원도 강릉시 경포로 365(저동)',\n",
        "    'roadAddrPart1': '강원도 강릉시 경포로 365',\n",
        "    'roadAddrPart2': '(저동)',\n",
        "    'sggNm': '강릉시',\n",
        "    'siNm': '강원도',\n",
        "    'udrtYn': '0',\n",
        "    'zipNo': '25461'}]}}"
      ],
      "execution_count": 65,
      "outputs": []
    },
    {
      "cell_type": "code",
      "metadata": {
        "colab": {
          "base_uri": "https://localhost:8080/",
          "height": 35
        },
        "id": "FNco8OO70jjv",
        "outputId": "96b812aa-2d16-45c8-c1cf-18da99080a83"
      },
      "source": [
        "result['results']['juso'][0]['roadAddr']"
      ],
      "execution_count": 66,
      "outputs": [
        {
          "output_type": "execute_result",
          "data": {
            "application/vnd.google.colaboratory.intrinsic+json": {
              "type": "string"
            },
            "text/plain": [
              "'강원도 강릉시 경포로 365(저동)'"
            ]
          },
          "metadata": {
            "tags": []
          },
          "execution_count": 66
        }
      ]
    },
    {
      "cell_type": "code",
      "metadata": {
        "id": "vg3--N8I0KNF"
      },
      "source": [
        "result = {'documents': [{'address': {'address_name': '강원 강릉시 저동 94',\n",
        "    'b_code': '4215013700',\n",
        "    'h_code': '4215066500',\n",
        "    'main_address_no': '94',\n",
        "    'mountain_yn': 'N',\n",
        "    'region_1depth_name': '강원',\n",
        "    'region_2depth_name': '강릉시',\n",
        "    'region_3depth_h_name': '경포동',\n",
        "    'region_3depth_name': '저동',\n",
        "    'sub_address_no': '',\n",
        "    'x': '128.896538649542',\n",
        "    'y': '37.7955687639648'},\n",
        "   'address_name': '강원 강릉시 경포로 365',\n",
        "   'address_type': 'ROAD_ADDR',\n",
        "   'road_address': {'address_name': '강원 강릉시 경포로 365',\n",
        "    'building_name': '경포대',\n",
        "    'main_building_no': '365',\n",
        "    'region_1depth_name': '강원',\n",
        "    'region_2depth_name': '강릉시',\n",
        "    'region_3depth_name': '저동',\n",
        "    'road_name': '경포로',\n",
        "    'sub_building_no': '',\n",
        "    'underground_yn': 'N',\n",
        "    'x': '128.896538649542',\n",
        "    'y': '37.7955687639648',\n",
        "    'zone_no': '25461'},\n",
        "   'x': '128.896538649542',\n",
        "   'y': '37.7955687639648'}],\n",
        " 'meta': {'is_end': True, 'pageable_count': 1, 'total_count': 1}}\n",
        "\n",
        " # x 경도 y 위도\n"
      ],
      "execution_count": 67,
      "outputs": []
    },
    {
      "cell_type": "code",
      "metadata": {
        "colab": {
          "base_uri": "https://localhost:8080/",
          "height": 35
        },
        "id": "d9vKXQyy2S5o",
        "outputId": "0a7ff0ef-6d7e-4d1d-cb27-c73a16558195"
      },
      "source": [
        "result['documents'][0]['x']         #[0] 어레이 : 리스트로 시작할 때"
      ],
      "execution_count": 68,
      "outputs": [
        {
          "output_type": "execute_result",
          "data": {
            "application/vnd.google.colaboratory.intrinsic+json": {
              "type": "string"
            },
            "text/plain": [
              "'128.896538649542'"
            ]
          },
          "metadata": {
            "tags": []
          },
          "execution_count": 68
        }
      ]
    },
    {
      "cell_type": "code",
      "metadata": {
        "colab": {
          "base_uri": "https://localhost:8080/"
        },
        "id": "UeRESgDD2_La",
        "outputId": "0dcf92e3-8dfe-4dbd-d0ee-e01fa9223908"
      },
      "source": [
        "lat = float(result['documents'][0]['y'])\n",
        "lng = float(result['documents'][0]['x'])\n",
        "print(f'위도 : {lat:.6f}, 경도 : {lng:.6f}')"
      ],
      "execution_count": 69,
      "outputs": [
        {
          "output_type": "stream",
          "text": [
            "위도 : 37.795569, 경도 : 128.896539\n"
          ],
          "name": "stdout"
        }
      ]
    }
  ]
}