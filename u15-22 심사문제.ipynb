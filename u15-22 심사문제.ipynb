{
  "nbformat": 4,
  "nbformat_minor": 0,
  "metadata": {
    "colab": {
      "name": "심사문제(2).ipynb",
      "provenance": [],
      "collapsed_sections": []
    },
    "kernelspec": {
      "name": "python3",
      "display_name": "Python 3"
    },
    "language_info": {
      "name": "python"
    }
  },
  "cells": [
    {
      "cell_type": "code",
      "metadata": {
        "colab": {
          "base_uri": "https://localhost:8080/"
        },
        "id": "W48uPKNVBH2W",
        "outputId": "58415bc1-9f8a-4158-fe48-12af2710d0c3"
      },
      "source": [
        "age = int(input())\n",
        "balance = 9000    # 교통카드 잔액\n",
        "\n",
        "if 12 >= age >= 7:\n",
        "    balance -= 650\n",
        "elif 18>= age >= 13:\n",
        "    balance -= 1050\n",
        "else:\n",
        "    balance -= 1250\n",
        "print(balance)"
      ],
      "execution_count": null,
      "outputs": [
        {
          "output_type": "stream",
          "text": [
            "12\n",
            "8350\n"
          ],
          "name": "stdout"
        }
      ]
    },
    {
      "cell_type": "code",
      "metadata": {
        "id": "V-Iy5z7OB-7z"
      },
      "source": [
        "for i in range(10, 0):\n",
        "    print(i)"
      ],
      "execution_count": null,
      "outputs": []
    },
    {
      "cell_type": "code",
      "metadata": {
        "colab": {
          "base_uri": "https://localhost:8080/"
        },
        "id": "aWuFENTZCATt",
        "outputId": "ed9e01ac-b8a0-48c8-85a5-920c0f42277b"
      },
      "source": [
        "count = int(input())\n",
        "\n",
        "for i in range(3):\n",
        "    print('i의 값은', end=' ')\n",
        "    print(i)"
      ],
      "execution_count": null,
      "outputs": [
        {
          "output_type": "stream",
          "text": [
            "3\n",
            "i의 값은 0\n",
            "i의 값은 1\n",
            "i의 값은 2\n"
          ],
          "name": "stdout"
        }
      ]
    },
    {
      "cell_type": "code",
      "metadata": {
        "colab": {
          "base_uri": "https://localhost:8080/"
        },
        "id": "GmpEYYWtC8tf",
        "outputId": "177fa6a7-9cad-4fd4-e0e9-81ff114e980a"
      },
      "source": [
        "number = int(input())\n",
        "\n",
        "for i in range(1, 10):\n",
        "    print(f'{number} * {i} = {number * i}')\n",
        "    print(number, '*', i, '=', number * i)"
      ],
      "execution_count": null,
      "outputs": [
        {
          "output_type": "stream",
          "text": [
            "3\n",
            "3 * 1 = 3\n",
            "3 * 1 = 3\n",
            "3 * 2 = 6\n",
            "3 * 2 = 6\n",
            "3 * 3 = 9\n",
            "3 * 3 = 9\n",
            "3 * 4 = 12\n",
            "3 * 4 = 12\n",
            "3 * 5 = 15\n",
            "3 * 5 = 15\n",
            "3 * 6 = 18\n",
            "3 * 6 = 18\n",
            "3 * 7 = 21\n",
            "3 * 7 = 21\n",
            "3 * 8 = 24\n",
            "3 * 8 = 24\n",
            "3 * 9 = 27\n",
            "3 * 9 = 27\n"
          ],
          "name": "stdout"
        }
      ]
    },
    {
      "cell_type": "code",
      "metadata": {
        "colab": {
          "base_uri": "https://localhost:8080/"
        },
        "id": "tCuaa4AvEUMA",
        "outputId": "de67cf15-e86b-4830-ff05-70e6b97fe7c5"
      },
      "source": [
        "balance = int(input())\n",
        "\n",
        "while balance > 0:\n",
        "    balance -= 1350\n",
        "    if balance < 0:\n",
        "        break\n",
        "    print(balance)"
      ],
      "execution_count": null,
      "outputs": [
        {
          "output_type": "stream",
          "text": [
            "13500\n",
            "12150\n",
            "10800\n",
            "9450\n",
            "8100\n",
            "6750\n",
            "5400\n",
            "4050\n",
            "2700\n",
            "1350\n",
            "0\n"
          ],
          "name": "stdout"
        }
      ]
    },
    {
      "cell_type": "code",
      "metadata": {
        "colab": {
          "base_uri": "https://localhost:8080/"
        },
        "id": "eC9nqJd1Eq9p",
        "outputId": "fc36b1b8-768e-4f75-a21d-7db9e7ec3373"
      },
      "source": [
        "start, stop = map(int, input().split())\n",
        "\n",
        "i = start\n",
        "\n",
        "while True:\n",
        "    if i % 10 == 3:\n",
        "        i += 1\n",
        "        continue\n",
        "\n",
        "    if i > stop:\n",
        "        break\n",
        "    print(i)\n",
        "    i += 1"
      ],
      "execution_count": null,
      "outputs": [
        {
          "output_type": "stream",
          "text": [
            "1 20\n",
            "1\n",
            "2\n",
            "4\n",
            "5\n",
            "6\n",
            "7\n",
            "8\n",
            "9\n",
            "10\n",
            "11\n",
            "12\n",
            "14\n",
            "15\n",
            "16\n",
            "17\n",
            "18\n",
            "19\n",
            "20\n"
          ],
          "name": "stdout"
        }
      ]
    },
    {
      "cell_type": "code",
      "metadata": {
        "colab": {
          "base_uri": "https://localhost:8080/"
        },
        "id": "uQRbf8VeIuCh",
        "outputId": "f69f5355-0e7c-4144-8646-7638f872a8cd"
      },
      "source": [
        "height = int(input())\n",
        "\n",
        "for i in range(height):\n",
        "    print(' ' * (height - i) + '*' * int(2*i+1))"
      ],
      "execution_count": null,
      "outputs": [
        {
          "output_type": "stream",
          "text": [
            "4\n",
            "    *\n",
            "   ***\n",
            "  *****\n",
            " *******\n"
          ],
          "name": "stdout"
        }
      ]
    },
    {
      "cell_type": "code",
      "metadata": {
        "colab": {
          "base_uri": "https://localhost:8080/"
        },
        "id": "Dwl--o3tLeIE",
        "outputId": "6f0ee5fd-9a4c-4c16-fd35-ebcef7229168"
      },
      "source": [
        "height = int(input())\n",
        "\n",
        "for i in range(height):\n",
        "    for j in reversed(range(height)):\n",
        "        if j > i:\n",
        "            print(' ', end='')\n",
        "        else:\n",
        "            print('*', end='')\n",
        "    for j in range(height):\n",
        "        if j < i:\n",
        "            print('*', end='')\n",
        "    print()"
      ],
      "execution_count": null,
      "outputs": [
        {
          "output_type": "stream",
          "text": [
            "5\n",
            "    *\n",
            "   ***\n",
            "  *****\n",
            " *******\n",
            "*********\n"
          ],
          "name": "stdout"
        }
      ]
    },
    {
      "cell_type": "code",
      "metadata": {
        "colab": {
          "base_uri": "https://localhost:8080/"
        },
        "id": "jqYnILa1Mglj",
        "outputId": "447d94dd-7ca2-4eab-8605-32369703950b"
      },
      "source": [
        "start, stop = map(int, input().split())\n",
        "\n",
        "for i in range(start, stop + 1):\n",
        "    print('Fizz' * (i % 5 == 0) + 'Buzz' * (i % 7 == 0) or i)"
      ],
      "execution_count": null,
      "outputs": [
        {
          "output_type": "stream",
          "text": [
            "35 40\n",
            "Fizzbuzz\n",
            "36\n",
            "37\n",
            "38\n",
            "39\n",
            "Fizz\n"
          ],
          "name": "stdout"
        }
      ]
    },
    {
      "cell_type": "code",
      "metadata": {
        "colab": {
          "base_uri": "https://localhost:8080/"
        },
        "id": "oNBnbzPhTYzU",
        "outputId": "afd6dda1-abdd-414c-d652-d7c8bb759907"
      },
      "source": [
        "start, stop = map(int, input().split())\n",
        "\n",
        "list_origin = [2**i for i in range(start, stop+1)]\n",
        "\n",
        "del list_origin[1]\n",
        "del list_origin[-2]\n",
        "\n",
        "print(list_origin)"
      ],
      "execution_count": null,
      "outputs": [
        {
          "output_type": "stream",
          "text": [
            "1 10\n",
            "[2, 8, 16, 32, 64, 128, 256, 1024]\n"
          ],
          "name": "stdout"
        }
      ]
    },
    {
      "cell_type": "code",
      "metadata": {
        "colab": {
          "base_uri": "https://localhost:8080/"
        },
        "id": "C7VpX98GUgjI",
        "outputId": "b48ec33b-e2bc-49e8-df3c-a3bf77b15c99"
      },
      "source": [
        "from datetime import date\n",
        "today = date.today()\n",
        "today.year, today.month, today.day"
      ],
      "execution_count": null,
      "outputs": [
        {
          "output_type": "execute_result",
          "data": {
            "text/plain": [
              "(2021, 7, 29)"
            ]
          },
          "metadata": {
            "tags": []
          },
          "execution_count": 47
        }
      ]
    },
    {
      "cell_type": "markdown",
      "metadata": {
        "id": "1GjsMD9OcI4a"
      },
      "source": [
        "### 추가문제 1\n",
        "- a + b + c = 1000\n",
        "- a^2 + b^2 = c^2 인 피타고라스 수 "
      ]
    },
    {
      "cell_type": "code",
      "metadata": {
        "colab": {
          "base_uri": "https://localhost:8080/"
        },
        "id": "LQlOW3I3Rc4t",
        "outputId": "d7858a05-9c8f-40a2-d284-fd60eb7daf18"
      },
      "source": [
        "for a in range(1, 333):\n",
        "    for b in range(1, 1000):\n",
        "        if a * a + b * b == (1000 - b - a) ** 2:\n",
        "            print(a, b, 1000-b-a)"
      ],
      "execution_count": null,
      "outputs": [
        {
          "output_type": "stream",
          "text": [
            "200 375 425\n"
          ],
          "name": "stdout"
        }
      ]
    },
    {
      "cell_type": "code",
      "metadata": {
        "colab": {
          "base_uri": "https://localhost:8080/"
        },
        "id": "6N2GxH2WwqFq",
        "outputId": "af2ce71c-088d-4558-ce7f-c5e567427393"
      },
      "source": [
        "for a in range(1, 333):\n",
        "    for b in range(a + 1, 1000):\n",
        "        if a * a + b * b == (1000 - b - a) ** 2:\n",
        "            print(a, b, 1000-b-a)"
      ],
      "execution_count": 2,
      "outputs": [
        {
          "output_type": "stream",
          "text": [
            "200 375 425\n"
          ],
          "name": "stdout"
        }
      ]
    },
    {
      "cell_type": "markdown",
      "metadata": {
        "id": "xbg-KiOTU5TB"
      },
      "source": [
        "### 추가문제 2\n",
        "- 본인의 생일을 1998 12 15와 같이 년 월 일로 입력받아 오늘 날짜의 만나이를 구하는 프로그램을 작성하시오"
      ]
    },
    {
      "cell_type": "code",
      "metadata": {
        "colab": {
          "base_uri": "https://localhost:8080/"
        },
        "id": "gDGe_zMnZKNj",
        "outputId": "13a23d56-4a15-468b-8b36-f7d2fa0efd74"
      },
      "source": [
        "from datetime import date\n",
        "today = date.today()\n",
        "today.year, today.month, today.day"
      ],
      "execution_count": null,
      "outputs": [
        {
          "output_type": "execute_result",
          "data": {
            "text/plain": [
              "(2021, 7, 29)"
            ]
          },
          "metadata": {
            "tags": []
          },
          "execution_count": 57
        }
      ]
    },
    {
      "cell_type": "code",
      "metadata": {
        "colab": {
          "base_uri": "https://localhost:8080/"
        },
        "id": "QoMqyAXpZKFZ",
        "outputId": "b0a9939b-ef85-4f5b-8e06-7ca214e2d173"
      },
      "source": [
        "from datetime import date\n",
        "today = date.today()\n",
        "today.year, today.month, today.day\n",
        "\n",
        "year, month, day = map(int, input().split())\n",
        "\n",
        "manage = today.year - year\n",
        "\n",
        "if today.month < month:\n",
        "    age = manage - 1\n",
        "elif today.month > month:\n",
        "    age = manage\n",
        "else:\n",
        "    if today.day < day:\n",
        "        age = manage - 1\n",
        "    else:\n",
        "        age = manage\n",
        "print(age)"
      ],
      "execution_count": null,
      "outputs": [
        {
          "output_type": "stream",
          "text": [
            "1994 11 08\n",
            "26\n"
          ],
          "name": "stdout"
        }
      ]
    },
    {
      "cell_type": "markdown",
      "metadata": {
        "id": "wMtKEwAwVAT_"
      },
      "source": [
        "### 추가문제 3\n",
        "- 디지털 시계에 하루동안(00:00 ~ 23:59) 3이 표시되는 시간을 초로 환산하면 총 몇초일까요?\n",
        "\n",
        "- tip. 숫자가 아닌 문자 관념으로 접근해보길\n"
      ]
    },
    {
      "cell_type": "code",
      "metadata": {
        "colab": {
          "base_uri": "https://localhost:8080/"
        },
        "id": "i5Btku86UtCE",
        "outputId": "53644961-2bd3-4ec8-c198-7386b0b09d6f"
      },
      "source": [
        "# 디지털 시계에 하루동안(00:00 ~ 23:59) 3이 표시되는 시간을 초로 환산하면 총 몇초일까요?\n",
        "total = 0\n",
        "\n",
        "for i in range(0, 24):                      # i는 시간(hour)\n",
        "    if i % 10 == 3:                             #그 시간 내내 3이 표시되므로 3600초\n",
        "        total += 3600\n",
        "    else:\n",
        "        for k in range(0,6):                # k는 분침의 10의 자리\n",
        "            if k == 3:                     #10분 내내 3이 표시되므로 600초\n",
        "                total += 600\n",
        "            else:\n",
        "                for l in range(0, 10):      # l은 분침의 1의 자리\n",
        "                    if l == 3:             #1분 내내 3이 표시되므로 60초\n",
        "                        total += 60\n",
        "\n",
        "print(f'{total}초입니다.')"
      ],
      "execution_count": null,
      "outputs": [
        {
          "output_type": "stream",
          "text": [
            "29700초입니다.\n"
          ],
          "name": "stdout"
        }
      ]
    },
    {
      "cell_type": "code",
      "metadata": {
        "id": "m169Ir7w165F"
      },
      "source": [
        ""
      ],
      "execution_count": null,
      "outputs": []
    },
    {
      "cell_type": "code",
      "metadata": {
        "colab": {
          "base_uri": "https://localhost:8080/"
        },
        "id": "4uAgm28xZmXy",
        "outputId": "d3e1463d-5705-44b2-f2a6-2c8ee809e9af"
      },
      "source": [
        "empty_list = []\n",
        "\n",
        "for i in range(0, 24):\n",
        "    for k in range(0, 60):\n",
        "        j = 100 * i + k\n",
        "        empty_list.append(j)\n",
        "\n",
        "for i in empty_list:\n",
        "    if i % 1000 != 300 or i % 100 != 30 or i % 10 != 3:\n",
        "        empty_list.remove(i)\n",
        "\n",
        "print(len(empty_list))"
      ],
      "execution_count": null,
      "outputs": [
        {
          "output_type": "stream",
          "text": [
            "720\n"
          ],
          "name": "stdout"
        }
      ]
    },
    {
      "cell_type": "code",
      "metadata": {
        "colab": {
          "base_uri": "https://localhost:8080/"
        },
        "id": "PosaZtZ-zoZ7",
        "outputId": "d90a1aaf-129c-4b3b-8cdd-d94db2a172e9"
      },
      "source": [
        "total_seconds = 0\n",
        "for hour in range(24):\n",
        "    for min in range(60):\n",
        "        display = f'{hour:02d}:{min:02d}'\n",
        "        if '3' in display:\n",
        "            total_seconds += 60\n",
        "print(total_seconds)"
      ],
      "execution_count": 6,
      "outputs": [
        {
          "output_type": "stream",
          "text": [
            "29700\n"
          ],
          "name": "stdout"
        }
      ]
    }
  ]
}