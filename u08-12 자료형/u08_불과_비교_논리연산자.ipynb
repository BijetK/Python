{
  "nbformat": 4,
  "nbformat_minor": 2,
  "metadata": {
    "colab": {
      "name": "u08_불과 비교/논리연산자.ipynb",
      "provenance": [],
      "collapsed_sections": []
    },
    "kernelspec": {
      "name": "python3",
      "display_name": "Python 3"
    },
    "language_info": {
      "name": "python"
    }
  },
  "cells": [
    {
      "cell_type": "markdown",
      "source": [
        "# Unit 8. 불과 비교/논리연산자"
      ],
      "metadata": {
        "id": "739wvDv1ehm2"
      }
    },
    {
      "cell_type": "markdown",
      "source": [
        "## 8.1 불(Bool)과 비교연산자"
      ],
      "metadata": {
        "id": "mDYV87hrem7I"
      }
    },
    {
      "cell_type": "code",
      "execution_count": 1,
      "source": [
        "True, False"
      ],
      "outputs": [
        {
          "output_type": "execute_result",
          "data": {
            "text/plain": [
              "(True, False)"
            ]
          },
          "metadata": {
            "tags": []
          },
          "execution_count": 1
        }
      ],
      "metadata": {
        "colab": {
          "base_uri": "https://localhost:8080/"
        },
        "id": "5Tq33Rx3ek6X",
        "outputId": "5ea6cb23-2c74-44ac-df24-fde145952f02"
      }
    },
    {
      "cell_type": "code",
      "execution_count": 2,
      "source": [
        "# >, >= , <, <=, ==, !=\r\n",
        "10 >= 5"
      ],
      "outputs": [
        {
          "output_type": "execute_result",
          "data": {
            "text/plain": [
              "True"
            ]
          },
          "metadata": {
            "tags": []
          },
          "execution_count": 2
        }
      ],
      "metadata": {
        "colab": {
          "base_uri": "https://localhost:8080/"
        },
        "id": "xioe5yKme9ox",
        "outputId": "372161ff-aab4-4bca-b19e-5fada8ec33c4"
      }
    },
    {
      "cell_type": "code",
      "execution_count": 3,
      "source": [
        "a = 10 != 5\r\n",
        "a"
      ],
      "outputs": [
        {
          "output_type": "execute_result",
          "data": {
            "text/plain": [
              "True"
            ]
          },
          "metadata": {
            "tags": []
          },
          "execution_count": 3
        }
      ],
      "metadata": {
        "colab": {
          "base_uri": "https://localhost:8080/"
        },
        "id": "4GhSMmSdgAau",
        "outputId": "c224f86d-9aa9-4771-f828-672b6a00c1c1"
      }
    },
    {
      "cell_type": "markdown",
      "source": [
        "## 8.2 논리연산자\n",
        "- and, or, not"
      ],
      "metadata": {
        "id": "C3fl0eYnjUQI"
      }
    },
    {
      "cell_type": "code",
      "execution_count": 7,
      "source": [
        "not True and False or not False"
      ],
      "outputs": [
        {
          "output_type": "execute_result",
          "data": {
            "text/plain": [
              "True"
            ]
          },
          "metadata": {
            "tags": []
          },
          "execution_count": 7
        }
      ],
      "metadata": {
        "colab": {
          "base_uri": "https://localhost:8080/"
        },
        "id": "e2ah5aCYgE0p",
        "outputId": "b282b0d4-da01-4092-a1a1-74dc40ecb0cd"
      }
    },
    {
      "cell_type": "code",
      "execution_count": 9,
      "source": [
        "# x > 10, x < 5\r\n",
        "x = 6\r\n",
        "x > 10 or x < 5"
      ],
      "outputs": [
        {
          "output_type": "execute_result",
          "data": {
            "text/plain": [
              "False"
            ]
          },
          "metadata": {
            "tags": []
          },
          "execution_count": 9
        }
      ],
      "metadata": {
        "colab": {
          "base_uri": "https://localhost:8080/"
        },
        "id": "_H_KJxRrkcVK",
        "outputId": "65ea2406-cbda-4a4f-e5d2-bd5d806bc19b"
      }
    },
    {
      "cell_type": "code",
      "execution_count": 10,
      "source": [
        "# 5 < x < 10\r\n",
        "x > 5 and x < 10        #다른 프로그램 기준"
      ],
      "outputs": [
        {
          "output_type": "execute_result",
          "data": {
            "text/plain": [
              "True"
            ]
          },
          "metadata": {
            "tags": []
          },
          "execution_count": 10
        }
      ],
      "metadata": {
        "colab": {
          "base_uri": "https://localhost:8080/"
        },
        "id": "WpBn4eYVknWJ",
        "outputId": "76f64203-11bf-4a83-d1db-0633973e820f"
      }
    },
    {
      "cell_type": "code",
      "execution_count": 11,
      "source": [
        "5 < x < 10      # 파이썬에서는 이런 수식 사용 가능(파이썬 only)"
      ],
      "outputs": [
        {
          "output_type": "execute_result",
          "data": {
            "text/plain": [
              "True"
            ]
          },
          "metadata": {
            "tags": []
          },
          "execution_count": 11
        }
      ],
      "metadata": {
        "colab": {
          "base_uri": "https://localhost:8080/"
        },
        "id": "LR8NaJ5Nku1k",
        "outputId": "1940e8c9-bb8d-4b81-c217-e6f69dda4c02"
      }
    },
    {
      "cell_type": "markdown",
      "source": [
        "### 정수, 실수, 문자열"
      ],
      "metadata": {
        "id": "bgue0q0rlJfg"
      }
    },
    {
      "cell_type": "code",
      "execution_count": 13,
      "source": [
        "bool(0), bool(1), bool(4)"
      ],
      "outputs": [
        {
          "output_type": "execute_result",
          "data": {
            "text/plain": [
              "(False, True, True)"
            ]
          },
          "metadata": {
            "tags": []
          },
          "execution_count": 13
        }
      ],
      "metadata": {
        "colab": {
          "base_uri": "https://localhost:8080/"
        },
        "id": "AKnyuhjSk0oV",
        "outputId": "cdbe5f46-3017-4cc5-a88f-a041779c9128"
      }
    },
    {
      "cell_type": "code",
      "execution_count": 14,
      "source": [
        "bool(0.0), bool(1.), bool(-4.1)"
      ],
      "outputs": [
        {
          "output_type": "execute_result",
          "data": {
            "text/plain": [
              "(False, True, True)"
            ]
          },
          "metadata": {
            "tags": []
          },
          "execution_count": 14
        }
      ],
      "metadata": {
        "colab": {
          "base_uri": "https://localhost:8080/"
        },
        "id": "u8ihYno0lcYj",
        "outputId": "3083c5af-f8b4-42c2-ff04-caf179a1cefa"
      }
    },
    {
      "cell_type": "code",
      "execution_count": 15,
      "source": [
        "bool(' '), bool('s')"
      ],
      "outputs": [
        {
          "output_type": "execute_result",
          "data": {
            "text/plain": [
              "(True, True)"
            ]
          },
          "metadata": {
            "tags": []
          },
          "execution_count": 15
        }
      ],
      "metadata": {
        "colab": {
          "base_uri": "https://localhost:8080/"
        },
        "id": "eUn5k3zflmsE",
        "outputId": "77a2548d-1404-4f13-d952-355c9fc3a3fd"
      }
    },
    {
      "cell_type": "code",
      "execution_count": 16,
      "source": [
        "if 4:\r\n",
        "    print('4 is True')"
      ],
      "outputs": [
        {
          "output_type": "stream",
          "name": "stdout",
          "text": [
            "4 is True\n"
          ]
        }
      ],
      "metadata": {
        "colab": {
          "base_uri": "https://localhost:8080/"
        },
        "id": "bq_c8qbFlpnq",
        "outputId": "f7cfde29-ed7a-4dae-d1d4-63f515f1b8db"
      }
    },
    {
      "cell_type": "code",
      "execution_count": 17,
      "source": [
        "int(True), int(False)"
      ],
      "outputs": [
        {
          "output_type": "execute_result",
          "data": {
            "text/plain": [
              "(1, 0)"
            ]
          },
          "metadata": {
            "tags": []
          },
          "execution_count": 17
        }
      ],
      "metadata": {
        "colab": {
          "base_uri": "https://localhost:8080/"
        },
        "id": "Tcd10Cpnl5Uh",
        "outputId": "a9b63d4f-b980-44a9-8f40-018bb3cd226c"
      }
    },
    {
      "cell_type": "markdown",
      "source": [
        "### short-circuit evaluation"
      ],
      "metadata": {
        "id": "nGtSOZ7umpFE"
      }
    },
    {
      "cell_type": "code",
      "execution_count": 19,
      "source": [
        "1 or 'python'       #or 앞의 값이 True면 그냥 그 값을 출력한다"
      ],
      "outputs": [
        {
          "output_type": "execute_result",
          "data": {
            "text/plain": [
              "1"
            ]
          },
          "metadata": {
            "tags": []
          },
          "execution_count": 19
        }
      ],
      "metadata": {
        "colab": {
          "base_uri": "https://localhost:8080/"
        },
        "id": "4iJ8T3PfmDwa",
        "outputId": "fefe9d3d-1822-4b91-f453-f5739c273747"
      }
    },
    {
      "cell_type": "code",
      "execution_count": 21,
      "source": [
        "0 or 'python'       #0이 False라 0을 넘김"
      ],
      "outputs": [
        {
          "output_type": "execute_result",
          "data": {
            "text/plain": [
              "'python'"
            ],
            "application/vnd.google.colaboratory.intrinsic+json": {
              "type": "string"
            }
          },
          "metadata": {
            "tags": []
          },
          "execution_count": 21
        }
      ],
      "metadata": {
        "colab": {
          "base_uri": "https://localhost:8080/",
          "height": 35
        },
        "id": "qmyVIE2dm2Dv",
        "outputId": "1a44d979-372f-4f18-d1c0-d709f5bcd76e"
      }
    },
    {
      "cell_type": "code",
      "execution_count": 22,
      "source": [
        "1 and 'python'"
      ],
      "outputs": [
        {
          "output_type": "execute_result",
          "data": {
            "text/plain": [
              "'python'"
            ],
            "application/vnd.google.colaboratory.intrinsic+json": {
              "type": "string"
            }
          },
          "metadata": {
            "tags": []
          },
          "execution_count": 22
        }
      ],
      "metadata": {
        "colab": {
          "base_uri": "https://localhost:8080/",
          "height": 35
        },
        "id": "QwwI9xV0m8oo",
        "outputId": "b195ae81-0d56-482a-d94e-8a011d5cb856"
      }
    },
    {
      "cell_type": "code",
      "execution_count": 20,
      "source": [
        "0 and 'python'      #and 앞의 0에서 이미 끝난거라 뒤의 파이썬은 신경도 안씀"
      ],
      "outputs": [
        {
          "output_type": "execute_result",
          "data": {
            "text/plain": [
              "0"
            ]
          },
          "metadata": {
            "tags": []
          },
          "execution_count": 20
        }
      ],
      "metadata": {
        "colab": {
          "base_uri": "https://localhost:8080/"
        },
        "id": "vtTc4GaEmiOC",
        "outputId": "ccef6da4-4da2-4ed0-eb79-24081c4969eb"
      }
    }
  ]
}